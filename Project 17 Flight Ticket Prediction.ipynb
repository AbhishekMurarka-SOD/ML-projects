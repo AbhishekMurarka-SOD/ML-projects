{
 "cells": [
  {
   "cell_type": "markdown",
   "metadata": {},
   "source": [
    "# Project 17 Flight Ticket price Prediction\n",
    "--> Aim is to predict the price of Flight Ticket. "
   ]
  },
  {
   "cell_type": "markdown",
   "metadata": {},
   "source": [
    "## Lets Load the Important Libraries"
   ]
  },
  {
   "cell_type": "code",
   "execution_count": 1,
   "metadata": {},
   "outputs": [],
   "source": [
    "import pandas as pd\n",
    "import numpy as np\n",
    "import seaborn as sns\n",
    "import matplotlib.pyplot as plt\n",
    "%matplotlib inline\n",
    "import warnings\n",
    "warnings.filterwarnings('ignore')"
   ]
  },
  {
   "cell_type": "markdown",
   "metadata": {},
   "source": [
    "## Lets Load the dataset"
   ]
  },
  {
   "cell_type": "code",
   "execution_count": 120,
   "metadata": {
    "scrolled": true
   },
   "outputs": [
    {
     "data": {
      "text/html": [
       "<div>\n",
       "<style scoped>\n",
       "    .dataframe tbody tr th:only-of-type {\n",
       "        vertical-align: middle;\n",
       "    }\n",
       "\n",
       "    .dataframe tbody tr th {\n",
       "        vertical-align: top;\n",
       "    }\n",
       "\n",
       "    .dataframe thead th {\n",
       "        text-align: right;\n",
       "    }\n",
       "</style>\n",
       "<table border=\"1\" class=\"dataframe\">\n",
       "  <thead>\n",
       "    <tr style=\"text-align: right;\">\n",
       "      <th></th>\n",
       "      <th>Airline</th>\n",
       "      <th>Date_of_Journey</th>\n",
       "      <th>Source</th>\n",
       "      <th>Destination</th>\n",
       "      <th>Route</th>\n",
       "      <th>Dep_Time</th>\n",
       "      <th>Arrival_Time</th>\n",
       "      <th>Duration</th>\n",
       "      <th>Total_Stops</th>\n",
       "      <th>Additional_Info</th>\n",
       "      <th>Price</th>\n",
       "    </tr>\n",
       "  </thead>\n",
       "  <tbody>\n",
       "    <tr>\n",
       "      <td>0</td>\n",
       "      <td>IndiGo</td>\n",
       "      <td>24/03/2019</td>\n",
       "      <td>Banglore</td>\n",
       "      <td>New Delhi</td>\n",
       "      <td>BLR → DEL</td>\n",
       "      <td>22:20</td>\n",
       "      <td>01:10 22 Mar</td>\n",
       "      <td>2h 50m</td>\n",
       "      <td>non-stop</td>\n",
       "      <td>No info</td>\n",
       "      <td>3897</td>\n",
       "    </tr>\n",
       "    <tr>\n",
       "      <td>1</td>\n",
       "      <td>Air India</td>\n",
       "      <td>1/05/2019</td>\n",
       "      <td>Kolkata</td>\n",
       "      <td>Banglore</td>\n",
       "      <td>CCU → IXR → BBI → BLR</td>\n",
       "      <td>05:50</td>\n",
       "      <td>13:15</td>\n",
       "      <td>7h 25m</td>\n",
       "      <td>2 stops</td>\n",
       "      <td>No info</td>\n",
       "      <td>7662</td>\n",
       "    </tr>\n",
       "    <tr>\n",
       "      <td>2</td>\n",
       "      <td>Jet Airways</td>\n",
       "      <td>9/06/2019</td>\n",
       "      <td>Delhi</td>\n",
       "      <td>Cochin</td>\n",
       "      <td>DEL → LKO → BOM → COK</td>\n",
       "      <td>09:25</td>\n",
       "      <td>04:25 10 Jun</td>\n",
       "      <td>19h</td>\n",
       "      <td>2 stops</td>\n",
       "      <td>No info</td>\n",
       "      <td>13882</td>\n",
       "    </tr>\n",
       "    <tr>\n",
       "      <td>3</td>\n",
       "      <td>IndiGo</td>\n",
       "      <td>12/05/2019</td>\n",
       "      <td>Kolkata</td>\n",
       "      <td>Banglore</td>\n",
       "      <td>CCU → NAG → BLR</td>\n",
       "      <td>18:05</td>\n",
       "      <td>23:30</td>\n",
       "      <td>5h 25m</td>\n",
       "      <td>1 stop</td>\n",
       "      <td>No info</td>\n",
       "      <td>6218</td>\n",
       "    </tr>\n",
       "    <tr>\n",
       "      <td>4</td>\n",
       "      <td>IndiGo</td>\n",
       "      <td>01/03/2019</td>\n",
       "      <td>Banglore</td>\n",
       "      <td>New Delhi</td>\n",
       "      <td>BLR → NAG → DEL</td>\n",
       "      <td>16:50</td>\n",
       "      <td>21:35</td>\n",
       "      <td>4h 45m</td>\n",
       "      <td>1 stop</td>\n",
       "      <td>No info</td>\n",
       "      <td>13302</td>\n",
       "    </tr>\n",
       "  </tbody>\n",
       "</table>\n",
       "</div>"
      ],
      "text/plain": [
       "       Airline Date_of_Journey    Source Destination                  Route  \\\n",
       "0       IndiGo      24/03/2019  Banglore   New Delhi              BLR → DEL   \n",
       "1    Air India       1/05/2019   Kolkata    Banglore  CCU → IXR → BBI → BLR   \n",
       "2  Jet Airways       9/06/2019     Delhi      Cochin  DEL → LKO → BOM → COK   \n",
       "3       IndiGo      12/05/2019   Kolkata    Banglore        CCU → NAG → BLR   \n",
       "4       IndiGo      01/03/2019  Banglore   New Delhi        BLR → NAG → DEL   \n",
       "\n",
       "  Dep_Time  Arrival_Time Duration Total_Stops Additional_Info  Price  \n",
       "0    22:20  01:10 22 Mar   2h 50m    non-stop         No info   3897  \n",
       "1    05:50         13:15   7h 25m     2 stops         No info   7662  \n",
       "2    09:25  04:25 10 Jun      19h     2 stops         No info  13882  \n",
       "3    18:05         23:30   5h 25m      1 stop         No info   6218  \n",
       "4    16:50         21:35   4h 45m      1 stop         No info  13302  "
      ]
     },
     "execution_count": 120,
     "metadata": {},
     "output_type": "execute_result"
    }
   ],
   "source": [
    "data=pd.read_excel(\"Flight_Data_Train.xlsx\")\n",
    "data.head()"
   ]
  },
  {
   "cell_type": "code",
   "execution_count": 121,
   "metadata": {
    "scrolled": true
   },
   "outputs": [
    {
     "data": {
      "text/html": [
       "<div>\n",
       "<style scoped>\n",
       "    .dataframe tbody tr th:only-of-type {\n",
       "        vertical-align: middle;\n",
       "    }\n",
       "\n",
       "    .dataframe tbody tr th {\n",
       "        vertical-align: top;\n",
       "    }\n",
       "\n",
       "    .dataframe thead th {\n",
       "        text-align: right;\n",
       "    }\n",
       "</style>\n",
       "<table border=\"1\" class=\"dataframe\">\n",
       "  <thead>\n",
       "    <tr style=\"text-align: right;\">\n",
       "      <th></th>\n",
       "      <th>Airline</th>\n",
       "      <th>Date_of_Journey</th>\n",
       "      <th>Source</th>\n",
       "      <th>Destination</th>\n",
       "      <th>Route</th>\n",
       "      <th>Dep_Time</th>\n",
       "      <th>Arrival_Time</th>\n",
       "      <th>Duration</th>\n",
       "      <th>Total_Stops</th>\n",
       "      <th>Additional_Info</th>\n",
       "    </tr>\n",
       "  </thead>\n",
       "  <tbody>\n",
       "    <tr>\n",
       "      <td>0</td>\n",
       "      <td>Jet Airways</td>\n",
       "      <td>6/06/2019</td>\n",
       "      <td>Delhi</td>\n",
       "      <td>Cochin</td>\n",
       "      <td>DEL → BOM → COK</td>\n",
       "      <td>17:30</td>\n",
       "      <td>04:25 07 Jun</td>\n",
       "      <td>10h 55m</td>\n",
       "      <td>1 stop</td>\n",
       "      <td>No info</td>\n",
       "    </tr>\n",
       "    <tr>\n",
       "      <td>1</td>\n",
       "      <td>IndiGo</td>\n",
       "      <td>12/05/2019</td>\n",
       "      <td>Kolkata</td>\n",
       "      <td>Banglore</td>\n",
       "      <td>CCU → MAA → BLR</td>\n",
       "      <td>06:20</td>\n",
       "      <td>10:20</td>\n",
       "      <td>4h</td>\n",
       "      <td>1 stop</td>\n",
       "      <td>No info</td>\n",
       "    </tr>\n",
       "    <tr>\n",
       "      <td>2</td>\n",
       "      <td>Jet Airways</td>\n",
       "      <td>21/05/2019</td>\n",
       "      <td>Delhi</td>\n",
       "      <td>Cochin</td>\n",
       "      <td>DEL → BOM → COK</td>\n",
       "      <td>19:15</td>\n",
       "      <td>19:00 22 May</td>\n",
       "      <td>23h 45m</td>\n",
       "      <td>1 stop</td>\n",
       "      <td>In-flight meal not included</td>\n",
       "    </tr>\n",
       "    <tr>\n",
       "      <td>3</td>\n",
       "      <td>Multiple carriers</td>\n",
       "      <td>21/05/2019</td>\n",
       "      <td>Delhi</td>\n",
       "      <td>Cochin</td>\n",
       "      <td>DEL → BOM → COK</td>\n",
       "      <td>08:00</td>\n",
       "      <td>21:00</td>\n",
       "      <td>13h</td>\n",
       "      <td>1 stop</td>\n",
       "      <td>No info</td>\n",
       "    </tr>\n",
       "    <tr>\n",
       "      <td>4</td>\n",
       "      <td>Air Asia</td>\n",
       "      <td>24/06/2019</td>\n",
       "      <td>Banglore</td>\n",
       "      <td>Delhi</td>\n",
       "      <td>BLR → DEL</td>\n",
       "      <td>23:55</td>\n",
       "      <td>02:45 25 Jun</td>\n",
       "      <td>2h 50m</td>\n",
       "      <td>non-stop</td>\n",
       "      <td>No info</td>\n",
       "    </tr>\n",
       "  </tbody>\n",
       "</table>\n",
       "</div>"
      ],
      "text/plain": [
       "             Airline Date_of_Journey    Source Destination            Route  \\\n",
       "0        Jet Airways       6/06/2019     Delhi      Cochin  DEL → BOM → COK   \n",
       "1             IndiGo      12/05/2019   Kolkata    Banglore  CCU → MAA → BLR   \n",
       "2        Jet Airways      21/05/2019     Delhi      Cochin  DEL → BOM → COK   \n",
       "3  Multiple carriers      21/05/2019     Delhi      Cochin  DEL → BOM → COK   \n",
       "4           Air Asia      24/06/2019  Banglore       Delhi        BLR → DEL   \n",
       "\n",
       "  Dep_Time  Arrival_Time Duration Total_Stops              Additional_Info  \n",
       "0    17:30  04:25 07 Jun  10h 55m      1 stop                      No info  \n",
       "1    06:20         10:20       4h      1 stop                      No info  \n",
       "2    19:15  19:00 22 May  23h 45m      1 stop  In-flight meal not included  \n",
       "3    08:00         21:00      13h      1 stop                      No info  \n",
       "4    23:55  02:45 25 Jun   2h 50m    non-stop                      No info  "
      ]
     },
     "execution_count": 121,
     "metadata": {},
     "output_type": "execute_result"
    }
   ],
   "source": [
    "dts=pd.read_excel('Test_set.xlsx')\n",
    "dts.head()"
   ]
  },
  {
   "cell_type": "code",
   "execution_count": 122,
   "metadata": {},
   "outputs": [
    {
     "data": {
      "text/plain": [
       "Airline            0\n",
       "Date_of_Journey    0\n",
       "Source             0\n",
       "Destination        0\n",
       "Route              1\n",
       "Dep_Time           0\n",
       "Arrival_Time       0\n",
       "Duration           0\n",
       "Total_Stops        1\n",
       "Additional_Info    0\n",
       "Price              0\n",
       "dtype: int64"
      ]
     },
     "execution_count": 122,
     "metadata": {},
     "output_type": "execute_result"
    }
   ],
   "source": [
    "## Lets check if there are any null values\n",
    "data.isnull().sum()"
   ]
  },
  {
   "cell_type": "code",
   "execution_count": 123,
   "metadata": {},
   "outputs": [
    {
     "name": "stdout",
     "output_type": "stream",
     "text": [
      "<class 'pandas.core.frame.DataFrame'>\n",
      "RangeIndex: 10683 entries, 0 to 10682\n",
      "Data columns (total 11 columns):\n",
      "Airline            10683 non-null object\n",
      "Date_of_Journey    10683 non-null object\n",
      "Source             10683 non-null object\n",
      "Destination        10683 non-null object\n",
      "Route              10682 non-null object\n",
      "Dep_Time           10683 non-null object\n",
      "Arrival_Time       10683 non-null object\n",
      "Duration           10683 non-null object\n",
      "Total_Stops        10682 non-null object\n",
      "Additional_Info    10683 non-null object\n",
      "Price              10683 non-null int64\n",
      "dtypes: int64(1), object(10)\n",
      "memory usage: 918.2+ KB\n"
     ]
    }
   ],
   "source": [
    "data.info()"
   ]
  },
  {
   "cell_type": "code",
   "execution_count": 124,
   "metadata": {},
   "outputs": [
    {
     "data": {
      "text/plain": [
       "Delhi       4537\n",
       "Kolkata     2871\n",
       "Banglore    2197\n",
       "Mumbai       697\n",
       "Chennai      381\n",
       "Name: Source, dtype: int64"
      ]
     },
     "execution_count": 124,
     "metadata": {},
     "output_type": "execute_result"
    }
   ],
   "source": [
    "data['Source'].value_counts()"
   ]
  },
  {
   "cell_type": "code",
   "execution_count": 125,
   "metadata": {
    "scrolled": true
   },
   "outputs": [
    {
     "data": {
      "text/plain": [
       "<matplotlib.axes._subplots.AxesSubplot at 0x211422a0848>"
      ]
     },
     "execution_count": 125,
     "metadata": {},
     "output_type": "execute_result"
    },
    {
     "data": {
      "image/png": "[encoded data removed]",
      "text/plain": [
       "<Figure size 432x288 with 1 Axes>"
      ]
     },
     "metadata": {},
     "output_type": "display_data"
    }
   ],
   "source": [
    "sns.set(style=\"darkgrid\", palette='deep', font_scale=1.1)\n",
    "sns.distplot(data['Price'])"
   ]
  },
  {
   "cell_type": "markdown",
   "metadata": {},
   "source": [
    "From the above we can see that the ticket prices are higly postively skewed, so we need to treat the skweness.  "
   ]
  },
  {
   "cell_type": "code",
   "execution_count": 126,
   "metadata": {},
   "outputs": [],
   "source": [
    "from scipy.stats import boxcox\n",
    "data['Price']=boxcox(data['Price'],0)"
   ]
  },
  {
   "cell_type": "markdown",
   "metadata": {},
   "source": [
    "## Lets do the EDA"
   ]
  },
  {
   "cell_type": "code",
   "execution_count": 127,
   "metadata": {},
   "outputs": [
    {
     "data": {
      "text/plain": [
       "(array([ 0,  1,  2,  3,  4,  5,  6,  7,  8,  9, 10, 11]),\n",
       " <a list of 12 Text xticklabel objects>)"
      ]
     },
     "execution_count": 127,
     "metadata": {},
     "output_type": "execute_result"
    },
    {
     "data": {
      "image/png": "[encoded data removed]",
      "text/plain": [
       "<Figure size 1440x360 with 1 Axes>"
      ]
     },
     "metadata": {},
     "output_type": "display_data"
    }
   ],
   "source": [
    "sns.set(font_scale=1.1)\n",
    "sns.catplot(x='Airline',y='Price',kind='violin',data=data,height=5,aspect=4,palette='Set1')\n",
    "plt.xticks(\n",
    "    rotation=45, \n",
    "    horizontalalignment='right',\n",
    "    fontweight='light',\n",
    "    fontsize='x-large'  \n",
    ")"
   ]
  },
  {
   "cell_type": "markdown",
   "metadata": {},
   "source": [
    "From the above we can see that the second cheapest Indigo's ranges from 8 to 9, and spicejet has the cheapest flight fares.  "
   ]
  },
  {
   "cell_type": "code",
   "execution_count": 128,
   "metadata": {},
   "outputs": [
    {
     "data": {
      "text/plain": [
       "(array([0, 1, 2, 3, 4]), <a list of 5 Text xticklabel objects>)"
      ]
     },
     "execution_count": 128,
     "metadata": {},
     "output_type": "execute_result"
    },
    {
     "data": {
      "image/png": "[encoded data removed]",
      "text/plain": [
       "<Figure size 720x360 with 1 Axes>"
      ]
     },
     "metadata": {},
     "output_type": "display_data"
    }
   ],
   "source": [
    "sns.set(font_scale=1.1)\n",
    "sns.catplot(x='Source',y='Price',kind='box',data=data,aspect=2,palette='Set1')\n",
    "plt.xticks(\n",
    "    rotation=45, \n",
    "    horizontalalignment='right',\n",
    "    fontweight='light',\n",
    "    fontsize='x-large'  \n",
    ")"
   ]
  },
  {
   "cell_type": "markdown",
   "metadata": {},
   "source": [
    "From the above we can see that the price of most of the source are ranging from 8 to 9, however their are some outliers as due to rush booking."
   ]
  },
  {
   "cell_type": "code",
   "execution_count": 129,
   "metadata": {},
   "outputs": [
    {
     "data": {
      "text/plain": [
       "(array([0, 1, 2, 3, 4]), <a list of 5 Text xticklabel objects>)"
      ]
     },
     "execution_count": 129,
     "metadata": {},
     "output_type": "execute_result"
    },
    {
     "data": {
      "image/png": "[encoded data removed]",
      "text/plain": [
       "<Figure size 822.81x360 with 1 Axes>"
      ]
     },
     "metadata": {},
     "output_type": "display_data"
    }
   ],
   "source": [
    "sns.set(font_scale=1.1)\n",
    "sns.catplot(x='Source',y='Price',hue='Destination',kind='bar',data=data,aspect=2,palette='Set1')\n",
    "plt.xticks(\n",
    "    rotation=45, \n",
    "    horizontalalignment='right',\n",
    "    fontweight='light',\n",
    "    fontsize='x-large'  \n",
    ")"
   ]
  },
  {
   "cell_type": "markdown",
   "metadata": {},
   "source": [
    "From the above we can see that most of the destinations average price are more than 8, at this point we can't do much EDA as most of the features are categorical features."
   ]
  },
  {
   "cell_type": "markdown",
   "metadata": {},
   "source": [
    "## Lets do Feature Engineering."
   ]
  },
  {
   "cell_type": "code",
   "execution_count": 130,
   "metadata": {},
   "outputs": [],
   "source": [
    "data['Data']='Train'\n",
    "dts['Data']='Test'\n",
    "dts['Price']= 0"
   ]
  },
  {
   "cell_type": "code",
   "execution_count": 131,
   "metadata": {},
   "outputs": [
    {
     "data": {
      "text/html": [
       "<div>\n",
       "<style scoped>\n",
       "    .dataframe tbody tr th:only-of-type {\n",
       "        vertical-align: middle;\n",
       "    }\n",
       "\n",
       "    .dataframe tbody tr th {\n",
       "        vertical-align: top;\n",
       "    }\n",
       "\n",
       "    .dataframe thead th {\n",
       "        text-align: right;\n",
       "    }\n",
       "</style>\n",
       "<table border=\"1\" class=\"dataframe\">\n",
       "  <thead>\n",
       "    <tr style=\"text-align: right;\">\n",
       "      <th></th>\n",
       "      <th>Airline</th>\n",
       "      <th>Date_of_Journey</th>\n",
       "      <th>Source</th>\n",
       "      <th>Destination</th>\n",
       "      <th>Route</th>\n",
       "      <th>Dep_Time</th>\n",
       "      <th>Arrival_Time</th>\n",
       "      <th>Duration</th>\n",
       "      <th>Total_Stops</th>\n",
       "      <th>Additional_Info</th>\n",
       "      <th>Price</th>\n",
       "      <th>Data</th>\n",
       "    </tr>\n",
       "  </thead>\n",
       "  <tbody>\n",
       "    <tr>\n",
       "      <td>0</td>\n",
       "      <td>IndiGo</td>\n",
       "      <td>24/03/2019</td>\n",
       "      <td>Banglore</td>\n",
       "      <td>New Delhi</td>\n",
       "      <td>BLR → DEL</td>\n",
       "      <td>22:20</td>\n",
       "      <td>01:10 22 Mar</td>\n",
       "      <td>2h 50m</td>\n",
       "      <td>non-stop</td>\n",
       "      <td>No info</td>\n",
       "      <td>8.267962</td>\n",
       "      <td>Train</td>\n",
       "    </tr>\n",
       "    <tr>\n",
       "      <td>1</td>\n",
       "      <td>Air India</td>\n",
       "      <td>1/05/2019</td>\n",
       "      <td>Kolkata</td>\n",
       "      <td>Banglore</td>\n",
       "      <td>CCU → IXR → BBI → BLR</td>\n",
       "      <td>05:50</td>\n",
       "      <td>13:15</td>\n",
       "      <td>7h 25m</td>\n",
       "      <td>2 stops</td>\n",
       "      <td>No info</td>\n",
       "      <td>8.944028</td>\n",
       "      <td>Train</td>\n",
       "    </tr>\n",
       "    <tr>\n",
       "      <td>2</td>\n",
       "      <td>Jet Airways</td>\n",
       "      <td>9/06/2019</td>\n",
       "      <td>Delhi</td>\n",
       "      <td>Cochin</td>\n",
       "      <td>DEL → LKO → BOM → COK</td>\n",
       "      <td>09:25</td>\n",
       "      <td>04:25 10 Jun</td>\n",
       "      <td>19h</td>\n",
       "      <td>2 stops</td>\n",
       "      <td>No info</td>\n",
       "      <td>9.538348</td>\n",
       "      <td>Train</td>\n",
       "    </tr>\n",
       "    <tr>\n",
       "      <td>3</td>\n",
       "      <td>IndiGo</td>\n",
       "      <td>12/05/2019</td>\n",
       "      <td>Kolkata</td>\n",
       "      <td>Banglore</td>\n",
       "      <td>CCU → NAG → BLR</td>\n",
       "      <td>18:05</td>\n",
       "      <td>23:30</td>\n",
       "      <td>5h 25m</td>\n",
       "      <td>1 stop</td>\n",
       "      <td>No info</td>\n",
       "      <td>8.735204</td>\n",
       "      <td>Train</td>\n",
       "    </tr>\n",
       "    <tr>\n",
       "      <td>4</td>\n",
       "      <td>IndiGo</td>\n",
       "      <td>01/03/2019</td>\n",
       "      <td>Banglore</td>\n",
       "      <td>New Delhi</td>\n",
       "      <td>BLR → NAG → DEL</td>\n",
       "      <td>16:50</td>\n",
       "      <td>21:35</td>\n",
       "      <td>4h 45m</td>\n",
       "      <td>1 stop</td>\n",
       "      <td>No info</td>\n",
       "      <td>9.495670</td>\n",
       "      <td>Train</td>\n",
       "    </tr>\n",
       "  </tbody>\n",
       "</table>\n",
       "</div>"
      ],
      "text/plain": [
       "       Airline Date_of_Journey    Source Destination                  Route  \\\n",
       "0       IndiGo      24/03/2019  Banglore   New Delhi              BLR → DEL   \n",
       "1    Air India       1/05/2019   Kolkata    Banglore  CCU → IXR → BBI → BLR   \n",
       "2  Jet Airways       9/06/2019     Delhi      Cochin  DEL → LKO → BOM → COK   \n",
       "3       IndiGo      12/05/2019   Kolkata    Banglore        CCU → NAG → BLR   \n",
       "4       IndiGo      01/03/2019  Banglore   New Delhi        BLR → NAG → DEL   \n",
       "\n",
       "  Dep_Time  Arrival_Time Duration Total_Stops Additional_Info     Price   Data  \n",
       "0    22:20  01:10 22 Mar   2h 50m    non-stop         No info  8.267962  Train  \n",
       "1    05:50         13:15   7h 25m     2 stops         No info  8.944028  Train  \n",
       "2    09:25  04:25 10 Jun      19h     2 stops         No info  9.538348  Train  \n",
       "3    18:05         23:30   5h 25m      1 stop         No info  8.735204  Train  \n",
       "4    16:50         21:35   4h 45m      1 stop         No info  9.495670  Train  "
      ]
     },
     "execution_count": 131,
     "metadata": {},
     "output_type": "execute_result"
    }
   ],
   "source": [
    "data1=pd.concat([data,dts])\n",
    "data.head()"
   ]
  },
  {
   "cell_type": "code",
   "execution_count": 132,
   "metadata": {},
   "outputs": [],
   "source": [
    "data1['Date_of_journey']=data1['Date_of_Journey'].str.split('/').str[0]\n",
    "data1['Month_of_journey']=data1['Date_of_Journey'].str.split('/').str[1]\n",
    "data1['Year_of_journey']=data1['Date_of_Journey'].str.split('/').str[2]\n",
    "data1['Arrival_Time']=data1['Arrival_Time'].str.split(' ').str[0]\n",
    "data1['Arrival_Hour']=data1['Arrival_Time'].str.split(':').str[0]\n",
    "data1['Arrival_Minute']=data1['Arrival_Time'].str.split(':').str[1]\n",
    "data1['Dep_Hour']=data1['Dep_Time'].str.split(':').str[0]\n",
    "data1['Dep_Minute']=data1['Dep_Time'].str.split(':').str[1]\n",
    "data1['Duration_hour']=data1['Duration'].str.split('h').str[0]\n",
    "data1['Duration']=data1['Duration'].str.split(' ').str[1]\n",
    "data1['Duration_minute']=data1['Duration'].str.split('m').str[0]\n",
    "data1['Duration_minute'].fillna('0',inplace=True)\n",
    "data1.drop(['Arrival_Time'],axis=1,inplace=True)\n",
    "data1.drop(['Dep_Time'],axis=1,inplace=True)\n",
    "data1.drop(['Date_of_Journey'],axis=1,inplace=True)\n",
    "data1.drop(['Duration'],axis=1,inplace=True)"
   ]
  },
  {
   "cell_type": "code",
   "execution_count": 133,
   "metadata": {},
   "outputs": [
    {
     "data": {
      "text/plain": [
       "2     2967\n",
       "1      785\n",
       "3      627\n",
       "5      608\n",
       "7      600\n",
       "9      551\n",
       "12     538\n",
       "8      531\n",
       "13     516\n",
       "11     467\n",
       "10     459\n",
       "6      442\n",
       "14     424\n",
       "15     339\n",
       "23     331\n",
       "26     292\n",
       "16     286\n",
       "4      278\n",
       "22     273\n",
       "24     240\n",
       "21     237\n",
       "25     231\n",
       "27     222\n",
       "20     203\n",
       "18     179\n",
       "19     168\n",
       "17     161\n",
       "28     116\n",
       "29      76\n",
       "30      61\n",
       "38      41\n",
       "37      22\n",
       "33      21\n",
       "32      12\n",
       "36      11\n",
       "35      10\n",
       "34       9\n",
       "31       8\n",
       "39       3\n",
       "42       2\n",
       "47       2\n",
       "5m       2\n",
       "40       2\n",
       "41       1\n",
       "Name: Duration_hour, dtype: int64"
      ]
     },
     "execution_count": 133,
     "metadata": {},
     "output_type": "execute_result"
    }
   ],
   "source": [
    "data1['Duration_hour'].value_counts()"
   ]
  },
  {
   "cell_type": "code",
   "execution_count": 134,
   "metadata": {},
   "outputs": [],
   "source": [
    "#data[data['Duration_hour']=='5m']=0\n",
    "def ext(data):\n",
    "    if data=='5m':\n",
    "        j='0'\n",
    "    else:\n",
    "        j=data\n",
    "    return j\n",
    "\n",
    "data1['Duration_hour']=data1['Duration_hour'].apply(lambda j:ext(j))"
   ]
  },
  {
   "cell_type": "code",
   "execution_count": 135,
   "metadata": {},
   "outputs": [
    {
     "data": {
      "text/plain": [
       "2     2967\n",
       "1      785\n",
       "3      627\n",
       "5      608\n",
       "7      600\n",
       "9      551\n",
       "12     538\n",
       "8      531\n",
       "13     516\n",
       "11     467\n",
       "10     459\n",
       "6      442\n",
       "14     424\n",
       "15     339\n",
       "23     331\n",
       "26     292\n",
       "16     286\n",
       "4      278\n",
       "22     273\n",
       "24     240\n",
       "21     237\n",
       "25     231\n",
       "27     222\n",
       "20     203\n",
       "18     179\n",
       "19     168\n",
       "17     161\n",
       "28     116\n",
       "29      76\n",
       "30      61\n",
       "38      41\n",
       "37      22\n",
       "33      21\n",
       "32      12\n",
       "36      11\n",
       "35      10\n",
       "34       9\n",
       "31       8\n",
       "39       3\n",
       "0        2\n",
       "47       2\n",
       "42       2\n",
       "40       2\n",
       "41       1\n",
       "Name: Duration_hour, dtype: int64"
      ]
     },
     "execution_count": 135,
     "metadata": {},
     "output_type": "execute_result"
    }
   ],
   "source": [
    "data1['Duration_hour'].value_counts()"
   ]
  },
  {
   "cell_type": "code",
   "execution_count": 136,
   "metadata": {},
   "outputs": [
    {
     "data": {
      "text/plain": [
       "30    1818\n",
       "0     1286\n",
       "20    1260\n",
       "50    1205\n",
       "45    1154\n",
       "35    1149\n",
       "15    1135\n",
       "55    1121\n",
       "25    1009\n",
       "40     803\n",
       "5      767\n",
       "10     647\n",
       "Name: Duration_minute, dtype: int64"
      ]
     },
     "execution_count": 136,
     "metadata": {},
     "output_type": "execute_result"
    }
   ],
   "source": [
    "data1['Duration_minute'].value_counts()"
   ]
  },
  {
   "cell_type": "code",
   "execution_count": 152,
   "metadata": {},
   "outputs": [
    {
     "data": {
      "text/plain": [
       "Additional_Info     0\n",
       "Airline             0\n",
       "Data                0\n",
       "Destination         0\n",
       "Price               0\n",
       "Source              0\n",
       "Date_of_journey     0\n",
       "Month_of_journey    0\n",
       "Year_of_journey     0\n",
       "Arrival_Hour        0\n",
       "Arrival_Minute      0\n",
       "Dep_Hour            0\n",
       "Dep_Minute          0\n",
       "Duration_hour       0\n",
       "Duration_minute     0\n",
       "Stop_1              0\n",
       "Stop_2              0\n",
       "Stop_3              0\n",
       "Stop_4              0\n",
       "Stop_5              0\n",
       "Stop_6              0\n",
       "Stops               0\n",
       "dtype: int64"
      ]
     },
     "execution_count": 152,
     "metadata": {},
     "output_type": "execute_result"
    }
   ],
   "source": [
    "data1.isnull().sum()"
   ]
  },
  {
   "cell_type": "code",
   "execution_count": 138,
   "metadata": {},
   "outputs": [],
   "source": [
    "data1['Date_of_journey']=data1['Date_of_journey'].astype(int)\n",
    "data1['Month_of_journey']=data1['Month_of_journey'].astype(int)\n",
    "data1['Year_of_journey']=data1['Year_of_journey'].astype(int)\n",
    "data1['Arrival_Hour']=data1['Arrival_Hour'].astype(int)\n",
    "data1['Arrival_Minute']=data1['Arrival_Minute'].astype(int)\n",
    "data1['Dep_Hour']=data1['Dep_Hour'].astype(int)\n",
    "data1['Dep_Minute']=data1['Dep_Minute'].astype(int)\n",
    "data1['Duration_hour']=data1['Duration_hour'].astype(int)\n",
    "data1['Duration_minute']=data1['Duration_minute'].astype(int)"
   ]
  },
  {
   "cell_type": "code",
   "execution_count": 139,
   "metadata": {},
   "outputs": [
    {
     "name": "stdout",
     "output_type": "stream",
     "text": [
      "<class 'pandas.core.frame.DataFrame'>\n",
      "Int64Index: 13354 entries, 0 to 2670\n",
      "Data columns (total 17 columns):\n",
      "Additional_Info     13354 non-null object\n",
      "Airline             13354 non-null object\n",
      "Data                13354 non-null object\n",
      "Destination         13354 non-null object\n",
      "Price               13354 non-null float64\n",
      "Route               13353 non-null object\n",
      "Source              13354 non-null object\n",
      "Total_Stops         13353 non-null object\n",
      "Date_of_journey     13354 non-null int32\n",
      "Month_of_journey    13354 non-null int32\n",
      "Year_of_journey     13354 non-null int32\n",
      "Arrival_Hour        13354 non-null int32\n",
      "Arrival_Minute      13354 non-null int32\n",
      "Dep_Hour            13354 non-null int32\n",
      "Dep_Minute          13354 non-null int32\n",
      "Duration_hour       13354 non-null int32\n",
      "Duration_minute     13354 non-null int32\n",
      "dtypes: float64(1), int32(9), object(7)\n",
      "memory usage: 1.4+ MB\n"
     ]
    }
   ],
   "source": [
    "data1.info()"
   ]
  },
  {
   "cell_type": "code",
   "execution_count": 140,
   "metadata": {},
   "outputs": [
    {
     "data": {
      "text/plain": [
       "DEL → BOM → COK                3000\n",
       "BLR → DEL                      1941\n",
       "CCU → BOM → BLR                1232\n",
       "CCU → BLR                       896\n",
       "BOM → HYD                       785\n",
       "                               ... \n",
       "BLR → HBX → BOM → NAG → DEL       1\n",
       "BOM → RPR → VTZ → HYD             1\n",
       "BOM → DED → DEL → HYD             1\n",
       "CCU → RPR → HYD → BLR             1\n",
       "BOM → NDC → HYD                   1\n",
       "Name: Route, Length: 132, dtype: int64"
      ]
     },
     "execution_count": 140,
     "metadata": {},
     "output_type": "execute_result"
    }
   ],
   "source": [
    "data1['Route'].value_counts()"
   ]
  },
  {
   "cell_type": "code",
   "execution_count": 141,
   "metadata": {},
   "outputs": [],
   "source": [
    "data1['Stop_1']=data1['Route'].str.split('→ ').str[0]\n",
    "data1['Stop_2']=data1['Route'].str.split('→ ').str[1]\n",
    "data1['Stop_3']=data1['Route'].str.split('→ ').str[2]\n",
    "data1['Stop_4']=data1['Route'].str.split('→ ').str[3]\n",
    "data1['Stop_5']=data1['Route'].str.split('→ ').str[4]\n",
    "data1['Stop_6']=data1['Route'].str.split('→ ').str[5]\n",
    "data1.drop(['Route'],axis=1, inplace=True)"
   ]
  },
  {
   "cell_type": "code",
   "execution_count": 142,
   "metadata": {},
   "outputs": [],
   "source": [
    "data1['Stop_1'].fillna('None',inplace=True)\n",
    "data1['Stop_2'].fillna('None',inplace=True)\n",
    "data1['Stop_3'].fillna('None',inplace=True)\n",
    "data1['Stop_4'].fillna('None',inplace=True)\n",
    "data1['Stop_5'].fillna('None',inplace=True)\n",
    "data1['Stop_6'].fillna('None',inplace=True)"
   ]
  },
  {
   "cell_type": "code",
   "execution_count": 143,
   "metadata": {},
   "outputs": [
    {
     "data": {
      "text/plain": [
       "1 stop      7056\n",
       "non-stop    4340\n",
       "2 stops     1899\n",
       "3 stops       56\n",
       "4 stops        2\n",
       "Name: Total_Stops, dtype: int64"
      ]
     },
     "execution_count": 143,
     "metadata": {},
     "output_type": "execute_result"
    }
   ],
   "source": [
    "data1['Total_Stops'].value_counts()"
   ]
  },
  {
   "cell_type": "code",
   "execution_count": 144,
   "metadata": {},
   "outputs": [],
   "source": [
    "data1['Total_Stops'].replace(['non-stop'],['0 Direct'],inplace=True)"
   ]
  },
  {
   "cell_type": "code",
   "execution_count": 145,
   "metadata": {},
   "outputs": [
    {
     "data": {
      "text/plain": [
       "1 stop      7056\n",
       "0 Direct    4340\n",
       "2 stops     1899\n",
       "3 stops       56\n",
       "4 stops        2\n",
       "Name: Total_Stops, dtype: int64"
      ]
     },
     "execution_count": 145,
     "metadata": {},
     "output_type": "execute_result"
    }
   ],
   "source": [
    "data1['Total_Stops'].value_counts()"
   ]
  },
  {
   "cell_type": "code",
   "execution_count": 146,
   "metadata": {},
   "outputs": [],
   "source": [
    "data1['Stops']=data1['Total_Stops'].str.split(' ').str[0]"
   ]
  },
  {
   "cell_type": "code",
   "execution_count": 147,
   "metadata": {},
   "outputs": [],
   "source": [
    "data1['Stops'].fillna('0',inplace=True)\n",
    "data1.drop(['Total_Stops'],axis=1,inplace=True)"
   ]
  },
  {
   "cell_type": "code",
   "execution_count": 148,
   "metadata": {},
   "outputs": [
    {
     "data": {
      "text/plain": [
       "Delhi       5682\n",
       "Kolkata     3581\n",
       "Banglore    2752\n",
       "Mumbai       883\n",
       "Chennai      456\n",
       "Name: Source, dtype: int64"
      ]
     },
     "execution_count": 148,
     "metadata": {},
     "output_type": "execute_result"
    }
   ],
   "source": [
    "data1['Source'].value_counts()"
   ]
  },
  {
   "cell_type": "code",
   "execution_count": 150,
   "metadata": {},
   "outputs": [],
   "source": [
    "from sklearn.preprocessing import LabelEncoder\n",
    "le=LabelEncoder()\n",
    "data1['Stop_1']=le.fit_transform(data1['Stop_1'])\n",
    "data1['Stop_2']=le.fit_transform(data1['Stop_2'])\n",
    "data1['Stop_3']=le.fit_transform(data1['Stop_3'])\n",
    "data1['Stop_4']=le.fit_transform(data1['Stop_4'])\n",
    "data1['Stop_5']=le.fit_transform(data1['Stop_5'])\n",
    "data1['Stop_6']=le.fit_transform(data1['Stop_6'])\n",
    "data1['Source']=le.fit_transform(data1['Source'])\n",
    "data1['Airline']=le.fit_transform(data1['Airline'])\n",
    "data1['Additional_Info']=le.fit_transform(data1['Additional_Info'])\n",
    "data1['Destination']=le.fit_transform(data1['Destination'])"
   ]
  },
  {
   "cell_type": "code",
   "execution_count": 153,
   "metadata": {},
   "outputs": [
    {
     "name": "stdout",
     "output_type": "stream",
     "text": [
      "<class 'pandas.core.frame.DataFrame'>\n",
      "Int64Index: 13354 entries, 0 to 2670\n",
      "Data columns (total 22 columns):\n",
      "Additional_Info     13354 non-null int32\n",
      "Airline             13354 non-null int32\n",
      "Data                13354 non-null object\n",
      "Destination         13354 non-null int32\n",
      "Price               13354 non-null float64\n",
      "Source              13354 non-null int32\n",
      "Date_of_journey     13354 non-null int32\n",
      "Month_of_journey    13354 non-null int32\n",
      "Year_of_journey     13354 non-null int32\n",
      "Arrival_Hour        13354 non-null int32\n",
      "Arrival_Minute      13354 non-null int32\n",
      "Dep_Hour            13354 non-null int32\n",
      "Dep_Minute          13354 non-null int32\n",
      "Duration_hour       13354 non-null int32\n",
      "Duration_minute     13354 non-null int32\n",
      "Stop_1              13354 non-null int32\n",
      "Stop_2              13354 non-null int32\n",
      "Stop_3              13354 non-null int32\n",
      "Stop_4              13354 non-null int32\n",
      "Stop_5              13354 non-null int32\n",
      "Stop_6              13354 non-null int32\n",
      "Stops               13354 non-null object\n",
      "dtypes: float64(1), int32(19), object(2)\n",
      "memory usage: 1.4+ MB\n"
     ]
    }
   ],
   "source": [
    "data1.info()"
   ]
  },
  {
   "cell_type": "code",
   "execution_count": 155,
   "metadata": {},
   "outputs": [
    {
     "data": {
      "text/plain": [
       "1    7056\n",
       "0    4341\n",
       "2    1899\n",
       "3      56\n",
       "4       2\n",
       "Name: Stops, dtype: int64"
      ]
     },
     "execution_count": 155,
     "metadata": {},
     "output_type": "execute_result"
    }
   ],
   "source": [
    "data1['Stops'].value_counts()"
   ]
  },
  {
   "cell_type": "code",
   "execution_count": 157,
   "metadata": {},
   "outputs": [],
   "source": [
    "data1['Stops']=data1['Stops'].astype(int)"
   ]
  },
  {
   "cell_type": "code",
   "execution_count": 158,
   "metadata": {},
   "outputs": [
    {
     "name": "stdout",
     "output_type": "stream",
     "text": [
      "<class 'pandas.core.frame.DataFrame'>\n",
      "Int64Index: 13354 entries, 0 to 2670\n",
      "Data columns (total 22 columns):\n",
      "Additional_Info     13354 non-null int32\n",
      "Airline             13354 non-null int32\n",
      "Data                13354 non-null object\n",
      "Destination         13354 non-null int32\n",
      "Price               13354 non-null float64\n",
      "Source              13354 non-null int32\n",
      "Date_of_journey     13354 non-null int32\n",
      "Month_of_journey    13354 non-null int32\n",
      "Year_of_journey     13354 non-null int32\n",
      "Arrival_Hour        13354 non-null int32\n",
      "Arrival_Minute      13354 non-null int32\n",
      "Dep_Hour            13354 non-null int32\n",
      "Dep_Minute          13354 non-null int32\n",
      "Duration_hour       13354 non-null int32\n",
      "Duration_minute     13354 non-null int32\n",
      "Stop_1              13354 non-null int32\n",
      "Stop_2              13354 non-null int32\n",
      "Stop_3              13354 non-null int32\n",
      "Stop_4              13354 non-null int32\n",
      "Stop_5              13354 non-null int32\n",
      "Stop_6              13354 non-null int32\n",
      "Stops               13354 non-null int32\n",
      "dtypes: float64(1), int32(20), object(1)\n",
      "memory usage: 1.3+ MB\n"
     ]
    }
   ],
   "source": [
    "data1.info()"
   ]
  },
  {
   "cell_type": "markdown",
   "metadata": {},
   "source": [
    "## Now Lets Split and scale our data"
   ]
  },
  {
   "cell_type": "code",
   "execution_count": 182,
   "metadata": {},
   "outputs": [],
   "source": [
    "Trainfinal=data1.loc[data1['Data']=='Train']\n",
    "Testfinal=data1.loc[data1['Data']=='Test']\n",
    "Trainfinal.drop(['Data'],axis=1,inplace=True)\n",
    "Testfinal.drop(['Data'],axis=1,inplace=True)"
   ]
  },
  {
   "cell_type": "code",
   "execution_count": 183,
   "metadata": {},
   "outputs": [],
   "source": [
    "xtst=Testfinal.drop(['Price'],axis=True)"
   ]
  },
  {
   "cell_type": "code",
   "execution_count": 184,
   "metadata": {},
   "outputs": [
    {
     "data": {
      "text/html": [
       "<div>\n",
       "<style scoped>\n",
       "    .dataframe tbody tr th:only-of-type {\n",
       "        vertical-align: middle;\n",
       "    }\n",
       "\n",
       "    .dataframe tbody tr th {\n",
       "        vertical-align: top;\n",
       "    }\n",
       "\n",
       "    .dataframe thead th {\n",
       "        text-align: right;\n",
       "    }\n",
       "</style>\n",
       "<table border=\"1\" class=\"dataframe\">\n",
       "  <thead>\n",
       "    <tr style=\"text-align: right;\">\n",
       "      <th></th>\n",
       "      <th>Additional_Info</th>\n",
       "      <th>Airline</th>\n",
       "      <th>Destination</th>\n",
       "      <th>Source</th>\n",
       "      <th>Date_of_journey</th>\n",
       "      <th>Month_of_journey</th>\n",
       "      <th>Year_of_journey</th>\n",
       "      <th>Arrival_Hour</th>\n",
       "      <th>Arrival_Minute</th>\n",
       "      <th>Dep_Hour</th>\n",
       "      <th>Dep_Minute</th>\n",
       "      <th>Duration_hour</th>\n",
       "      <th>Duration_minute</th>\n",
       "      <th>Stop_1</th>\n",
       "      <th>Stop_2</th>\n",
       "      <th>Stop_3</th>\n",
       "      <th>Stop_4</th>\n",
       "      <th>Stop_5</th>\n",
       "      <th>Stop_6</th>\n",
       "      <th>Stops</th>\n",
       "    </tr>\n",
       "  </thead>\n",
       "  <tbody>\n",
       "    <tr>\n",
       "      <td>0</td>\n",
       "      <td>8</td>\n",
       "      <td>3</td>\n",
       "      <td>5</td>\n",
       "      <td>0</td>\n",
       "      <td>24</td>\n",
       "      <td>3</td>\n",
       "      <td>2019</td>\n",
       "      <td>1</td>\n",
       "      <td>10</td>\n",
       "      <td>22</td>\n",
       "      <td>20</td>\n",
       "      <td>2</td>\n",
       "      <td>50</td>\n",
       "      <td>0</td>\n",
       "      <td>13</td>\n",
       "      <td>24</td>\n",
       "      <td>12</td>\n",
       "      <td>4</td>\n",
       "      <td>1</td>\n",
       "      <td>0</td>\n",
       "    </tr>\n",
       "    <tr>\n",
       "      <td>1</td>\n",
       "      <td>8</td>\n",
       "      <td>1</td>\n",
       "      <td>0</td>\n",
       "      <td>3</td>\n",
       "      <td>1</td>\n",
       "      <td>5</td>\n",
       "      <td>2019</td>\n",
       "      <td>13</td>\n",
       "      <td>15</td>\n",
       "      <td>5</td>\n",
       "      <td>50</td>\n",
       "      <td>7</td>\n",
       "      <td>25</td>\n",
       "      <td>2</td>\n",
       "      <td>25</td>\n",
       "      <td>1</td>\n",
       "      <td>3</td>\n",
       "      <td>4</td>\n",
       "      <td>1</td>\n",
       "      <td>2</td>\n",
       "    </tr>\n",
       "    <tr>\n",
       "      <td>2</td>\n",
       "      <td>8</td>\n",
       "      <td>4</td>\n",
       "      <td>1</td>\n",
       "      <td>2</td>\n",
       "      <td>9</td>\n",
       "      <td>6</td>\n",
       "      <td>2019</td>\n",
       "      <td>4</td>\n",
       "      <td>25</td>\n",
       "      <td>9</td>\n",
       "      <td>25</td>\n",
       "      <td>19</td>\n",
       "      <td>0</td>\n",
       "      <td>3</td>\n",
       "      <td>32</td>\n",
       "      <td>4</td>\n",
       "      <td>5</td>\n",
       "      <td>4</td>\n",
       "      <td>1</td>\n",
       "      <td>2</td>\n",
       "    </tr>\n",
       "    <tr>\n",
       "      <td>3</td>\n",
       "      <td>8</td>\n",
       "      <td>3</td>\n",
       "      <td>0</td>\n",
       "      <td>3</td>\n",
       "      <td>12</td>\n",
       "      <td>5</td>\n",
       "      <td>2019</td>\n",
       "      <td>23</td>\n",
       "      <td>30</td>\n",
       "      <td>18</td>\n",
       "      <td>5</td>\n",
       "      <td>5</td>\n",
       "      <td>25</td>\n",
       "      <td>2</td>\n",
       "      <td>34</td>\n",
       "      <td>3</td>\n",
       "      <td>12</td>\n",
       "      <td>4</td>\n",
       "      <td>1</td>\n",
       "      <td>1</td>\n",
       "    </tr>\n",
       "    <tr>\n",
       "      <td>4</td>\n",
       "      <td>8</td>\n",
       "      <td>3</td>\n",
       "      <td>5</td>\n",
       "      <td>0</td>\n",
       "      <td>1</td>\n",
       "      <td>3</td>\n",
       "      <td>2019</td>\n",
       "      <td>21</td>\n",
       "      <td>35</td>\n",
       "      <td>16</td>\n",
       "      <td>50</td>\n",
       "      <td>4</td>\n",
       "      <td>45</td>\n",
       "      <td>0</td>\n",
       "      <td>34</td>\n",
       "      <td>8</td>\n",
       "      <td>12</td>\n",
       "      <td>4</td>\n",
       "      <td>1</td>\n",
       "      <td>1</td>\n",
       "    </tr>\n",
       "  </tbody>\n",
       "</table>\n",
       "</div>"
      ],
      "text/plain": [
       "   Additional_Info  Airline  Destination  Source  Date_of_journey  \\\n",
       "0                8        3            5       0               24   \n",
       "1                8        1            0       3                1   \n",
       "2                8        4            1       2                9   \n",
       "3                8        3            0       3               12   \n",
       "4                8        3            5       0                1   \n",
       "\n",
       "   Month_of_journey  Year_of_journey  Arrival_Hour  Arrival_Minute  Dep_Hour  \\\n",
       "0                 3             2019             1              10        22   \n",
       "1                 5             2019            13              15         5   \n",
       "2                 6             2019             4              25         9   \n",
       "3                 5             2019            23              30        18   \n",
       "4                 3             2019            21              35        16   \n",
       "\n",
       "   Dep_Minute  Duration_hour  Duration_minute  Stop_1  Stop_2  Stop_3  Stop_4  \\\n",
       "0          20              2               50       0      13      24      12   \n",
       "1          50              7               25       2      25       1       3   \n",
       "2          25             19                0       3      32       4       5   \n",
       "3           5              5               25       2      34       3      12   \n",
       "4          50              4               45       0      34       8      12   \n",
       "\n",
       "   Stop_5  Stop_6  Stops  \n",
       "0       4       1      0  \n",
       "1       4       1      2  \n",
       "2       4       1      2  \n",
       "3       4       1      1  \n",
       "4       4       1      1  "
      ]
     },
     "execution_count": 184,
     "metadata": {},
     "output_type": "execute_result"
    }
   ],
   "source": [
    "x=Trainfinal.drop(['Price'],axis=True)\n",
    "x.head()"
   ]
  },
  {
   "cell_type": "code",
   "execution_count": 185,
   "metadata": {},
   "outputs": [
    {
     "data": {
      "text/plain": [
       "0    8.267962\n",
       "1    8.944028\n",
       "2    9.538348\n",
       "3    8.735204\n",
       "4    9.495670\n",
       "Name: Price, dtype: float64"
      ]
     },
     "execution_count": 185,
     "metadata": {},
     "output_type": "execute_result"
    }
   ],
   "source": [
    "y=Trainfinal['Price']\n",
    "y.head()"
   ]
  },
  {
   "cell_type": "code",
   "execution_count": 186,
   "metadata": {},
   "outputs": [],
   "source": [
    "from sklearn.preprocessing import StandardScaler\n",
    "ss=StandardScaler()\n",
    "x=ss.fit_transform(x,xtst)"
   ]
  },
  {
   "cell_type": "code",
   "execution_count": 187,
   "metadata": {},
   "outputs": [],
   "source": [
    "from sklearn.model_selection import train_test_split,cross_val_score"
   ]
  },
  {
   "cell_type": "code",
   "execution_count": 188,
   "metadata": {},
   "outputs": [],
   "source": [
    "x_train,x_test,y_train,y_test=train_test_split(x,y,test_size=0.3,random_state=97)"
   ]
  },
  {
   "cell_type": "code",
   "execution_count": 189,
   "metadata": {},
   "outputs": [
    {
     "data": {
      "text/plain": [
       "((7478, 20), (3205, 20), (7478,), (3205,))"
      ]
     },
     "execution_count": 189,
     "metadata": {},
     "output_type": "execute_result"
    }
   ],
   "source": [
    "x_train.shape,x_test.shape,y_train.shape,y_test.shape"
   ]
  },
  {
   "cell_type": "code",
   "execution_count": 190,
   "metadata": {},
   "outputs": [],
   "source": [
    "from sklearn.linear_model import LinearRegression\n",
    "from sklearn.linear_model import Ridge,Lasso\n",
    "from sklearn.tree import DecisionTreeRegressor\n",
    "from sklearn.neighbors import KNeighborsRegressor\n",
    "from sklearn.ensemble import RandomForestRegressor,AdaBoostRegressor,GradientBoostingRegressor\n",
    "from sklearn.metrics import mean_squared_error,mean_absolute_error,r2_score"
   ]
  },
  {
   "cell_type": "code",
   "execution_count": 191,
   "metadata": {},
   "outputs": [],
   "source": [
    "LR=LinearRegression()\n",
    "LA=Lasso()\n",
    "RI=Ridge()\n",
    "DTR=DecisionTreeRegressor(random_state=97)\n",
    "KNR=KNeighborsRegressor()\n",
    "ABR=AdaBoostRegressor(random_state=97)\n",
    "RFR=RandomForestRegressor(random_state=97)\n",
    "GBR=GradientBoostingRegressor(random_state=97)"
   ]
  },
  {
   "cell_type": "code",
   "execution_count": 192,
   "metadata": {},
   "outputs": [],
   "source": [
    "models=[]\n",
    "models.append((\"LinearRegression\",LR))\n",
    "models.append((\"Lasso\",LA))\n",
    "models.append((\"Ridge\",RI))\n",
    "models.append((\"DecisionTreeRegressor\",DTR))\n",
    "models.append((\"AdaBoostRegressor\",ABR))\n",
    "models.append((\"RandomForestRegressor\",RFR))\n",
    "models.append((\"GradientBoostingRegressor\",GBR))"
   ]
  },
  {
   "cell_type": "code",
   "execution_count": 193,
   "metadata": {},
   "outputs": [
    {
     "name": "stdout",
     "output_type": "stream",
     "text": [
      "------------------------------------- LinearRegression -------------------------------\n",
      "LinearRegression(copy_X=True, fit_intercept=True, n_jobs=None, normalize=False)\n",
      "R2_score =  0.6202164931994308\n",
      "Mean_Squared_Error = 0.10088543206827416\n",
      "Mean_Absolute_Error = 0.25453960337244996\n",
      "Root_Mean_Squared_Error = 0.31762467169329617\n",
      "Cross_Val_Score =  -35784970196154.89\n",
      "\n",
      "\n",
      "------------------------------------- Lasso -------------------------------\n",
      "Lasso(alpha=1.0, copy_X=True, fit_intercept=True, max_iter=1000,\n",
      "      normalize=False, positive=False, precompute=False, random_state=None,\n",
      "      selection='cyclic', tol=0.0001, warm_start=False)\n",
      "R2_score =  -0.0004946397901461896\n",
      "Mean_Squared_Error = 0.26577071465671653\n",
      "Mean_Absolute_Error = 0.4305638509926106\n",
      "Root_Mean_Squared_Error = 0.5155295478017885\n",
      "Cross_Val_Score =  -0.0005635818888499733\n",
      "\n",
      "\n",
      "------------------------------------- Ridge -------------------------------\n",
      "Ridge(alpha=1.0, copy_X=True, fit_intercept=True, max_iter=None,\n",
      "      normalize=False, random_state=None, solver='auto', tol=0.001)\n",
      "R2_score =  0.6202119746589845\n",
      "Mean_Squared_Error = 0.10088663237028063\n",
      "Mean_Absolute_Error = 0.25454234990884517\n",
      "Root_Mean_Squared_Error = 0.31762656118511345\n",
      "Cross_Val_Score =  0.6204765532978442\n",
      "\n",
      "\n",
      "------------------------------------- DecisionTreeRegressor -------------------------------\n",
      "DecisionTreeRegressor(criterion='mse', max_depth=None, max_features=None,\n",
      "                      max_leaf_nodes=None, min_impurity_decrease=0.0,\n",
      "                      min_impurity_split=None, min_samples_leaf=1,\n",
      "                      min_samples_split=2, min_weight_fraction_leaf=0.0,\n",
      "                      presort=False, random_state=97, splitter='best')\n",
      "R2_score =  0.8933800640113729\n",
      "Mean_Squared_Error = 0.028322447175023687\n",
      "Mean_Absolute_Error = 0.08084310910091456\n",
      "Root_Mean_Squared_Error = 0.16829274249064838\n",
      "Cross_Val_Score =  0.9086534186257247\n",
      "\n",
      "\n",
      "------------------------------------- AdaBoostRegressor -------------------------------\n",
      "AdaBoostRegressor(base_estimator=None, learning_rate=1.0, loss='linear',\n",
      "                  n_estimators=50, random_state=97)\n",
      "R2_score =  0.7230478088497525\n",
      "Mean_Squared_Error = 0.07356939141941193\n",
      "Mean_Absolute_Error = 0.2217936863934749\n",
      "Root_Mean_Squared_Error = 0.27123678109617055\n",
      "Cross_Val_Score =  0.6813161445321733\n",
      "\n",
      "\n",
      "------------------------------------- RandomForestRegressor -------------------------------\n",
      "RandomForestRegressor(bootstrap=True, criterion='mse', max_depth=None,\n",
      "                      max_features='auto', max_leaf_nodes=None,\n",
      "                      min_impurity_decrease=0.0, min_impurity_split=None,\n",
      "                      min_samples_leaf=1, min_samples_split=2,\n",
      "                      min_weight_fraction_leaf=0.0, n_estimators='warn',\n",
      "                      n_jobs=None, oob_score=False, random_state=97, verbose=0,\n",
      "                      warm_start=False)\n",
      "R2_score =  0.9271313191368723\n",
      "Mean_Squared_Error = 0.01935678675214866\n",
      "Mean_Absolute_Error = 0.07562946145811064\n",
      "Root_Mean_Squared_Error = 0.13912866977064312\n",
      "Cross_Val_Score =  0.9361311732391548\n",
      "\n",
      "\n",
      "------------------------------------- GradientBoostingRegressor -------------------------------\n",
      "GradientBoostingRegressor(alpha=0.9, criterion='friedman_mse', init=None,\n",
      "                          learning_rate=0.1, loss='ls', max_depth=3,\n",
      "                          max_features=None, max_leaf_nodes=None,\n",
      "                          min_impurity_decrease=0.0, min_impurity_split=None,\n",
      "                          min_samples_leaf=1, min_samples_split=2,\n",
      "                          min_weight_fraction_leaf=0.0, n_estimators=100,\n",
      "                          n_iter_no_change=None, presort='auto',\n",
      "                          random_state=97, subsample=1.0, tol=0.0001,\n",
      "                          validation_fraction=0.1, verbose=0, warm_start=False)\n",
      "R2_score =  0.8724064576968822\n",
      "Mean_Squared_Error = 0.033893861670857506\n",
      "Mean_Absolute_Error = 0.13375863097837823\n",
      "Root_Mean_Squared_Error = 0.1841028562267775\n",
      "Cross_Val_Score =  0.8723206664246327\n",
      "\n",
      "\n"
     ]
    }
   ],
   "source": [
    "Model=[]\n",
    "R2_score=[]\n",
    "cvs=[]\n",
    "MSE=[]\n",
    "MAE=[]\n",
    "RMSE=[]\n",
    "for name,model in models:\n",
    "    print('-------------------------------------',name,'-------------------------------')\n",
    "    print(model)\n",
    "    Model.append(name)\n",
    "    model.fit(x_train,y_train)\n",
    "    pr=model.predict(x_test)\n",
    "    r2=r2_score(y_test,pr)\n",
    "    print('R2_score = ',r2)\n",
    "    R2_score.append(r2)\n",
    "    mse=mean_squared_error(y_test,pr)\n",
    "    print(\"Mean_Squared_Error =\",mse)\n",
    "    MSE.append(mse)\n",
    "    mae=mean_absolute_error(y_test,pr)\n",
    "    print(\"Mean_Absolute_Error =\",mae)\n",
    "    MAE.append(mae)\n",
    "    rmse=np.sqrt(mse)\n",
    "    print(\"Root_Mean_Squared_Error =\",rmse)\n",
    "    RMSE.append(rmse)\n",
    "    score= cross_val_score(model,x,y,cv=10,scoring='r2').mean()\n",
    "    print('Cross_Val_Score = ',score)\n",
    "    cvs.append(score)\n",
    "    print('\\n')"
   ]
  },
  {
   "cell_type": "code",
   "execution_count": 194,
   "metadata": {},
   "outputs": [
    {
     "data": {
      "text/html": [
       "<div>\n",
       "<style scoped>\n",
       "    .dataframe tbody tr th:only-of-type {\n",
       "        vertical-align: middle;\n",
       "    }\n",
       "\n",
       "    .dataframe tbody tr th {\n",
       "        vertical-align: top;\n",
       "    }\n",
       "\n",
       "    .dataframe thead th {\n",
       "        text-align: right;\n",
       "    }\n",
       "</style>\n",
       "<table border=\"1\" class=\"dataframe\">\n",
       "  <thead>\n",
       "    <tr style=\"text-align: right;\">\n",
       "      <th></th>\n",
       "      <th>Model</th>\n",
       "      <th>R2_score</th>\n",
       "      <th>Mean_Squared_Error</th>\n",
       "      <th>Mean_Absolute_Error</th>\n",
       "      <th>Root_Mean_Squared_Error</th>\n",
       "      <th>Cross_val_score</th>\n",
       "    </tr>\n",
       "  </thead>\n",
       "  <tbody>\n",
       "    <tr>\n",
       "      <td>0</td>\n",
       "      <td>LinearRegression</td>\n",
       "      <td>0.620216</td>\n",
       "      <td>0.100885</td>\n",
       "      <td>0.254540</td>\n",
       "      <td>0.317625</td>\n",
       "      <td>-3.578497e+13</td>\n",
       "    </tr>\n",
       "    <tr>\n",
       "      <td>1</td>\n",
       "      <td>Lasso</td>\n",
       "      <td>-0.000495</td>\n",
       "      <td>0.265771</td>\n",
       "      <td>0.430564</td>\n",
       "      <td>0.515530</td>\n",
       "      <td>-5.635819e-04</td>\n",
       "    </tr>\n",
       "    <tr>\n",
       "      <td>2</td>\n",
       "      <td>Ridge</td>\n",
       "      <td>0.620212</td>\n",
       "      <td>0.100887</td>\n",
       "      <td>0.254542</td>\n",
       "      <td>0.317627</td>\n",
       "      <td>6.204766e-01</td>\n",
       "    </tr>\n",
       "    <tr>\n",
       "      <td>3</td>\n",
       "      <td>DecisionTreeRegressor</td>\n",
       "      <td>0.893380</td>\n",
       "      <td>0.028322</td>\n",
       "      <td>0.080843</td>\n",
       "      <td>0.168293</td>\n",
       "      <td>9.086534e-01</td>\n",
       "    </tr>\n",
       "    <tr>\n",
       "      <td>4</td>\n",
       "      <td>AdaBoostRegressor</td>\n",
       "      <td>0.723048</td>\n",
       "      <td>0.073569</td>\n",
       "      <td>0.221794</td>\n",
       "      <td>0.271237</td>\n",
       "      <td>6.813161e-01</td>\n",
       "    </tr>\n",
       "    <tr>\n",
       "      <td>5</td>\n",
       "      <td>RandomForestRegressor</td>\n",
       "      <td>0.927131</td>\n",
       "      <td>0.019357</td>\n",
       "      <td>0.075629</td>\n",
       "      <td>0.139129</td>\n",
       "      <td>9.361312e-01</td>\n",
       "    </tr>\n",
       "    <tr>\n",
       "      <td>6</td>\n",
       "      <td>GradientBoostingRegressor</td>\n",
       "      <td>0.872406</td>\n",
       "      <td>0.033894</td>\n",
       "      <td>0.133759</td>\n",
       "      <td>0.184103</td>\n",
       "      <td>8.723207e-01</td>\n",
       "    </tr>\n",
       "  </tbody>\n",
       "</table>\n",
       "</div>"
      ],
      "text/plain": [
       "                       Model  R2_score  Mean_Squared_Error  \\\n",
       "0           LinearRegression  0.620216            0.100885   \n",
       "1                      Lasso -0.000495            0.265771   \n",
       "2                      Ridge  0.620212            0.100887   \n",
       "3      DecisionTreeRegressor  0.893380            0.028322   \n",
       "4          AdaBoostRegressor  0.723048            0.073569   \n",
       "5      RandomForestRegressor  0.927131            0.019357   \n",
       "6  GradientBoostingRegressor  0.872406            0.033894   \n",
       "\n",
       "   Mean_Absolute_Error  Root_Mean_Squared_Error  Cross_val_score  \n",
       "0             0.254540                 0.317625    -3.578497e+13  \n",
       "1             0.430564                 0.515530    -5.635819e-04  \n",
       "2             0.254542                 0.317627     6.204766e-01  \n",
       "3             0.080843                 0.168293     9.086534e-01  \n",
       "4             0.221794                 0.271237     6.813161e-01  \n",
       "5             0.075629                 0.139129     9.361312e-01  \n",
       "6             0.133759                 0.184103     8.723207e-01  "
      ]
     },
     "execution_count": 194,
     "metadata": {},
     "output_type": "execute_result"
    }
   ],
   "source": [
    "result = pd.DataFrame({'Model': Model, 'R2_score': R2_score ,'Mean_Squared_Error' :MSE,'Mean_Absolute_Error' :MAE,'Root_Mean_Squared_Error' :RMSE,'Cross_val_score':cvs})\n",
    "result"
   ]
  },
  {
   "cell_type": "markdown",
   "metadata": {},
   "source": [
    "From the above we can see that Random Forest Regressor is working as best giving us r2_score more than 90, so lets hypertune our model."
   ]
  },
  {
   "cell_type": "code",
   "execution_count": 141,
   "metadata": {},
   "outputs": [
    {
     "data": {
      "text/plain": [
       "GridSearchCV(cv=10, error_score='raise-deprecating',\n",
       "             estimator=RandomForestRegressor(bootstrap=True, criterion='mse',\n",
       "                                             max_depth=None,\n",
       "                                             max_features='auto',\n",
       "                                             max_leaf_nodes=None,\n",
       "                                             min_impurity_decrease=0.0,\n",
       "                                             min_impurity_split=None,\n",
       "                                             min_samples_leaf=1,\n",
       "                                             min_samples_split=2,\n",
       "                                             min_weight_fraction_leaf=0.0,\n",
       "                                             n_estimators=10, n_jobs=None,\n",
       "                                             oob_score=False, random_state=97,\n",
       "                                             verbose=0, warm_start=False),\n",
       "             iid='warn', n_jobs=1,\n",
       "             param_grid={'bootstrap': [True, False],\n",
       "                         'max_features': ['auto', 'sqrt', 'log2'],\n",
       "                         'min_samples_split': [2, 4, 8, 10, 12],\n",
       "                         'n_estimators': [10, 30, 50, 80, 100, 150, 200, 250,\n",
       "                                          300, 350]},\n",
       "             pre_dispatch='2*n_jobs', refit=True, return_train_score=False,\n",
       "             scoring=None, verbose=0)"
      ]
     },
     "execution_count": 141,
     "metadata": {},
     "output_type": "execute_result"
    }
   ],
   "source": [
    "from sklearn.model_selection import GridSearchCV\n",
    "RFRpara={\n",
    "    \"n_estimators\"     :[10,30,50,80,100,150,200,250,300,350],\n",
    "    \"max_features\"     :[\"auto\",\"sqrt\",\"log2\"],\n",
    "    \"min_samples_split\":[2,4,8,10,12],\n",
    "    \"bootstrap\"        :[True,False],\n",
    "    }\n",
    "gFR=GridSearchCV(RFR,param_grid=RFRpara,n_jobs=1,cv=10)\n",
    "gFR.fit(x_train,y_train)"
   ]
  },
  {
   "cell_type": "code",
   "execution_count": 142,
   "metadata": {},
   "outputs": [
    {
     "data": {
      "text/plain": [
       "(0.9363096665976052,\n",
       " {'bootstrap': True,\n",
       "  'max_features': 'auto',\n",
       "  'min_samples_split': 2,\n",
       "  'n_estimators': 350})"
      ]
     },
     "execution_count": 142,
     "metadata": {},
     "output_type": "execute_result"
    }
   ],
   "source": [
    "gFR.best_score_ , gFR.best_params_"
   ]
  },
  {
   "cell_type": "code",
   "execution_count": 143,
   "metadata": {},
   "outputs": [
    {
     "name": "stdout",
     "output_type": "stream",
     "text": [
      "0.9423040989425007\n"
     ]
    }
   ],
   "source": [
    "RFR=RandomForestRegressor(bootstrap = True,                       \n",
    " max_features= 'auto',\n",
    " min_samples_split= 2,\n",
    " n_estimators= 350)\n",
    "\n",
    "print(cross_val_score(RFR,x,y,cv=10).mean())"
   ]
  },
  {
   "cell_type": "markdown",
   "metadata": {},
   "source": [
    "From the above we can see that after hypertunning ou model R2_score got increased from 92 to 93 and Cross val score has also increased from 93 to 94. So i choose RandomForest Regressor as our final model."
   ]
  },
  {
   "cell_type": "code",
   "execution_count": 195,
   "metadata": {},
   "outputs": [
    {
     "data": {
      "text/plain": [
       "['Flight_Ticket_Price_Prediction.obj']"
      ]
     },
     "execution_count": 195,
     "metadata": {},
     "output_type": "execute_result"
    }
   ],
   "source": [
    "from sklearn.externals import joblib\n",
    "joblib.dump(RFR,'Flight_Ticket_Price_Prediction.obj')"
   ]
  },
  {
   "cell_type": "code",
   "execution_count": 196,
   "metadata": {},
   "outputs": [],
   "source": [
    "model=joblib.load('Flight_Ticket_Price_Prediction.obj')"
   ]
  },
  {
   "cell_type": "code",
   "execution_count": 198,
   "metadata": {},
   "outputs": [
    {
     "data": {
      "text/plain": [
       "array([8.53696478, 7.96651982, 8.88585599, ..., 9.02844111, 9.38775831,\n",
       "       9.00072872])"
      ]
     },
     "execution_count": 198,
     "metadata": {},
     "output_type": "execute_result"
    }
   ],
   "source": [
    "model.predict(x_test)"
   ]
  },
  {
   "cell_type": "code",
   "execution_count": 200,
   "metadata": {},
   "outputs": [],
   "source": [
    "prediction=model.predict(xtst)"
   ]
  },
  {
   "cell_type": "code",
   "execution_count": 201,
   "metadata": {},
   "outputs": [],
   "source": [
    "pre = pd.DataFrame(prediction)\n",
    "pre.columns = [\"prediction\"]\n",
    "pre.to_csv(\"Flight_Ticket_Price_Prediction_results.csv\")"
   ]
  },
  {
   "cell_type": "code",
   "execution_count": null,
   "metadata": {},
   "outputs": [],
   "source": []
  },
  {
   "cell_type": "code",
   "execution_count": null,
   "metadata": {},
   "outputs": [],
   "source": []
  }
 ],
 "metadata": {
  "kernelspec": {
   "display_name": "Python 3",
   "language": "python",
   "name": "python3"
  },
  "language_info": {
   "codemirror_mode": {
    "name": "ipython",
    "version": 3
   },
   "file_extension": ".py",
   "mimetype": "text/x-python",
   "name": "python",
   "nbconvert_exporter": "python",
   "pygments_lexer": "ipython3",
   "version": "3.7.4"
  }
 },
 "nbformat": 4,
 "nbformat_minor": 2
}
