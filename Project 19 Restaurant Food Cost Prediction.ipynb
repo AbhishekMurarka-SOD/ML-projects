{
 "cells": [
  {
   "cell_type": "markdown",
   "metadata": {},
   "source": [
    "# Project 19 Restaurant Food Cost Prediction\n",
    "--> Aim is to predict the food cost of a restuarnt based on the given data"
   ]
  },
  {
   "cell_type": "code",
   "execution_count": 217,
   "metadata": {},
   "outputs": [],
   "source": [
    "import pandas as pd\n",
    "import numpy as np\n",
    "import seaborn as sns\n",
    "import matplotlib.pyplot as plt\n",
    "import warnings\n",
    "warnings.filterwarnings('ignore')"
   ]
  },
  {
   "cell_type": "code",
   "execution_count": 218,
   "metadata": {},
   "outputs": [],
   "source": [
    "Rst_trn=pd.read_excel('Data_Test.xlsx')"
   ]
  },
  {
   "cell_type": "code",
   "execution_count": 219,
   "metadata": {},
   "outputs": [
    {
     "data": {
      "text/html": [
       "<div>\n",
       "<style scoped>\n",
       "    .dataframe tbody tr th:only-of-type {\n",
       "        vertical-align: middle;\n",
       "    }\n",
       "\n",
       "    .dataframe tbody tr th {\n",
       "        vertical-align: top;\n",
       "    }\n",
       "\n",
       "    .dataframe thead th {\n",
       "        text-align: right;\n",
       "    }\n",
       "</style>\n",
       "<table border=\"1\" class=\"dataframe\">\n",
       "  <thead>\n",
       "    <tr style=\"text-align: right;\">\n",
       "      <th></th>\n",
       "      <th>TITLE</th>\n",
       "      <th>RESTAURANT_ID</th>\n",
       "      <th>CUISINES</th>\n",
       "      <th>TIME</th>\n",
       "      <th>CITY</th>\n",
       "      <th>LOCALITY</th>\n",
       "      <th>RATING</th>\n",
       "      <th>VOTES</th>\n",
       "    </tr>\n",
       "  </thead>\n",
       "  <tbody>\n",
       "    <tr>\n",
       "      <td>0</td>\n",
       "      <td>CASUAL DINING</td>\n",
       "      <td>4085</td>\n",
       "      <td>North Indian, Chinese, Mughlai, Kebab</td>\n",
       "      <td>12noon – 12midnight (Mon-Sun)</td>\n",
       "      <td>Noida</td>\n",
       "      <td>Sector 18</td>\n",
       "      <td>4.3</td>\n",
       "      <td>564 votes</td>\n",
       "    </tr>\n",
       "    <tr>\n",
       "      <td>1</td>\n",
       "      <td>QUICK BITES</td>\n",
       "      <td>12680</td>\n",
       "      <td>South Indian, Fast Food, Pizza, North Indian</td>\n",
       "      <td>7am – 12:30AM (Mon-Sun)</td>\n",
       "      <td>Mumbai</td>\n",
       "      <td>Grant Road</td>\n",
       "      <td>4.2</td>\n",
       "      <td>61 votes</td>\n",
       "    </tr>\n",
       "    <tr>\n",
       "      <td>2</td>\n",
       "      <td>CASUAL DINING</td>\n",
       "      <td>1411</td>\n",
       "      <td>North Indian, Seafood, Biryani, Chinese</td>\n",
       "      <td>11am – 11:30pm (Mon-Sun)</td>\n",
       "      <td>Mumbai</td>\n",
       "      <td>Marine Lines</td>\n",
       "      <td>3.8</td>\n",
       "      <td>350 votes</td>\n",
       "    </tr>\n",
       "    <tr>\n",
       "      <td>3</td>\n",
       "      <td>None</td>\n",
       "      <td>204</td>\n",
       "      <td>Biryani</td>\n",
       "      <td>9am – 10pm (Mon, Wed, Thu, Fri, Sat, Sun), 10:...</td>\n",
       "      <td>Faridabad</td>\n",
       "      <td>NIT</td>\n",
       "      <td>3.8</td>\n",
       "      <td>1445 votes</td>\n",
       "    </tr>\n",
       "    <tr>\n",
       "      <td>4</td>\n",
       "      <td>QUICK BITES</td>\n",
       "      <td>13453</td>\n",
       "      <td>South Indian, Kerala</td>\n",
       "      <td>11am – 10pm (Mon-Sun)</td>\n",
       "      <td>Kochi</td>\n",
       "      <td>Kaloor</td>\n",
       "      <td>3.6</td>\n",
       "      <td>23 votes</td>\n",
       "    </tr>\n",
       "  </tbody>\n",
       "</table>\n",
       "</div>"
      ],
      "text/plain": [
       "           TITLE  RESTAURANT_ID                                      CUISINES  \\\n",
       "0  CASUAL DINING           4085         North Indian, Chinese, Mughlai, Kebab   \n",
       "1    QUICK BITES          12680  South Indian, Fast Food, Pizza, North Indian   \n",
       "2  CASUAL DINING           1411       North Indian, Seafood, Biryani, Chinese   \n",
       "3           None            204                                       Biryani   \n",
       "4    QUICK BITES          13453                          South Indian, Kerala   \n",
       "\n",
       "                                                TIME       CITY      LOCALITY  \\\n",
       "0                      12noon – 12midnight (Mon-Sun)      Noida     Sector 18   \n",
       "1                            7am – 12:30AM (Mon-Sun)     Mumbai    Grant Road   \n",
       "2                           11am – 11:30pm (Mon-Sun)     Mumbai  Marine Lines   \n",
       "3  9am – 10pm (Mon, Wed, Thu, Fri, Sat, Sun), 10:...  Faridabad           NIT   \n",
       "4                              11am – 10pm (Mon-Sun)      Kochi        Kaloor   \n",
       "\n",
       "  RATING       VOTES  \n",
       "0    4.3   564 votes  \n",
       "1    4.2    61 votes  \n",
       "2    3.8   350 votes  \n",
       "3    3.8  1445 votes  \n",
       "4    3.6    23 votes  "
      ]
     },
     "execution_count": 219,
     "metadata": {},
     "output_type": "execute_result"
    }
   ],
   "source": [
    "Rst_trn.head()"
   ]
  },
  {
   "cell_type": "code",
   "execution_count": 220,
   "metadata": {},
   "outputs": [],
   "source": [
    "Rst_tst=pd.read_excel('Data_Train.xlsx')"
   ]
  },
  {
   "cell_type": "code",
   "execution_count": 221,
   "metadata": {},
   "outputs": [
    {
     "data": {
      "text/html": [
       "<div>\n",
       "<style scoped>\n",
       "    .dataframe tbody tr th:only-of-type {\n",
       "        vertical-align: middle;\n",
       "    }\n",
       "\n",
       "    .dataframe tbody tr th {\n",
       "        vertical-align: top;\n",
       "    }\n",
       "\n",
       "    .dataframe thead th {\n",
       "        text-align: right;\n",
       "    }\n",
       "</style>\n",
       "<table border=\"1\" class=\"dataframe\">\n",
       "  <thead>\n",
       "    <tr style=\"text-align: right;\">\n",
       "      <th></th>\n",
       "      <th>TITLE</th>\n",
       "      <th>RESTAURANT_ID</th>\n",
       "      <th>CUISINES</th>\n",
       "      <th>TIME</th>\n",
       "      <th>CITY</th>\n",
       "      <th>LOCALITY</th>\n",
       "      <th>RATING</th>\n",
       "      <th>VOTES</th>\n",
       "      <th>COST</th>\n",
       "    </tr>\n",
       "  </thead>\n",
       "  <tbody>\n",
       "    <tr>\n",
       "      <td>0</td>\n",
       "      <td>CASUAL DINING</td>\n",
       "      <td>9438</td>\n",
       "      <td>Malwani, Goan, North Indian</td>\n",
       "      <td>11am – 4pm, 7:30pm – 11:30pm (Mon-Sun)</td>\n",
       "      <td>Thane</td>\n",
       "      <td>Dombivali East</td>\n",
       "      <td>3.6</td>\n",
       "      <td>49 votes</td>\n",
       "      <td>1200</td>\n",
       "    </tr>\n",
       "    <tr>\n",
       "      <td>1</td>\n",
       "      <td>CASUAL DINING,BAR</td>\n",
       "      <td>13198</td>\n",
       "      <td>Asian, Modern Indian, Japanese</td>\n",
       "      <td>6pm – 11pm (Mon-Sun)</td>\n",
       "      <td>Chennai</td>\n",
       "      <td>Ramapuram</td>\n",
       "      <td>4.2</td>\n",
       "      <td>30 votes</td>\n",
       "      <td>1500</td>\n",
       "    </tr>\n",
       "    <tr>\n",
       "      <td>2</td>\n",
       "      <td>CASUAL DINING</td>\n",
       "      <td>10915</td>\n",
       "      <td>North Indian, Chinese, Biryani, Hyderabadi</td>\n",
       "      <td>11am – 3:30pm, 7pm – 11pm (Mon-Sun)</td>\n",
       "      <td>Chennai</td>\n",
       "      <td>Saligramam</td>\n",
       "      <td>3.8</td>\n",
       "      <td>221 votes</td>\n",
       "      <td>800</td>\n",
       "    </tr>\n",
       "    <tr>\n",
       "      <td>3</td>\n",
       "      <td>QUICK BITES</td>\n",
       "      <td>6346</td>\n",
       "      <td>Tibetan, Chinese</td>\n",
       "      <td>11:30am – 1am (Mon-Sun)</td>\n",
       "      <td>Mumbai</td>\n",
       "      <td>Bandra West</td>\n",
       "      <td>4.1</td>\n",
       "      <td>24 votes</td>\n",
       "      <td>800</td>\n",
       "    </tr>\n",
       "    <tr>\n",
       "      <td>4</td>\n",
       "      <td>DESSERT PARLOR</td>\n",
       "      <td>15387</td>\n",
       "      <td>Desserts</td>\n",
       "      <td>11am – 1am (Mon-Sun)</td>\n",
       "      <td>Mumbai</td>\n",
       "      <td>Lower Parel</td>\n",
       "      <td>3.8</td>\n",
       "      <td>165 votes</td>\n",
       "      <td>300</td>\n",
       "    </tr>\n",
       "  </tbody>\n",
       "</table>\n",
       "</div>"
      ],
      "text/plain": [
       "               TITLE  RESTAURANT_ID  \\\n",
       "0      CASUAL DINING           9438   \n",
       "1  CASUAL DINING,BAR          13198   \n",
       "2      CASUAL DINING          10915   \n",
       "3        QUICK BITES           6346   \n",
       "4     DESSERT PARLOR          15387   \n",
       "\n",
       "                                     CUISINES  \\\n",
       "0                 Malwani, Goan, North Indian   \n",
       "1              Asian, Modern Indian, Japanese   \n",
       "2  North Indian, Chinese, Biryani, Hyderabadi   \n",
       "3                            Tibetan, Chinese   \n",
       "4                                    Desserts   \n",
       "\n",
       "                                     TIME     CITY        LOCALITY RATING  \\\n",
       "0  11am – 4pm, 7:30pm – 11:30pm (Mon-Sun)    Thane  Dombivali East    3.6   \n",
       "1                    6pm – 11pm (Mon-Sun)  Chennai       Ramapuram    4.2   \n",
       "2     11am – 3:30pm, 7pm – 11pm (Mon-Sun)  Chennai      Saligramam    3.8   \n",
       "3                 11:30am – 1am (Mon-Sun)   Mumbai     Bandra West    4.1   \n",
       "4                    11am – 1am (Mon-Sun)   Mumbai     Lower Parel    3.8   \n",
       "\n",
       "       VOTES  COST  \n",
       "0   49 votes  1200  \n",
       "1   30 votes  1500  \n",
       "2  221 votes   800  \n",
       "3   24 votes   800  \n",
       "4  165 votes   300  "
      ]
     },
     "execution_count": 221,
     "metadata": {},
     "output_type": "execute_result"
    }
   ],
   "source": [
    "Rst_tst.head()"
   ]
  },
  {
   "cell_type": "code",
   "execution_count": 222,
   "metadata": {},
   "outputs": [],
   "source": [
    "Rst_trn['DATA']='test'\n",
    "Rst_tst['DATA']='train'\n",
    "Rst_trn[\"COST\"]=0"
   ]
  },
  {
   "cell_type": "code",
   "execution_count": 223,
   "metadata": {},
   "outputs": [],
   "source": [
    "data=pd.concat([Rst_trn,Rst_tst])"
   ]
  },
  {
   "cell_type": "code",
   "execution_count": 224,
   "metadata": {},
   "outputs": [
    {
     "data": {
      "text/html": [
       "<div>\n",
       "<style scoped>\n",
       "    .dataframe tbody tr th:only-of-type {\n",
       "        vertical-align: middle;\n",
       "    }\n",
       "\n",
       "    .dataframe tbody tr th {\n",
       "        vertical-align: top;\n",
       "    }\n",
       "\n",
       "    .dataframe thead th {\n",
       "        text-align: right;\n",
       "    }\n",
       "</style>\n",
       "<table border=\"1\" class=\"dataframe\">\n",
       "  <thead>\n",
       "    <tr style=\"text-align: right;\">\n",
       "      <th></th>\n",
       "      <th>CITY</th>\n",
       "      <th>COST</th>\n",
       "      <th>CUISINES</th>\n",
       "      <th>DATA</th>\n",
       "      <th>LOCALITY</th>\n",
       "      <th>RATING</th>\n",
       "      <th>RESTAURANT_ID</th>\n",
       "      <th>TIME</th>\n",
       "      <th>TITLE</th>\n",
       "      <th>VOTES</th>\n",
       "    </tr>\n",
       "  </thead>\n",
       "  <tbody>\n",
       "    <tr>\n",
       "      <td>0</td>\n",
       "      <td>Noida</td>\n",
       "      <td>0</td>\n",
       "      <td>North Indian, Chinese, Mughlai, Kebab</td>\n",
       "      <td>test</td>\n",
       "      <td>Sector 18</td>\n",
       "      <td>4.3</td>\n",
       "      <td>4085</td>\n",
       "      <td>12noon – 12midnight (Mon-Sun)</td>\n",
       "      <td>CASUAL DINING</td>\n",
       "      <td>564 votes</td>\n",
       "    </tr>\n",
       "    <tr>\n",
       "      <td>1</td>\n",
       "      <td>Mumbai</td>\n",
       "      <td>0</td>\n",
       "      <td>South Indian, Fast Food, Pizza, North Indian</td>\n",
       "      <td>test</td>\n",
       "      <td>Grant Road</td>\n",
       "      <td>4.2</td>\n",
       "      <td>12680</td>\n",
       "      <td>7am – 12:30AM (Mon-Sun)</td>\n",
       "      <td>QUICK BITES</td>\n",
       "      <td>61 votes</td>\n",
       "    </tr>\n",
       "    <tr>\n",
       "      <td>2</td>\n",
       "      <td>Mumbai</td>\n",
       "      <td>0</td>\n",
       "      <td>North Indian, Seafood, Biryani, Chinese</td>\n",
       "      <td>test</td>\n",
       "      <td>Marine Lines</td>\n",
       "      <td>3.8</td>\n",
       "      <td>1411</td>\n",
       "      <td>11am – 11:30pm (Mon-Sun)</td>\n",
       "      <td>CASUAL DINING</td>\n",
       "      <td>350 votes</td>\n",
       "    </tr>\n",
       "    <tr>\n",
       "      <td>3</td>\n",
       "      <td>Faridabad</td>\n",
       "      <td>0</td>\n",
       "      <td>Biryani</td>\n",
       "      <td>test</td>\n",
       "      <td>NIT</td>\n",
       "      <td>3.8</td>\n",
       "      <td>204</td>\n",
       "      <td>9am – 10pm (Mon, Wed, Thu, Fri, Sat, Sun), 10:...</td>\n",
       "      <td>None</td>\n",
       "      <td>1445 votes</td>\n",
       "    </tr>\n",
       "    <tr>\n",
       "      <td>4</td>\n",
       "      <td>Kochi</td>\n",
       "      <td>0</td>\n",
       "      <td>South Indian, Kerala</td>\n",
       "      <td>test</td>\n",
       "      <td>Kaloor</td>\n",
       "      <td>3.6</td>\n",
       "      <td>13453</td>\n",
       "      <td>11am – 10pm (Mon-Sun)</td>\n",
       "      <td>QUICK BITES</td>\n",
       "      <td>23 votes</td>\n",
       "    </tr>\n",
       "  </tbody>\n",
       "</table>\n",
       "</div>"
      ],
      "text/plain": [
       "        CITY  COST                                      CUISINES  DATA  \\\n",
       "0      Noida     0         North Indian, Chinese, Mughlai, Kebab  test   \n",
       "1     Mumbai     0  South Indian, Fast Food, Pizza, North Indian  test   \n",
       "2     Mumbai     0       North Indian, Seafood, Biryani, Chinese  test   \n",
       "3  Faridabad     0                                       Biryani  test   \n",
       "4      Kochi     0                          South Indian, Kerala  test   \n",
       "\n",
       "       LOCALITY RATING  RESTAURANT_ID  \\\n",
       "0     Sector 18    4.3           4085   \n",
       "1    Grant Road    4.2          12680   \n",
       "2  Marine Lines    3.8           1411   \n",
       "3           NIT    3.8            204   \n",
       "4        Kaloor    3.6          13453   \n",
       "\n",
       "                                                TIME          TITLE  \\\n",
       "0                      12noon – 12midnight (Mon-Sun)  CASUAL DINING   \n",
       "1                            7am – 12:30AM (Mon-Sun)    QUICK BITES   \n",
       "2                           11am – 11:30pm (Mon-Sun)  CASUAL DINING   \n",
       "3  9am – 10pm (Mon, Wed, Thu, Fri, Sat, Sun), 10:...           None   \n",
       "4                              11am – 10pm (Mon-Sun)    QUICK BITES   \n",
       "\n",
       "        VOTES  \n",
       "0   564 votes  \n",
       "1    61 votes  \n",
       "2   350 votes  \n",
       "3  1445 votes  \n",
       "4    23 votes  "
      ]
     },
     "execution_count": 224,
     "metadata": {},
     "output_type": "execute_result"
    }
   ],
   "source": [
    "data.head()"
   ]
  },
  {
   "cell_type": "code",
   "execution_count": 225,
   "metadata": {},
   "outputs": [
    {
     "data": {
      "text/plain": [
       "(16921, 10)"
      ]
     },
     "execution_count": 225,
     "metadata": {},
     "output_type": "execute_result"
    }
   ],
   "source": [
    "data.shape"
   ]
  },
  {
   "cell_type": "code",
   "execution_count": 226,
   "metadata": {},
   "outputs": [
    {
     "name": "stdout",
     "output_type": "stream",
     "text": [
      "<class 'pandas.core.frame.DataFrame'>\n",
      "Int64Index: 16921 entries, 0 to 12689\n",
      "Data columns (total 10 columns):\n",
      "CITY             16774 non-null object\n",
      "COST             16921 non-null int64\n",
      "CUISINES         16921 non-null object\n",
      "DATA             16921 non-null object\n",
      "LOCALITY         16793 non-null object\n",
      "RATING           16917 non-null object\n",
      "RESTAURANT_ID    16921 non-null int64\n",
      "TIME             16921 non-null object\n",
      "TITLE            16921 non-null object\n",
      "VOTES            15315 non-null object\n",
      "dtypes: int64(2), object(8)\n",
      "memory usage: 1.4+ MB\n"
     ]
    }
   ],
   "source": [
    "data.info()"
   ]
  },
  {
   "cell_type": "code",
   "execution_count": 227,
   "metadata": {},
   "outputs": [
    {
     "data": {
      "text/plain": [
       "CITY              147\n",
       "COST                0\n",
       "CUISINES            0\n",
       "DATA                0\n",
       "LOCALITY          128\n",
       "RATING              4\n",
       "RESTAURANT_ID       0\n",
       "TIME                0\n",
       "TITLE               0\n",
       "VOTES            1606\n",
       "dtype: int64"
      ]
     },
     "execution_count": 227,
     "metadata": {},
     "output_type": "execute_result"
    }
   ],
   "source": [
    "data.isnull().sum()"
   ]
  },
  {
   "cell_type": "code",
   "execution_count": 228,
   "metadata": {},
   "outputs": [
    {
     "data": {
      "text/plain": [
       "Chennai                 2855\n",
       "Bangalore               2835\n",
       "Hyderabad               2458\n",
       "Mumbai                  2311\n",
       "New Delhi               1754\n",
       "                        ... \n",
       "Near Reliance Fresh        1\n",
       "Mumbai Chakala             1\n",
       "Semmancheri                1\n",
       "Naya Nagar Mira Road       1\n",
       "Kerala 682018              1\n",
       "Name: CITY, Length: 450, dtype: int64"
      ]
     },
     "execution_count": 228,
     "metadata": {},
     "output_type": "execute_result"
    }
   ],
   "source": [
    "data['CITY'].value_counts()"
   ]
  },
  {
   "cell_type": "code",
   "execution_count": 229,
   "metadata": {},
   "outputs": [
    {
     "data": {
      "text/plain": [
       "array(['564 votes', '61 votes', '350 votes', ..., '2723 votes',\n",
       "       '1426 votes', '1214 votes'], dtype=object)"
      ]
     },
     "execution_count": 229,
     "metadata": {},
     "output_type": "execute_result"
    }
   ],
   "source": [
    "data['VOTES'].unique()"
   ]
  },
  {
   "cell_type": "code",
   "execution_count": 230,
   "metadata": {},
   "outputs": [],
   "source": [
    "data['VOTES'].fillna('0',inplace=True)"
   ]
  },
  {
   "cell_type": "code",
   "execution_count": 231,
   "metadata": {},
   "outputs": [],
   "source": [
    "data['VOTES']=data['VOTES'].str.split(' ').str[0].astype(int)"
   ]
  },
  {
   "cell_type": "code",
   "execution_count": 232,
   "metadata": {},
   "outputs": [
    {
     "data": {
      "text/plain": [
       "array([ 564,   61,  350, ..., 2723, 1426, 1214], dtype=int64)"
      ]
     },
     "execution_count": 232,
     "metadata": {},
     "output_type": "execute_result"
    }
   ],
   "source": [
    "data['VOTES'].unique()"
   ]
  },
  {
   "cell_type": "code",
   "execution_count": 233,
   "metadata": {},
   "outputs": [
    {
     "data": {
      "text/plain": [
       "Gachibowli     216\n",
       "Indiranagar    187\n",
       "Kakkanad       175\n",
       "Kukatpally     171\n",
       "Madhapur       169\n",
       "Name: LOCALITY, dtype: int64"
      ]
     },
     "execution_count": 233,
     "metadata": {},
     "output_type": "execute_result"
    }
   ],
   "source": [
    "data['LOCALITY'].value_counts().head()"
   ]
  },
  {
   "cell_type": "code",
   "execution_count": 234,
   "metadata": {},
   "outputs": [
    {
     "data": {
      "text/plain": [
       "3.9    1643\n",
       "3.8    1604\n",
       "4.0    1498\n",
       "3.7    1437\n",
       "3.6    1261\n",
       "4.1    1217\n",
       "3.5     988\n",
       "4.2     968\n",
       "NEW     930\n",
       "3.4     777\n",
       "4.3     740\n",
       "-       672\n",
       "3.3     485\n",
       "4.4     484\n",
       "3.2     349\n",
       "4.5     274\n",
       "3.1     263\n",
       "2.9     242\n",
       "3.0     229\n",
       "2.8     191\n",
       "4.6     184\n",
       "2.7     129\n",
       "4.7      90\n",
       "2.6      85\n",
       "2.5      51\n",
       "4.8      49\n",
       "4.9      28\n",
       "2.4      24\n",
       "2.3      15\n",
       "2.1       4\n",
       "2.2       4\n",
       "2.0       2\n",
       "Name: RATING, dtype: int64"
      ]
     },
     "execution_count": 234,
     "metadata": {},
     "output_type": "execute_result"
    }
   ],
   "source": [
    "data['RATING'].value_counts()"
   ]
  },
  {
   "cell_type": "code",
   "execution_count": 235,
   "metadata": {},
   "outputs": [
    {
     "data": {
      "text/plain": [
       "array(['4.3', '4.2', '3.8', '3.6', '3.7', 'NEW', '4.0', '3.4', '3.2',\n",
       "       '4.1', '3.0', '-', '3.5', '4.5', '3.9', '3.3', '2.9', '3.1', '2.5',\n",
       "       '2.8', '4.6', '4.4', '2.7', '4.8', '2.6', '4.9', '2.1', '4.7',\n",
       "       '2.3', '2.4', '2.2', nan, '2.0'], dtype=object)"
      ]
     },
     "execution_count": 235,
     "metadata": {},
     "output_type": "execute_result"
    }
   ],
   "source": [
    "data['RATING'].unique()"
   ]
  },
  {
   "cell_type": "code",
   "execution_count": 236,
   "metadata": {},
   "outputs": [],
   "source": [
    "data['RATING'].replace('NEW',1,inplace=True)"
   ]
  },
  {
   "cell_type": "code",
   "execution_count": 237,
   "metadata": {},
   "outputs": [],
   "source": [
    "data['RATING'].replace('-',0,inplace=True)"
   ]
  },
  {
   "cell_type": "code",
   "execution_count": 238,
   "metadata": {},
   "outputs": [],
   "source": [
    "data['RATING'].fillna(0,inplace=True)"
   ]
  },
  {
   "cell_type": "code",
   "execution_count": 239,
   "metadata": {},
   "outputs": [
    {
     "data": {
      "text/plain": [
       "0"
      ]
     },
     "execution_count": 239,
     "metadata": {},
     "output_type": "execute_result"
    }
   ],
   "source": [
    "data['RATING'].isnull().sum()"
   ]
  },
  {
   "cell_type": "code",
   "execution_count": 240,
   "metadata": {},
   "outputs": [],
   "source": [
    "data['RATING']=data['RATING'].astype(float)"
   ]
  },
  {
   "cell_type": "code",
   "execution_count": 241,
   "metadata": {},
   "outputs": [
    {
     "name": "stdout",
     "output_type": "stream",
     "text": [
      "<class 'pandas.core.frame.DataFrame'>\n",
      "Int64Index: 16921 entries, 0 to 12689\n",
      "Data columns (total 10 columns):\n",
      "CITY             16774 non-null object\n",
      "COST             16921 non-null int64\n",
      "CUISINES         16921 non-null object\n",
      "DATA             16921 non-null object\n",
      "LOCALITY         16793 non-null object\n",
      "RATING           16921 non-null float64\n",
      "RESTAURANT_ID    16921 non-null int64\n",
      "TIME             16921 non-null object\n",
      "TITLE            16921 non-null object\n",
      "VOTES            16921 non-null int32\n",
      "dtypes: float64(1), int32(1), int64(2), object(6)\n",
      "memory usage: 1.4+ MB\n"
     ]
    }
   ],
   "source": [
    "data.info()"
   ]
  },
  {
   "cell_type": "code",
   "execution_count": 242,
   "metadata": {},
   "outputs": [],
   "source": [
    "data['CITY'].fillna('none',inplace=True)"
   ]
  },
  {
   "cell_type": "code",
   "execution_count": 243,
   "metadata": {},
   "outputs": [],
   "source": [
    "data['LOCALITY'].fillna('none',inplace=True)"
   ]
  },
  {
   "cell_type": "code",
   "execution_count": 244,
   "metadata": {},
   "outputs": [],
   "source": [
    "from sklearn.preprocessing import LabelEncoder\n",
    "le=LabelEncoder()"
   ]
  },
  {
   "cell_type": "code",
   "execution_count": 245,
   "metadata": {},
   "outputs": [
    {
     "data": {
      "text/plain": [
       "<matplotlib.axes._subplots.AxesSubplot at 0x25abbed3d48>"
      ]
     },
     "execution_count": 245,
     "metadata": {},
     "output_type": "execute_result"
    },
    {
     "data": {
      "image/png": "[encoded data removed]",
      "text/plain": [
       "<Figure size 432x288 with 1 Axes>"
      ]
     },
     "metadata": {
      "needs_background": "light"
     },
     "output_type": "display_data"
    }
   ],
   "source": [
    "sns.distplot(data['VOTES'])"
   ]
  },
  {
   "cell_type": "code",
   "execution_count": 246,
   "metadata": {},
   "outputs": [],
   "source": [
    "data['VOTES']=data['VOTES']+5\n",
    "from scipy.stats import boxcox\n",
    "data['VOTES']=boxcox(data['VOTES'],0)"
   ]
  },
  {
   "cell_type": "code",
   "execution_count": 247,
   "metadata": {},
   "outputs": [
    {
     "data": {
      "text/plain": [
       "<matplotlib.axes._subplots.AxesSubplot at 0x25abb825088>"
      ]
     },
     "execution_count": 247,
     "metadata": {},
     "output_type": "execute_result"
    },
    {
     "data": {
      "image/png": "[encoded data removed]",
      "text/plain": [
       "<Figure size 432x288 with 1 Axes>"
      ]
     },
     "metadata": {
      "needs_background": "light"
     },
     "output_type": "display_data"
    }
   ],
   "source": [
    "sns.distplot(data['VOTES'])"
   ]
  },
  {
   "cell_type": "code",
   "execution_count": 248,
   "metadata": {},
   "outputs": [
    {
     "name": "stdout",
     "output_type": "stream",
     "text": [
      "<class 'pandas.core.frame.DataFrame'>\n",
      "Int64Index: 16921 entries, 0 to 12689\n",
      "Data columns (total 10 columns):\n",
      "CITY             16921 non-null object\n",
      "COST             16921 non-null int64\n",
      "CUISINES         16921 non-null object\n",
      "DATA             16921 non-null object\n",
      "LOCALITY         16921 non-null object\n",
      "RATING           16921 non-null float64\n",
      "RESTAURANT_ID    16921 non-null int64\n",
      "TIME             16921 non-null object\n",
      "TITLE            16921 non-null object\n",
      "VOTES            16921 non-null float64\n",
      "dtypes: float64(2), int64(2), object(6)\n",
      "memory usage: 1.4+ MB\n"
     ]
    }
   ],
   "source": [
    "data.info()"
   ]
  },
  {
   "cell_type": "code",
   "execution_count": 249,
   "metadata": {},
   "outputs": [
    {
     "data": {
      "text/plain": [
       "array(['North Indian, Chinese, Mughlai, Kebab',\n",
       "       'South Indian, Fast Food, Pizza, North Indian',\n",
       "       'North Indian, Seafood, Biryani, Chinese', ...,\n",
       "       'North Indian, Burger, Kebab', 'Goan, Continental',\n",
       "       'Finger Food, Continental, Asian, Chinese'], dtype=object)"
      ]
     },
     "execution_count": 249,
     "metadata": {},
     "output_type": "execute_result"
    }
   ],
   "source": [
    "data['CUISINES'].unique()"
   ]
  },
  {
   "cell_type": "code",
   "execution_count": 250,
   "metadata": {},
   "outputs": [],
   "source": [
    "data['CUISINES1']=data['CUISINES'].str.split(',').str[0]\n",
    "data['CUISINES2']=data['CUISINES'].str.split(',').str[1]\n",
    "data['CUISINES3']=data['CUISINES'].str.split(',').str[2]\n",
    "data['CUISINES4']=data['CUISINES'].str.split(',').str[3]\n",
    "data['CUISINES5']=data['CUISINES'].str.split(',').str[4]"
   ]
  },
  {
   "cell_type": "code",
   "execution_count": 251,
   "metadata": {},
   "outputs": [],
   "source": [
    "data['CUISINES2'].fillna('None',inplace=True)\n",
    "data['CUISINES3'].fillna('None',inplace=True)\n",
    "data['CUISINES4'].fillna('None',inplace=True)\n",
    "data['CUISINES5'].fillna('None',inplace=True)"
   ]
  },
  {
   "cell_type": "code",
   "execution_count": 252,
   "metadata": {},
   "outputs": [],
   "source": [
    "data['CUISINES1']=le.fit_transform(data['CUISINES1'])\n",
    "data['CUISINES2']=le.fit_transform(data['CUISINES2'])\n",
    "data['CUISINES3']=le.fit_transform(data['CUISINES3'])\n",
    "data['CUISINES4']=le.fit_transform(data['CUISINES4'])\n",
    "data['CUISINES5']=le.fit_transform(data['CUISINES5'])"
   ]
  },
  {
   "cell_type": "code",
   "execution_count": 253,
   "metadata": {},
   "outputs": [],
   "source": [
    "data.drop(['CUISINES'],axis=1, inplace=True)"
   ]
  },
  {
   "cell_type": "code",
   "execution_count": 254,
   "metadata": {},
   "outputs": [
    {
     "name": "stdout",
     "output_type": "stream",
     "text": [
      "<class 'pandas.core.frame.DataFrame'>\n",
      "Int64Index: 16921 entries, 0 to 12689\n",
      "Data columns (total 14 columns):\n",
      "CITY             16921 non-null object\n",
      "COST             16921 non-null int64\n",
      "DATA             16921 non-null object\n",
      "LOCALITY         16921 non-null object\n",
      "RATING           16921 non-null float64\n",
      "RESTAURANT_ID    16921 non-null int64\n",
      "TIME             16921 non-null object\n",
      "TITLE            16921 non-null object\n",
      "VOTES            16921 non-null float64\n",
      "CUISINES1        16921 non-null int32\n",
      "CUISINES2        16921 non-null int32\n",
      "CUISINES3        16921 non-null int32\n",
      "CUISINES4        16921 non-null int32\n",
      "CUISINES5        16921 non-null int32\n",
      "dtypes: float64(2), int32(5), int64(2), object(5)\n",
      "memory usage: 1.6+ MB\n"
     ]
    }
   ],
   "source": [
    "data.info()"
   ]
  },
  {
   "cell_type": "code",
   "execution_count": 255,
   "metadata": {},
   "outputs": [
    {
     "data": {
      "text/plain": [
       "0     CASUAL DINING\n",
       "1       QUICK BITES\n",
       "2     CASUAL DINING\n",
       "3              None\n",
       "4       QUICK BITES\n",
       "          ...      \n",
       "95      QUICK BITES\n",
       "96    CASUAL DINING\n",
       "97    CASUAL DINING\n",
       "98           LOUNGE\n",
       "99    CASUAL DINING\n",
       "Name: TITLE, Length: 100, dtype: object"
      ]
     },
     "execution_count": 255,
     "metadata": {},
     "output_type": "execute_result"
    }
   ],
   "source": [
    "data['TITLE'].head(100)"
   ]
  },
  {
   "cell_type": "code",
   "execution_count": 256,
   "metadata": {
    "scrolled": true
   },
   "outputs": [
    {
     "data": {
      "text/plain": [
       "array(['CASUAL DINING', 'QUICK BITES', 'None',\n",
       "       'FOOD TRUCK,DESSERT PARLOR', 'DESSERT PARLOR,QUICK BITES',\n",
       "       'CASUAL DINING,BAR', 'LOUNGE', 'BEVERAGE SHOP',\n",
       "       'CASUAL DINING,PUB', 'DESSERT PARLOR', 'PUB', 'CAFÉ', 'BAKERY',\n",
       "       'LOUNGE,BAR', 'BAKERY,QUICK BITES', 'SWEET SHOP',\n",
       "       'SWEET SHOP,QUICK BITES', 'BEVERAGE SHOP,QUICK BITES',\n",
       "       'CAFÉ,QUICK BITES', 'DHABA', 'QUICK BITES,DESSERT PARLOR',\n",
       "       'FINE DINING', 'IRANI CAFE,BAKERY', 'PUB,CASUAL DINING',\n",
       "       'BAKERY,CASUAL DINING', 'BAR', 'FOOD COURT',\n",
       "       'QUICK BITES,SWEET SHOP', 'CAFÉ,BAR', 'BAR,PUB',\n",
       "       'BAKERY,DESSERT PARLOR', 'KIOSK', 'CAFÉ,BAKERY',\n",
       "       'CASUAL DINING,BAKERY', 'BAKERY,CAFÉ', 'CASUAL DINING,CAFÉ',\n",
       "       'QUICK BITES,CAFÉ', 'MESS', 'BAR,CASUAL DINING',\n",
       "       'BEVERAGE SHOP,CAFÉ', 'BEVERAGE SHOP,DESSERT PARLOR',\n",
       "       'PUB,FINE DINING', 'CASUAL DINING,FOOD COURT',\n",
       "       'CAFÉ,CASUAL DINING', 'LOUNGE,CASUAL DINING',\n",
       "       'DESSERT PARLOR,CAFÉ', 'FINE DINING,BAR',\n",
       "       'CASUAL DINING,SWEET SHOP', 'LOUNGE,FINE DINING',\n",
       "       'MICROBREWERY,PUB', 'FOOD TRUCK', 'CASUAL DINING,MICROBREWERY',\n",
       "       'CLUB', 'CAFÉ,FOOD COURT', 'CAFÉ,DESSERT PARLOR',\n",
       "       'MICROBREWERY,CASUAL DINING', 'DESSERT PARLOR,BAKERY',\n",
       "       'QUICK BITES,BAKERY', 'QUICK BITES,BEVERAGE SHOP',\n",
       "       'FINE DINING,MICROBREWERY', 'CASUAL DINING,LOUNGE',\n",
       "       'CLUB,FINE DINING', 'PUB,MICROBREWERY',\n",
       "       'SWEET SHOP,DESSERT PARLOR', 'COCKTAIL BAR,CASUAL DINING',\n",
       "       'DESSERT PARLOR,BEVERAGE SHOP', 'FOOD COURT,QUICK BITES',\n",
       "       'LOUNGE,CLUB', 'MICROBREWERY', 'DESSERT PARLOR,FOOD COURT',\n",
       "       'PUB,BAR', 'BAKERY,BEVERAGE SHOP', 'QUICK BITES,MEAT SHOP',\n",
       "       'CAFÉ,LOUNGE', 'FINE DINING,LOUNGE', 'CONFECTIONERY', 'PAAN SHOP',\n",
       "       'CLUB,CASUAL DINING', 'FINE DINING,CAFÉ', 'PUB,LOUNGE', 'PUB,CAFÉ',\n",
       "       'BAR,LOUNGE', 'QUICK BITES,CASUAL DINING',\n",
       "       'CASUAL DINING,IRANI CAFE', 'CLUB,BAR', 'BHOJANALYA',\n",
       "       'DESSERT PARLOR,SWEET SHOP', 'QUICK BITES,FOOD COURT',\n",
       "       'BEVERAGE SHOP,FOOD COURT', 'QUICK BITES,KIOSK', 'LOUNGE,CAFÉ',\n",
       "       'BAKERY,CONFECTIONERY', 'SWEET SHOP,CONFECTIONERY',\n",
       "       'MICROBREWERY,BAR', 'CASUAL DINING,CLUB', 'BAR,CAFÉ', 'MEAT SHOP',\n",
       "       'BAR,FINE DINING', 'SWEET SHOP,CASUAL DINING',\n",
       "       'MEAT SHOP,QUICK BITES', 'COCKTAIL BAR', 'QUICK BITES,BAR',\n",
       "       'BAKERY,FOOD COURT', 'QUICK BITES,FOOD TRUCK', 'BAKERY,SWEET SHOP',\n",
       "       'SWEET SHOP,BAKERY', 'FOOD COURT,DESSERT PARLOR',\n",
       "       'CLUB,MICROBREWERY', 'CAFÉ,BEVERAGE SHOP',\n",
       "       'DESSERT PARLOR,PAAN SHOP', 'MICROBREWERY,LOUNGE',\n",
       "       'CONFECTIONERY,QUICK BITES', 'DESSERT PARLOR,KIOSK', 'LOUNGE,PUB',\n",
       "       'SWEET SHOP,BEVERAGE SHOP', 'BEVERAGE SHOP,CASUAL DINING',\n",
       "       'KIOSK,QUICK BITES', 'CASUAL DINING,DESSERT PARLOR', 'BAR,CLUB',\n",
       "       'CAFÉ,FINE DINING', 'KIOSK,FOOD COURT', 'LOUNGE,MICROBREWERY',\n",
       "       'BAR,MICROBREWERY'], dtype=object)"
      ]
     },
     "execution_count": 256,
     "metadata": {},
     "output_type": "execute_result"
    }
   ],
   "source": [
    "data['TITLE'].unique()"
   ]
  },
  {
   "cell_type": "code",
   "execution_count": 257,
   "metadata": {},
   "outputs": [
    {
     "data": {
      "text/plain": [
       "QUICK BITES                 5634\n",
       "CASUAL DINING               4910\n",
       "None                        1287\n",
       "CAFÉ                         830\n",
       "DESSERT PARLOR               508\n",
       "                            ... \n",
       "BAKERY,FOOD COURT              1\n",
       "CLUB,MICROBREWERY              1\n",
       "BEVERAGE SHOP,FOOD COURT       1\n",
       "QUICK BITES,FOOD TRUCK         1\n",
       "QUICK BITES,BAR                1\n",
       "Name: TITLE, Length: 123, dtype: int64"
      ]
     },
     "execution_count": 257,
     "metadata": {},
     "output_type": "execute_result"
    }
   ],
   "source": [
    "data['TITLE'].value_counts()"
   ]
  },
  {
   "cell_type": "code",
   "execution_count": 258,
   "metadata": {},
   "outputs": [],
   "source": [
    "data['TITLE1']=data['TITLE'].str.split(',').str[0]\n",
    "data['TITLE2']=data['TITLE'].str.split(',').str[1]"
   ]
  },
  {
   "cell_type": "code",
   "execution_count": 259,
   "metadata": {},
   "outputs": [],
   "source": [
    "data['TITLE2'].fillna('None',inplace=True)"
   ]
  },
  {
   "cell_type": "code",
   "execution_count": 260,
   "metadata": {},
   "outputs": [
    {
     "name": "stdout",
     "output_type": "stream",
     "text": [
      "<class 'pandas.core.frame.DataFrame'>\n",
      "Int64Index: 16921 entries, 0 to 12689\n",
      "Data columns (total 16 columns):\n",
      "CITY             16921 non-null object\n",
      "COST             16921 non-null int64\n",
      "DATA             16921 non-null object\n",
      "LOCALITY         16921 non-null object\n",
      "RATING           16921 non-null float64\n",
      "RESTAURANT_ID    16921 non-null int64\n",
      "TIME             16921 non-null object\n",
      "TITLE            16921 non-null object\n",
      "VOTES            16921 non-null float64\n",
      "CUISINES1        16921 non-null int32\n",
      "CUISINES2        16921 non-null int32\n",
      "CUISINES3        16921 non-null int32\n",
      "CUISINES4        16921 non-null int32\n",
      "CUISINES5        16921 non-null int32\n",
      "TITLE1           16921 non-null object\n",
      "TITLE2           16921 non-null object\n",
      "dtypes: float64(2), int32(5), int64(2), object(7)\n",
      "memory usage: 1.9+ MB\n"
     ]
    }
   ],
   "source": [
    "data.info()"
   ]
  },
  {
   "cell_type": "code",
   "execution_count": 261,
   "metadata": {},
   "outputs": [],
   "source": [
    "data.drop(['TITLE'],axis=1,inplace=True)"
   ]
  },
  {
   "cell_type": "code",
   "execution_count": 262,
   "metadata": {},
   "outputs": [],
   "source": [
    "data.drop(['TIME'],axis=1,inplace=True)"
   ]
  },
  {
   "cell_type": "code",
   "execution_count": 263,
   "metadata": {},
   "outputs": [],
   "source": [
    "data.drop(['RESTAURANT_ID'],axis=1,inplace=True)"
   ]
  },
  {
   "cell_type": "code",
   "execution_count": 264,
   "metadata": {},
   "outputs": [],
   "source": [
    "data['TITLE1']=le.fit_transform(data['TITLE1'])\n",
    "data['TITLE2']=le.fit_transform(data['TITLE2'])"
   ]
  },
  {
   "cell_type": "code",
   "execution_count": 265,
   "metadata": {},
   "outputs": [
    {
     "name": "stdout",
     "output_type": "stream",
     "text": [
      "<class 'pandas.core.frame.DataFrame'>\n",
      "Int64Index: 16921 entries, 0 to 12689\n",
      "Data columns (total 13 columns):\n",
      "CITY         16921 non-null object\n",
      "COST         16921 non-null int64\n",
      "DATA         16921 non-null object\n",
      "LOCALITY     16921 non-null object\n",
      "RATING       16921 non-null float64\n",
      "VOTES        16921 non-null float64\n",
      "CUISINES1    16921 non-null int32\n",
      "CUISINES2    16921 non-null int32\n",
      "CUISINES3    16921 non-null int32\n",
      "CUISINES4    16921 non-null int32\n",
      "CUISINES5    16921 non-null int32\n",
      "TITLE1       16921 non-null int32\n",
      "TITLE2       16921 non-null int32\n",
      "dtypes: float64(2), int32(7), int64(1), object(3)\n",
      "memory usage: 1.4+ MB\n"
     ]
    }
   ],
   "source": [
    "data.info()"
   ]
  },
  {
   "cell_type": "code",
   "execution_count": 266,
   "metadata": {},
   "outputs": [],
   "source": [
    "Trainfinal=data.loc[data['DATA']=='Train']\n",
    "Testfinal=data.loc[data['DATA']=='Test']"
   ]
  },
  {
   "cell_type": "code",
   "execution_count": 267,
   "metadata": {},
   "outputs": [
    {
     "data": {
      "text/html": [
       "<div>\n",
       "<style scoped>\n",
       "    .dataframe tbody tr th:only-of-type {\n",
       "        vertical-align: middle;\n",
       "    }\n",
       "\n",
       "    .dataframe tbody tr th {\n",
       "        vertical-align: top;\n",
       "    }\n",
       "\n",
       "    .dataframe thead th {\n",
       "        text-align: right;\n",
       "    }\n",
       "</style>\n",
       "<table border=\"1\" class=\"dataframe\">\n",
       "  <thead>\n",
       "    <tr style=\"text-align: right;\">\n",
       "      <th></th>\n",
       "      <th>CITY</th>\n",
       "      <th>COST</th>\n",
       "      <th>LOCALITY</th>\n",
       "      <th>RATING</th>\n",
       "      <th>VOTES</th>\n",
       "      <th>CUISINES1</th>\n",
       "      <th>CUISINES2</th>\n",
       "      <th>CUISINES3</th>\n",
       "      <th>CUISINES4</th>\n",
       "      <th>CUISINES5</th>\n",
       "      <th>TITLE1</th>\n",
       "      <th>TITLE2</th>\n",
       "    </tr>\n",
       "  </thead>\n",
       "  <tbody>\n",
       "  </tbody>\n",
       "</table>\n",
       "</div>"
      ],
      "text/plain": [
       "Empty DataFrame\n",
       "Columns: [CITY, COST, LOCALITY, RATING, VOTES, CUISINES1, CUISINES2, CUISINES3, CUISINES4, CUISINES5, TITLE1, TITLE2]\n",
       "Index: []"
      ]
     },
     "execution_count": 267,
     "metadata": {},
     "output_type": "execute_result"
    }
   ],
   "source": [
    "Trainfinal.drop(['DATA'],axis=1,inplace=True)\n",
    "Testfinal.drop(['DATA'],axis=1,inplace=True)\n",
    "Trainfinal.head()\n",
    "Testfinal.head()"
   ]
  },
  {
   "cell_type": "code",
   "execution_count": null,
   "metadata": {},
   "outputs": [],
   "source": []
  }
 ],
 "metadata": {
  "kernelspec": {
   "display_name": "Python 3",
   "language": "python",
   "name": "python3"
  },
  "language_info": {
   "codemirror_mode": {
    "name": "ipython",
    "version": 3
   },
   "file_extension": ".py",
   "mimetype": "text/x-python",
   "name": "python",
   "nbconvert_exporter": "python",
   "pygments_lexer": "ipython3",
   "version": "3.7.4"
  }
 },
 "nbformat": 4,
 "nbformat_minor": 2
}
