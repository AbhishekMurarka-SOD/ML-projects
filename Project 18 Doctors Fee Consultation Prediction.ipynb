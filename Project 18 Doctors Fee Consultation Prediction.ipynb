{
 "cells": [
  {
   "cell_type": "markdown",
   "metadata": {},
   "source": [
    "# Project 18 Doctors Consultation Fees Prediction\n",
    "-->Aim is to predict the Doctors Fees based on given data."
   ]
  },
  {
   "cell_type": "markdown",
   "metadata": {},
   "source": [
    "## Lets Load the important libraries"
   ]
  },
  {
   "cell_type": "code",
   "execution_count": 148,
   "metadata": {},
   "outputs": [],
   "source": [
    "import pandas as pd\n",
    "import numpy as np\n",
    "import seaborn as sns\n",
    "import matplotlib.pyplot as plt\n",
    "%matplotlib inline\n",
    "import warnings\n",
    "warnings.filterwarnings('ignore')"
   ]
  },
  {
   "cell_type": "markdown",
   "metadata": {},
   "source": [
    "## Lets Load the dataset"
   ]
  },
  {
   "cell_type": "code",
   "execution_count": 189,
   "metadata": {},
   "outputs": [
    {
     "data": {
      "text/html": [
       "<div>\n",
       "<style scoped>\n",
       "    .dataframe tbody tr th:only-of-type {\n",
       "        vertical-align: middle;\n",
       "    }\n",
       "\n",
       "    .dataframe tbody tr th {\n",
       "        vertical-align: top;\n",
       "    }\n",
       "\n",
       "    .dataframe thead th {\n",
       "        text-align: right;\n",
       "    }\n",
       "</style>\n",
       "<table border=\"1\" class=\"dataframe\">\n",
       "  <thead>\n",
       "    <tr style=\"text-align: right;\">\n",
       "      <th></th>\n",
       "      <th>Qualification</th>\n",
       "      <th>Experience</th>\n",
       "      <th>Rating</th>\n",
       "      <th>Place</th>\n",
       "      <th>Profile</th>\n",
       "      <th>Miscellaneous_Info</th>\n",
       "    </tr>\n",
       "  </thead>\n",
       "  <tbody>\n",
       "    <tr>\n",
       "      <td>0</td>\n",
       "      <td>MBBS</td>\n",
       "      <td>35 years experience</td>\n",
       "      <td>NaN</td>\n",
       "      <td>Ghatkopar East, Mumbai</td>\n",
       "      <td>General Medicine</td>\n",
       "      <td>NaN</td>\n",
       "    </tr>\n",
       "    <tr>\n",
       "      <td>1</td>\n",
       "      <td>MBBS, Diploma in Otorhinolaryngology (DLO)</td>\n",
       "      <td>31 years experience</td>\n",
       "      <td>NaN</td>\n",
       "      <td>West Marredpally, Hyderabad</td>\n",
       "      <td>ENT Specialist</td>\n",
       "      <td>NaN</td>\n",
       "    </tr>\n",
       "    <tr>\n",
       "      <td>2</td>\n",
       "      <td>MBBS, DDVL</td>\n",
       "      <td>40 years experience</td>\n",
       "      <td>70%</td>\n",
       "      <td>KK Nagar, Chennai</td>\n",
       "      <td>Dermatologists</td>\n",
       "      <td>70% 4 Feedback KK Nagar, Chennai</td>\n",
       "    </tr>\n",
       "    <tr>\n",
       "      <td>3</td>\n",
       "      <td>BAMS</td>\n",
       "      <td>0 years experience</td>\n",
       "      <td>NaN</td>\n",
       "      <td>New Ashok Nagar, Delhi</td>\n",
       "      <td>Ayurveda</td>\n",
       "      <td>NaN</td>\n",
       "    </tr>\n",
       "    <tr>\n",
       "      <td>4</td>\n",
       "      <td>BDS, MDS - Conservative Dentistry &amp; Endodontics</td>\n",
       "      <td>16 years experience</td>\n",
       "      <td>100%</td>\n",
       "      <td>Kanakpura Road, Bangalore</td>\n",
       "      <td>Dentist</td>\n",
       "      <td>General Dentistry Conservative Dentistry Cosme...</td>\n",
       "    </tr>\n",
       "  </tbody>\n",
       "</table>\n",
       "</div>"
      ],
      "text/plain": [
       "                                     Qualification           Experience  \\\n",
       "0                                             MBBS  35 years experience   \n",
       "1       MBBS, Diploma in Otorhinolaryngology (DLO)  31 years experience   \n",
       "2                                       MBBS, DDVL  40 years experience   \n",
       "3                                             BAMS   0 years experience   \n",
       "4  BDS, MDS - Conservative Dentistry & Endodontics  16 years experience   \n",
       "\n",
       "  Rating                        Place           Profile  \\\n",
       "0    NaN       Ghatkopar East, Mumbai  General Medicine   \n",
       "1    NaN  West Marredpally, Hyderabad    ENT Specialist   \n",
       "2    70%            KK Nagar, Chennai    Dermatologists   \n",
       "3    NaN       New Ashok Nagar, Delhi          Ayurveda   \n",
       "4   100%    Kanakpura Road, Bangalore           Dentist   \n",
       "\n",
       "                                  Miscellaneous_Info  \n",
       "0                                                NaN  \n",
       "1                                                NaN  \n",
       "2                   70% 4 Feedback KK Nagar, Chennai  \n",
       "3                                                NaN  \n",
       "4  General Dentistry Conservative Dentistry Cosme...  "
      ]
     },
     "execution_count": 189,
     "metadata": {},
     "output_type": "execute_result"
    }
   ],
   "source": [
    "dt=pd.read_excel('Doctors_Test.xlsx')\n",
    "dt.head()"
   ]
  },
  {
   "cell_type": "code",
   "execution_count": 190,
   "metadata": {},
   "outputs": [
    {
     "data": {
      "text/html": [
       "<div>\n",
       "<style scoped>\n",
       "    .dataframe tbody tr th:only-of-type {\n",
       "        vertical-align: middle;\n",
       "    }\n",
       "\n",
       "    .dataframe tbody tr th {\n",
       "        vertical-align: top;\n",
       "    }\n",
       "\n",
       "    .dataframe thead th {\n",
       "        text-align: right;\n",
       "    }\n",
       "</style>\n",
       "<table border=\"1\" class=\"dataframe\">\n",
       "  <thead>\n",
       "    <tr style=\"text-align: right;\">\n",
       "      <th></th>\n",
       "      <th>Qualification</th>\n",
       "      <th>Experience</th>\n",
       "      <th>Rating</th>\n",
       "      <th>Place</th>\n",
       "      <th>Profile</th>\n",
       "      <th>Miscellaneous_Info</th>\n",
       "      <th>Fees</th>\n",
       "    </tr>\n",
       "  </thead>\n",
       "  <tbody>\n",
       "    <tr>\n",
       "      <td>0</td>\n",
       "      <td>BHMS, MD - Homeopathy</td>\n",
       "      <td>24 years experience</td>\n",
       "      <td>100%</td>\n",
       "      <td>Kakkanad, Ernakulam</td>\n",
       "      <td>Homeopath</td>\n",
       "      <td>100% 16 Feedback Kakkanad, Ernakulam</td>\n",
       "      <td>100</td>\n",
       "    </tr>\n",
       "    <tr>\n",
       "      <td>1</td>\n",
       "      <td>BAMS, MD - Ayurveda Medicine</td>\n",
       "      <td>12 years experience</td>\n",
       "      <td>98%</td>\n",
       "      <td>Whitefield, Bangalore</td>\n",
       "      <td>Ayurveda</td>\n",
       "      <td>98% 76 Feedback Whitefield, Bangalore</td>\n",
       "      <td>350</td>\n",
       "    </tr>\n",
       "    <tr>\n",
       "      <td>2</td>\n",
       "      <td>MBBS, MS - Otorhinolaryngology</td>\n",
       "      <td>9 years experience</td>\n",
       "      <td>NaN</td>\n",
       "      <td>Mathikere - BEL, Bangalore</td>\n",
       "      <td>ENT Specialist</td>\n",
       "      <td>NaN</td>\n",
       "      <td>300</td>\n",
       "    </tr>\n",
       "    <tr>\n",
       "      <td>3</td>\n",
       "      <td>BSc - Zoology, BAMS</td>\n",
       "      <td>12 years experience</td>\n",
       "      <td>NaN</td>\n",
       "      <td>Bannerghatta Road, Bangalore</td>\n",
       "      <td>Ayurveda</td>\n",
       "      <td>Bannerghatta Road, Bangalore ₹250 Available on...</td>\n",
       "      <td>250</td>\n",
       "    </tr>\n",
       "    <tr>\n",
       "      <td>4</td>\n",
       "      <td>BAMS</td>\n",
       "      <td>20 years experience</td>\n",
       "      <td>100%</td>\n",
       "      <td>Keelkattalai, Chennai</td>\n",
       "      <td>Ayurveda</td>\n",
       "      <td>100% 4 Feedback Keelkattalai, Chennai</td>\n",
       "      <td>250</td>\n",
       "    </tr>\n",
       "  </tbody>\n",
       "</table>\n",
       "</div>"
      ],
      "text/plain": [
       "                    Qualification           Experience Rating  \\\n",
       "0           BHMS, MD - Homeopathy  24 years experience   100%   \n",
       "1    BAMS, MD - Ayurveda Medicine  12 years experience    98%   \n",
       "2  MBBS, MS - Otorhinolaryngology   9 years experience    NaN   \n",
       "3             BSc - Zoology, BAMS  12 years experience    NaN   \n",
       "4                            BAMS  20 years experience   100%   \n",
       "\n",
       "                          Place         Profile  \\\n",
       "0           Kakkanad, Ernakulam       Homeopath   \n",
       "1         Whitefield, Bangalore        Ayurveda   \n",
       "2    Mathikere - BEL, Bangalore  ENT Specialist   \n",
       "3  Bannerghatta Road, Bangalore        Ayurveda   \n",
       "4         Keelkattalai, Chennai        Ayurveda   \n",
       "\n",
       "                                  Miscellaneous_Info  Fees  \n",
       "0               100% 16 Feedback Kakkanad, Ernakulam   100  \n",
       "1              98% 76 Feedback Whitefield, Bangalore   350  \n",
       "2                                                NaN   300  \n",
       "3  Bannerghatta Road, Bangalore ₹250 Available on...   250  \n",
       "4              100% 4 Feedback Keelkattalai, Chennai   250  "
      ]
     },
     "execution_count": 190,
     "metadata": {},
     "output_type": "execute_result"
    }
   ],
   "source": [
    "dte=pd.read_excel('Doctors_Train.xlsx')\n",
    "dte.head()"
   ]
  },
  {
   "cell_type": "code",
   "execution_count": 191,
   "metadata": {},
   "outputs": [],
   "source": [
    "dt['DATA']='Test'\n",
    "dte['DATA']='Train'\n",
    "dt['Fees']=0"
   ]
  },
  {
   "cell_type": "code",
   "execution_count": 192,
   "metadata": {
    "scrolled": false
   },
   "outputs": [
    {
     "data": {
      "text/html": [
       "<div>\n",
       "<style scoped>\n",
       "    .dataframe tbody tr th:only-of-type {\n",
       "        vertical-align: middle;\n",
       "    }\n",
       "\n",
       "    .dataframe tbody tr th {\n",
       "        vertical-align: top;\n",
       "    }\n",
       "\n",
       "    .dataframe thead th {\n",
       "        text-align: right;\n",
       "    }\n",
       "</style>\n",
       "<table border=\"1\" class=\"dataframe\">\n",
       "  <thead>\n",
       "    <tr style=\"text-align: right;\">\n",
       "      <th></th>\n",
       "      <th>DATA</th>\n",
       "      <th>Experience</th>\n",
       "      <th>Fees</th>\n",
       "      <th>Miscellaneous_Info</th>\n",
       "      <th>Place</th>\n",
       "      <th>Profile</th>\n",
       "      <th>Qualification</th>\n",
       "      <th>Rating</th>\n",
       "    </tr>\n",
       "  </thead>\n",
       "  <tbody>\n",
       "    <tr>\n",
       "      <td>0</td>\n",
       "      <td>Train</td>\n",
       "      <td>24 years experience</td>\n",
       "      <td>100</td>\n",
       "      <td>100% 16 Feedback Kakkanad, Ernakulam</td>\n",
       "      <td>Kakkanad, Ernakulam</td>\n",
       "      <td>Homeopath</td>\n",
       "      <td>BHMS, MD - Homeopathy</td>\n",
       "      <td>100%</td>\n",
       "    </tr>\n",
       "    <tr>\n",
       "      <td>1</td>\n",
       "      <td>Train</td>\n",
       "      <td>12 years experience</td>\n",
       "      <td>350</td>\n",
       "      <td>98% 76 Feedback Whitefield, Bangalore</td>\n",
       "      <td>Whitefield, Bangalore</td>\n",
       "      <td>Ayurveda</td>\n",
       "      <td>BAMS, MD - Ayurveda Medicine</td>\n",
       "      <td>98%</td>\n",
       "    </tr>\n",
       "    <tr>\n",
       "      <td>2</td>\n",
       "      <td>Train</td>\n",
       "      <td>9 years experience</td>\n",
       "      <td>300</td>\n",
       "      <td>NaN</td>\n",
       "      <td>Mathikere - BEL, Bangalore</td>\n",
       "      <td>ENT Specialist</td>\n",
       "      <td>MBBS, MS - Otorhinolaryngology</td>\n",
       "      <td>NaN</td>\n",
       "    </tr>\n",
       "    <tr>\n",
       "      <td>3</td>\n",
       "      <td>Train</td>\n",
       "      <td>12 years experience</td>\n",
       "      <td>250</td>\n",
       "      <td>Bannerghatta Road, Bangalore ₹250 Available on...</td>\n",
       "      <td>Bannerghatta Road, Bangalore</td>\n",
       "      <td>Ayurveda</td>\n",
       "      <td>BSc - Zoology, BAMS</td>\n",
       "      <td>NaN</td>\n",
       "    </tr>\n",
       "    <tr>\n",
       "      <td>4</td>\n",
       "      <td>Train</td>\n",
       "      <td>20 years experience</td>\n",
       "      <td>250</td>\n",
       "      <td>100% 4 Feedback Keelkattalai, Chennai</td>\n",
       "      <td>Keelkattalai, Chennai</td>\n",
       "      <td>Ayurveda</td>\n",
       "      <td>BAMS</td>\n",
       "      <td>100%</td>\n",
       "    </tr>\n",
       "  </tbody>\n",
       "</table>\n",
       "</div>"
      ],
      "text/plain": [
       "    DATA           Experience  Fees  \\\n",
       "0  Train  24 years experience   100   \n",
       "1  Train  12 years experience   350   \n",
       "2  Train   9 years experience   300   \n",
       "3  Train  12 years experience   250   \n",
       "4  Train  20 years experience   250   \n",
       "\n",
       "                                  Miscellaneous_Info  \\\n",
       "0               100% 16 Feedback Kakkanad, Ernakulam   \n",
       "1              98% 76 Feedback Whitefield, Bangalore   \n",
       "2                                                NaN   \n",
       "3  Bannerghatta Road, Bangalore ₹250 Available on...   \n",
       "4              100% 4 Feedback Keelkattalai, Chennai   \n",
       "\n",
       "                          Place         Profile  \\\n",
       "0           Kakkanad, Ernakulam       Homeopath   \n",
       "1         Whitefield, Bangalore        Ayurveda   \n",
       "2    Mathikere - BEL, Bangalore  ENT Specialist   \n",
       "3  Bannerghatta Road, Bangalore        Ayurveda   \n",
       "4         Keelkattalai, Chennai        Ayurveda   \n",
       "\n",
       "                    Qualification Rating  \n",
       "0           BHMS, MD - Homeopathy   100%  \n",
       "1    BAMS, MD - Ayurveda Medicine    98%  \n",
       "2  MBBS, MS - Otorhinolaryngology    NaN  \n",
       "3             BSc - Zoology, BAMS    NaN  \n",
       "4                            BAMS   100%  "
      ]
     },
     "execution_count": 192,
     "metadata": {},
     "output_type": "execute_result"
    }
   ],
   "source": [
    "data=pd.concat([dte,dt])\n",
    "data.head()"
   ]
  },
  {
   "cell_type": "code",
   "execution_count": 193,
   "metadata": {},
   "outputs": [
    {
     "name": "stdout",
     "output_type": "stream",
     "text": [
      "<class 'pandas.core.frame.DataFrame'>\n",
      "Int64Index: 7948 entries, 0 to 1986\n",
      "Data columns (total 8 columns):\n",
      "DATA                  7948 non-null object\n",
      "Experience            7948 non-null object\n",
      "Fees                  7948 non-null int64\n",
      "Miscellaneous_Info    4494 non-null object\n",
      "Place                 7917 non-null object\n",
      "Profile               7948 non-null object\n",
      "Qualification         7948 non-null object\n",
      "Rating                3556 non-null object\n",
      "dtypes: int64(1), object(7)\n",
      "memory usage: 558.8+ KB\n"
     ]
    }
   ],
   "source": [
    "data.info()"
   ]
  },
  {
   "cell_type": "markdown",
   "metadata": {},
   "source": [
    "## Checking and Treating Missing Values "
   ]
  },
  {
   "cell_type": "code",
   "execution_count": 194,
   "metadata": {},
   "outputs": [
    {
     "data": {
      "text/plain": [
       "DATA                     0\n",
       "Experience               0\n",
       "Fees                     0\n",
       "Miscellaneous_Info    3454\n",
       "Place                   31\n",
       "Profile                  0\n",
       "Qualification            0\n",
       "Rating                4392\n",
       "dtype: int64"
      ]
     },
     "execution_count": 194,
     "metadata": {},
     "output_type": "execute_result"
    }
   ],
   "source": [
    "## Checiking Null values\n",
    "data.isnull().sum()"
   ]
  },
  {
   "cell_type": "code",
   "execution_count": 195,
   "metadata": {},
   "outputs": [
    {
     "data": {
      "text/plain": [
       "array(['100%', '98%', nan, '99%', '79%', '95%', '97%', '94%', '88%',\n",
       "       '90%', '80%', '93%', '36%', '78%', '87%', '96%', '82%', '89%',\n",
       "       '74%', '86%', '92%', '83%', '76%', '85%', '56%', '91%', '68%',\n",
       "       '60%', '75%', '69%', '73%', '67%', '77%', '33%', '55%', '71%',\n",
       "       '84%', '45%', '63%', '72%', '81%', '62%', '57%', '7%', '48%',\n",
       "       '40%', '70%', '64%', '65%', '47%', '58%', '53%', '52%'],\n",
       "      dtype=object)"
      ]
     },
     "execution_count": 195,
     "metadata": {},
     "output_type": "execute_result"
    }
   ],
   "source": [
    "data['Rating'].unique()"
   ]
  },
  {
   "cell_type": "code",
   "execution_count": 196,
   "metadata": {},
   "outputs": [],
   "source": [
    "data['Rating']=data['Rating'].str.split('%').str[0]"
   ]
  },
  {
   "cell_type": "code",
   "execution_count": 197,
   "metadata": {},
   "outputs": [],
   "source": [
    "data['Rating'].fillna('0',inplace=True)"
   ]
  },
  {
   "cell_type": "code",
   "execution_count": 198,
   "metadata": {},
   "outputs": [],
   "source": [
    "data['Rating']=data['Rating'].astype(int)"
   ]
  },
  {
   "cell_type": "code",
   "execution_count": 199,
   "metadata": {},
   "outputs": [
    {
     "data": {
      "text/plain": [
       "array(['Kakkanad, Ernakulam', 'Whitefield, Bangalore',\n",
       "       'Mathikere - BEL, Bangalore', 'Bannerghatta Road, Bangalore',\n",
       "       'Keelkattalai, Chennai', 'Porur, Chennai', 'Karol Bagh, Delhi',\n",
       "       'Arekere, Bangalore', 'Old City, Hyderabad', 'Athani, Ernakulam',\n",
       "       'Thousand Lights, Chennai', 'Somajiguda, Hyderabad',\n",
       "       'Coimbatore Racecourse, Coimbatore', 'Jubilee Hills, Hyderabad',\n",
       "       'Kondli, Delhi', 'Saroor Nagar, Hyderabad',\n",
       "       'Tambaram West, Chennai', 'Purasawakkam, Chennai',\n",
       "       'KPHB, Hyderabad', 'HSR Layout, Bangalore', 'Pollachi, Coimbatore',\n",
       "       'Vasundhra Enclave, Delhi', 'Chembur, Mumbai',\n",
       "       'Thammanam, Ernakulam', 'Andheri, Mumbai',\n",
       "       'Pattom, Thiruvananthapuram', 'Kukatpally, Hyderabad',\n",
       "       'Vadavalli, Coimbatore', 'Defence Colony, Delhi',\n",
       "       'Banjara Hills, Hyderabad', 'Sion West, Mumbai', 'CR Park, Delhi',\n",
       "       'Mogappair East, Chennai', 'IP Extension, Delhi',\n",
       "       'Safdarjung Enclave, Delhi', 'New Friends Colony, Delhi',\n",
       "       'Borivali West, Mumbai', 'Saket, Delhi', 'Malad, Mumbai',\n",
       "       'Hyder Nagar, Hyderabad', 'Dahisar West, Mumbai',\n",
       "       'RT Nagar, Bangalore', 'Powai, Mumbai', 'Basheerbagh, Hyderabad',\n",
       "       'Musheerabad, Hyderabad', 'AS Rao Nagar, Hyderabad',\n",
       "       'Madhapur, Hyderabad', 'Gandhinagar, Hyderabad',\n",
       "       'Chetpet, Chennai', 'Vileparle East, Mumbai',\n",
       "       'Yelahanka New Town, Bangalore', 'Kodambakkam, Chennai',\n",
       "       'Malleswaram, Bangalore', 'Pallikaranai, Chennai',\n",
       "       'Nallakunta, Hyderabad', 'Paschim Vihar, Delhi',\n",
       "       'Meera Bagh, Delhi', 'Chattarpur, Delhi', 'Andheri West, Mumbai',\n",
       "       'Himayat Nagar, Hyderabad', 'Adambakkam, Chennai',\n",
       "       'Punjabi Bagh, Delhi', 'Mahalaxmi, Mumbai', 'Kalina, Mumbai',\n",
       "       'Attapur, Hyderabad', 'Lakdikapul, Hyderabad', 'Ambattur, Chennai',\n",
       "       'Ramnagar, Coimbatore', 'Shalimar Bagh, Delhi',\n",
       "       'Nungambakkam, Chennai', 'Miyapur, Hyderabad', 'Sagarpur, Delhi',\n",
       "       'Girgaon, Mumbai', 'Jayanagar, Bangalore',\n",
       "       'Palayam, Thiruvananthapuram', 'Munirka, Delhi',\n",
       "       'Tuglakabad, Delhi', 'Moosarambagh, Hyderabad', nan,\n",
       "       'Anna Nagar East, Chennai', 'Bandra West, Mumbai',\n",
       "       'Kanakpura Road, Bangalore', 'Green Park, Delhi',\n",
       "       'Maduravoyal, Chennai', 'Dahisar East, Mumbai',\n",
       "       'Moosapet, Hyderabad', 'Koramangala, Bangalore',\n",
       "       'TV Medical College, Thiruvananthapuram', 'Kadavanthra, Ernakulam',\n",
       "       'Greams Road, Chennai', 'Bommanahalli, Bangalore',\n",
       "       'T Nagar, Chennai', 'Yelahanka, Bangalore',\n",
       "       'Hazrat Nizamuddin, Delhi', 'Old Rajendra Nagar, Delhi',\n",
       "       'Dadar West, Mumbai', 'Indiranagar, Bangalore',\n",
       "       'Perumbakkam, Chennai', 'Shaikpet, Hyderabad',\n",
       "       'Vyttila, Ernakulam', 'Khar West, Mumbai', 'Goregaon West, Mumbai',\n",
       "       'Bakkarwala, Delhi', 'Nesapakkam, Chennai',\n",
       "       'BTM Layout 2nd Stage, Bangalore', 'Ashok Nagar, Chennai',\n",
       "       'Chandivali, Mumbai', 'Uttam Nagar, Delhi',\n",
       "       'Gujranwala Town, Delhi', 'Greater Kailash Part 1, Delhi',\n",
       "       'Panchsheel Park, Delhi', 'Thoraipakkam, Chennai',\n",
       "       'South Extension 2, Delhi', 'Kandivali East, Mumbai',\n",
       "       'Pitampura, Delhi', 'Banashankari 3rd Stage, Bangalore',\n",
       "       'Kolenchery, Ernakulam', 'Kumaraswamy Layout, Bangalore',\n",
       "       'Vadapalani, Chennai', 'Manikonda, Hyderabad',\n",
       "       'Gandhipuram, Coimbatore', 'Yeshwanthpur, Bangalore',\n",
       "       'Ayanavaram, Chennai', 'Basaveshwaranagar, Bangalore',\n",
       "       'Malad West, Mumbai', 'Vikas Puri, Delhi', 'Kondapur, Hyderabad',\n",
       "       'Andheri East, Mumbai', 'Sulur, Coimbatore', 'Adyar, Chennai',\n",
       "       'Krishna Nagar, Delhi', 'Langer House, Hyderabad',\n",
       "       'Thiruvanmiyur, Chennai', 'Dwarka, Delhi', 'Bhandup West, Mumbai',\n",
       "       'Janak Puri, Delhi', 'Rajajinagar, Bangalore',\n",
       "       'South Extension 1, Delhi', 'Kemps Corner, Mumbai',\n",
       "       'Peelamedu, Coimbatore', 'Kandivali West, Mumbai',\n",
       "       'Thevara, Ernakulam', 'Wilson Garden, Bangalore', 'Wadala, Mumbai',\n",
       "       'Pahar Ganj, Delhi', 'Chanchalguda, Hyderabad',\n",
       "       'Chikkadpally, Hyderabad', 'Pasur-avanashi, Coimbatore',\n",
       "       'Nagarbhavi, Bangalore', 'Lajpat Nagar, Delhi',\n",
       "       'Mayur Vihar Ph-I, Delhi', 'Dilshad Garden, Delhi',\n",
       "       'Vijayanagar, Bangalore', 'Alwarpet, Chennai',\n",
       "       'Pappanamcode, Thiruvananthapuram', 'Aluva, Ernakulam',\n",
       "       'Nariman Point, Mumbai', 'Kilkattalai, Chennai',\n",
       "       'Dilsukhnagar, Hyderabad', 'Kurla West, Mumbai',\n",
       "       'Begumpet, Hyderabad', 'Kaloor, Ernakulam',\n",
       "       'Hitech City, Hyderabad', 'Goregaon East, Mumbai',\n",
       "       'Velandipalayam, Coimbatore', 'Ghatkopar East, Mumbai',\n",
       "       'Mulund West, Mumbai', 'Yousufguda, Hyderabad',\n",
       "       'Ghatkopar West, Mumbai', 'TVM Beach, Thiruvananthapuram',\n",
       "       'Vanagaram, Chennai', 'Worli, Mumbai',\n",
       "       'Koramangala 1 Block, Bangalore', 'Saki Vihar Road, Mumbai',\n",
       "       'Versova, Mumbai', 'CV Raman Nagar, Bangalore',\n",
       "       'Secunderabad, Hyderabad', 'BTM Layout 1st Stage, Bangalore',\n",
       "       'Ramkoti, Hyderabad', 'MRC Nagar, Chennai',\n",
       "       'Malkajgiri, Hyderabad', 'Gachibowli, Hyderabad',\n",
       "       'Mogappair West, Chennai', 'Mayur Vihar Ph-III, Delhi',\n",
       "       'Kurla East, Mumbai', 'Ashok Vihar, Delhi', 'Mahim, Mumbai',\n",
       "       'Villivakkam, Chennai', 'Srinagar Colony, Hyderabad',\n",
       "       'Chromepet, Chennai', 'Pammal, Chennai', 'Banashankari, Bangalore',\n",
       "       'Velachery, Chennai', 'Chanakyapuri, Delhi',\n",
       "       'Kalyan Nagar, Bangalore', 'Oshiwara, Mumbai',\n",
       "       'Karapakkam, Chennai', 'Borivali, Mumbai', 'Mylapore, Chennai',\n",
       "       'Electronics City, Bangalore', 'Perungudi, Chennai',\n",
       "       'Basavanagudi, Bangalore', 'MG Road, Bangalore',\n",
       "       'Thiruvottiyur, Chennai', 'Greater Kailash Part 2, Delhi',\n",
       "       'Bilekahalli, Bangalore', 'Nanganallur, Chennai', 'Rohini, Delhi',\n",
       "       'Thrikkakara, Ernakulam', 'Manapakkam, Chennai',\n",
       "       'Bellandur, Bangalore', 'Ameerpet, Hyderabad',\n",
       "       'Thiruvallom, Thiruvananthapuram', 'R.S. Puram, Coimbatore',\n",
       "       'Kumarapuram, Thiruvananthapuram', 'Palam Colony, Delhi',\n",
       "       'Manali, Chennai', 'Valasaravakkam, Chennai',\n",
       "       'Barkatpura, Hyderabad', 'Singanallur, Coimbatore',\n",
       "       'Mulund, Mumbai', 'Dadar East, Mumbai', 'Borabanda, Hyderabad',\n",
       "       'Model Town 3, Delhi', 'Ulsoor, Bangalore',\n",
       "       'Bhayandar West, Mumbai', 'Hari Nagar, Delhi',\n",
       "       'Horamavu, Bangalore', 'Santacruz East, Mumbai',\n",
       "       'OMR Road, Chennai', 'Kammana Halli, Bangalore',\n",
       "       'Tilak Nagar, Delhi', 'Panathur, Bangalore',\n",
       "       'Rajarajeshwarinagar, Bangalore', 'Paravur, Ernakulam',\n",
       "       'Preet Vihar, Delhi', 'Chembur East, Mumbai', 'Jakkur, Bangalore',\n",
       "       'Vanasthalipuram, Hyderabad', 'Mandaveli, Chennai',\n",
       "       'Kumara Park West, Bangalore', 'Domlur, Bangalore',\n",
       "       'Jeevanbhimanagar, Bangalore', 'Santacruz West, Mumbai',\n",
       "       'Shankar Vihar, Delhi', 'Jogeshwari East, Mumbai',\n",
       "       'Kasavanahalli, Bangalore', 'Ambalamukku, Thiruvananthapuram',\n",
       "       'Jhilmil Colony, Delhi', 'Dwarka Sector 7, Delhi',\n",
       "       'Tatabad, Coimbatore', 'Marine Lines, Mumbai',\n",
       "       'Tolichowki, Hyderabad', 'Sundarapuram, Coimbatore',\n",
       "       'Kothanur, Bangalore', 'Chinmaya Nagar, Chennai',\n",
       "       'Vasant Vihar, Delhi', 'Mehdipatnam, Hyderabad',\n",
       "       'Kadugodi, Bangalore', 'Ganapathy, Coimbatore',\n",
       "       'SR Nagar, Hyderabad', 'Perambur, Chennai', 'Opera House, Mumbai',\n",
       "       'Selvapuram, Coimbatore', 'Karkardooma, Delhi',\n",
       "       'Alwarthirunagar, Chennai', 'KR Puram, Bangalore',\n",
       "       'Ramesh Nagar, Delhi', 'Malakpet, Hyderabad',\n",
       "       'Tondiarpet, Chennai', 'Vikrampuri Colony, Hyderabad',\n",
       "       'Besant Nagar, Chennai', 'Vasant Kunj, Delhi',\n",
       "       'Banaswadi, Bangalore', 'BTM Layout, Bangalore',\n",
       "       'Medavakkam, Chennai', 'Vileparle West, Mumbai',\n",
       "       'Sahakaranagar, Bangalore', 'LB Nagar, Hyderabad',\n",
       "       'Punjagutta, Hyderabad', 'Yamuna Vihar, Delhi',\n",
       "       'Marathahalli, Bangalore', 'JP Nagar 2 Phase, Bangalore',\n",
       "       'Rani Bagh, Delhi', 'Jayamahal, Bangalore', 'Nagpada, Mumbai',\n",
       "       'Kundalahalli, Bangalore', 'Kailash Colony, Delhi',\n",
       "       'Pandav Nagar, Delhi', 'Karkhana, Hyderabad',\n",
       "       'West Mambalam, Chennai', 'Aminjikarai, Chennai',\n",
       "       'Madipakkam, Chennai', 'Charkop, Mumbai', 'Adarsh Nagar, Delhi',\n",
       "       'Dadar, Mumbai', 'Kaggadasapura, Bangalore', 'Matunga, Mumbai',\n",
       "       'Sun city, Hyderabad', 'Mahadevapura, Bangalore',\n",
       "       'Kalady, Ernakulam', 'Anna Nagar West, Chennai',\n",
       "       'Mayur Vihar Ph-II, Delhi', 'Tis Hazari, Delhi',\n",
       "       'Vennala, Ernakulam', 'Mira Road, Mumbai', 'Alwal, Hyderabad',\n",
       "       'Trimulgherry, Hyderabad', 'Raja Annamalai Puram, Chennai',\n",
       "       'JP Nagar 7 Phase, Bangalore', 'Old Bowenpally, Hyderabad',\n",
       "       'Santosh Nagar, Hyderabad', 'Hope College, Coimbatore',\n",
       "       'Mulund East, Mumbai', 'Mount Road, Chennai',\n",
       "       'Patel Nagar West, Delhi', 'Jayanagar 4 Block, Bangalore',\n",
       "       'West Marredpally, Hyderabad', 'Jagriti Enclave, Delhi',\n",
       "       'Sarita Vihar, Delhi', 'Rajendra Nagar, Hyderabad',\n",
       "       'Thudiyalur, Coimbatore', 'Bhayandar East, Mumbai',\n",
       "       'Narayanguda, Hyderabad', 'Kothapet, Hyderabad',\n",
       "       'KK Nagar, Chennai', 'Tripunithura, Ernakulam',\n",
       "       'Model Town, Delhi', 'Suchitra Circle, Hyderabad',\n",
       "       'Pusa Road, Delhi', 'Vijaynagar Colony, Hyderabad',\n",
       "       'Alandur, Chennai', 'Cuffe Parade, Mumbai', 'Kalkaji, Delhi',\n",
       "       'Saibaba Colony, Coimbatore', 'Kattakada, Thiruvananthapuram',\n",
       "       'Jogeshwari West, Mumbai', 'Erragadda, Hyderabad',\n",
       "       'Tilak Nagar, Hyderabad', 'Edapally, Ernakulam',\n",
       "       'Patparganj, Delhi', 'Sainikpuri, Hyderabad',\n",
       "       'Nanjundapuram, Coimbatore', 'Nizampet, Hyderabad',\n",
       "       'Kolathur, Chennai', 'Chamarajpet, Bangalore',\n",
       "       'Kala Ghoda, Mumbai', 'Padmarao Nagar, Hyderabad',\n",
       "       'Uppal, Hyderabad', 'Guduvanchery, Chennai',\n",
       "       'Satya Niketan, Delhi', 'Chanda Nagar, Hyderabad',\n",
       "       'Sowripalayam, Coimbatore', 'Vikhroli West, Mumbai',\n",
       "       'Rajouri Garden, Delhi', 'Alaknanda, Delhi',\n",
       "       'Millers Road, Bangalore', 'Kandanchavadi, Chennai',\n",
       "       'Vigyan Vihar, Delhi', 'Bandra East, Mumbai',\n",
       "       'Vilankurichi, Coimbatore', 'Malad East, Mumbai',\n",
       "       'Prabhadevi, Mumbai', 'Ulloor, Thiruvananthapuram',\n",
       "       'Rajakilpakkam, Chennai', 'Greater Kailash, Delhi',\n",
       "       'Madinaguda, Hyderabad', 'Borivali East, Mumbai', 'Juhu, Mumbai',\n",
       "       'Mugalivakkam, Chennai', 'Hebbal, Bangalore', 'Kirti Nagar, Delhi',\n",
       "       'Balaramapuram, Thiruvananthapuram', 'Bhandup East, Mumbai',\n",
       "       'VV Puram, Bangalore', 'Kilpauk, Chennai', 'Jacob Circle, Mumbai',\n",
       "       'Singasandra, Bangalore', 'Khairatabad, Hyderabad',\n",
       "       'Coimbatore Aerodrome, Coimbatore', 'J.C Nagar, Bangalore',\n",
       "       'Naraina Vihar, Delhi', 'Virugambakkam, Chennai',\n",
       "       'RK Puram, Delhi', 'Banashankari 1st Stage, Bangalore',\n",
       "       'Lajpat Nagar 4, Delhi', 'Jayanagar 5 Block, Bangalore',\n",
       "       'Kalyanpuri, Hyderabad', 'Tambaram, Chennai', 'Laxmi Nagar, Delhi',\n",
       "       'Anand Vihar, Delhi', 'Charni Road, Mumbai',\n",
       "       'Patel Nagar East, Delhi', 'Jayanagar 9 Block, Bangalore',\n",
       "       'Ecil, Hyderabad', 'Ramamurthy Nagar, Bangalore',\n",
       "       'Raj Nagar - 2, Delhi', 'Chunabhatti, Mumbai',\n",
       "       'Vikhroli East, Mumbai', 'Shakarpur, Delhi', 'Shahdara, Delhi',\n",
       "       'Govandi, Mumbai', 'Mira Bhayandar, Mumbai',\n",
       "       'Doddanekundi, Bangalore', 'Madhu Vihar, Delhi', 'Guindy, Chennai',\n",
       "       'Palarivattom, Ernakulam', 'Charminar, Hyderabad',\n",
       "       'Old Airport Road, Bangalore', 'Sarjapur Road, Bangalore',\n",
       "       'Okhla, Delhi', 'Baghlingampally, Hyderabad', 'Trombay, Mumbai',\n",
       "       'HRBR Layout, Bangalore', 'Fort, Mumbai', 'Shastri Nagar, Delhi',\n",
       "       'Red Hills, Chennai', 'New BEL Road, Bangalore',\n",
       "       'Park Town, Chennai', 'Frazer Town, Bangalore',\n",
       "       'Falaknuma, Hyderabad', 'Rohini Sector 7, Delhi',\n",
       "       'East Of Kailash, Delhi', 'Chintadripet, Chennai',\n",
       "       'Tagore Garden, Delhi', 'Tri Nagar, Delhi',\n",
       "       'Muttada, Thiruvananthapuram', 'Munnekollal, Bangalore',\n",
       "       'TV Museum, Thiruvananthapuram', 'Shivalik, Delhi',\n",
       "       'Neb Sarai, Delhi', 'Mahalakshmi Layout, Bangalore',\n",
       "       'Mankhurd, Mumbai', 'Kamla Nagar, Delhi',\n",
       "       'Saravanampatti, Coimbatore', 'Selaiyur, Chennai',\n",
       "       'Saligramam, Chennai', 'Thirumullaivoyal, Chennai',\n",
       "       'Teynampet, Chennai', 'Kochi, Ernakulam',\n",
       "       'Vidyaranyapura, Bangalore', 'Mogappair, Chennai',\n",
       "       'Mazgaon, Mumbai', 'Shivaji Nagar, Bangalore', 'Jangpura, Delhi',\n",
       "       'Kaudiar Square, Thiruvananthapuram', 'Arumbakkam, Chennai',\n",
       "       'Cherai, Ernakulam', 'Mira-Bhayandar Road, Mumbai',\n",
       "       'Ram Nagar, Delhi', 'Parel, Mumbai', 'Thanisandra, Bangalore',\n",
       "       'Pragathi Nagar, Hyderabad', 'Karamana, Thiruvananthapuram',\n",
       "       'AECS Layout, Bangalore', 'Nizamuddin East, Delhi',\n",
       "       'Ramanathapuram, Coimbatore', 'Anna Nagar, Chennai',\n",
       "       'Shenoy Nagar, Chennai', 'Siddhapudur, Coimbatore',\n",
       "       'Keshav Puram, Delhi', 'Edakochi, Ernakulam',\n",
       "       'Nagawara, Bangalore', 'Chintal, Hyderabad',\n",
       "       'Malviya Nagar, Delhi', 'Karwan, Hyderabad',\n",
       "       'Vazhakulam, Ernakulam', 'PMG Jn, Thiruvananthapuram',\n",
       "       'Dwarka Sector 6, Delhi', 'Viveknagar, Bangalore',\n",
       "       'Balapur, Hyderabad', 'Banashankari 2nd Stage, Bangalore',\n",
       "       'Azadpur, Delhi', 'Moti Nagar, Delhi', 'Sakinaka, Mumbai',\n",
       "       'Thoppumpady, Ernakulam', 'Sanath Nagar, Hyderabad',\n",
       "       'Royapettah, Chennai', 'Koramangala 5 Block, Bangalore',\n",
       "       'Kanjurmarg, Mumbai', 'Ernakulam College, Ernakulam',\n",
       "       'Urapakkam, Chennai', 'Coimbatore Ukkadam, Coimbatore',\n",
       "       'Sreekaryam, Thiruvananthapuram', 'Ernakulam North, Ernakulam',\n",
       "       'Sultanpur, Delhi', 'Banerji Road, Ernakulam',\n",
       "       'Balkampet, Hyderabad', 'Kavundampalayam, Coimbatore',\n",
       "       'Kanchanbagh, Hyderabad', 'Patel Nagar, Delhi', 'Kilokri, Delhi',\n",
       "       'Hoodi, Bangalore', 'New Seemapuri, Delhi',\n",
       "       'Seshadripuram, Bangalore', 'Vijaynagar, Delhi',\n",
       "       'Bowenpally, Hyderabad', 'Ondipudur, Coimbatore',\n",
       "       'Triplicane, Chennai', 'Richmond Town, Bangalore',\n",
       "       'New Rajendra Nagar, Delhi', 'Jahangirpuri, Delhi',\n",
       "       'Vivek Vihar, Delhi', 'Malleshpalya, Bangalore',\n",
       "       'Pezhakkappilly, Ernakulam', 'Lingampally, Hyderabad',\n",
       "       'Jamia Nagar, Delhi', 'Begum Bazar, Hyderabad',\n",
       "       'Lower Parel, Mumbai', 'ECR Road, Chennai', 'Nangloi, Delhi',\n",
       "       'Chintalmet, Hyderabad', 'West Of Chord Road, Bangalore',\n",
       "       'SV Road, Mumbai', 'JP Nagar 5 Phase, Bangalore',\n",
       "       'Sanjay Nagar, Bangalore', 'Panampilly Nagar, Ernakulam',\n",
       "       'Dharavi, Mumbai', 'Abbigere, Bangalore',\n",
       "       'Manacaud, Thiruvananthapuram', 'Poonamalle, Chennai',\n",
       "       'Najafgarh, Delhi', 'Uttarahalli, Bangalore', 'Sembakkam, Chennai',\n",
       "       'Tarnaka, Hyderabad', 'Nandanam, Chennai', 'Saidapet, Chennai',\n",
       "       'Choolaimedu, Chennai', 'Perungalathur, Chennai',\n",
       "       'Gulabi Bagh, Delhi', 'Jasola, Delhi',\n",
       "       'JP Nagar 3 Phase, Bangalore', 'Uppilipalayam, Coimbatore',\n",
       "       'Sadashivanagar, Bangalore', 'Rohini Sector 24, Delhi',\n",
       "       'Muvattupuzha, Ernakulam', 'Khan Market, Delhi',\n",
       "       'Abids, Hyderabad', 'Geeta Colony, Delhi', 'Madandapuram, Chennai',\n",
       "       'Dwarka Sector 22, Delhi', 'Grant Road, Mumbai',\n",
       "       'Jeedimetla, Hyderabad', 'Tambaram East, Chennai',\n",
       "       'Kothaguda, Hyderabad', 'Hauz Khas, Delhi', 'Habsiguda, Hyderabad',\n",
       "       'Breach Candy, Mumbai', 'Vidyanagar, Bangalore',\n",
       "       'Begur, Bangalore', 'Dahisar, Mumbai', 'Pachalam, Ernakulam',\n",
       "       'Perumbavoor, Ernakulam', 'Avadi, Chennai',\n",
       "       'Coimbatore Central, Coimbatore', 'Lokhandwala, Mumbai',\n",
       "       'Tiruvottiyur, Chennai', 'Ullal Upanagara, Bangalore',\n",
       "       'Perurkada, Thiruvananthapuram', 'Ashok Vihar Phase 3, Delhi',\n",
       "       'Walkeshwar, Mumbai', 'Saidabad, Hyderabad',\n",
       "       'Koramangala 6 Block, Bangalore', 'New Ashok Nagar, Delhi',\n",
       "       'Peddar Road, Mumbai', 'Aya Nagar, Delhi', 'JP Nagar, Bangalore',\n",
       "       'Sasthamangalam, Thiruvananthapuram', 'Yakutpura, Hyderabad',\n",
       "       'Sampangiramnagar, Bangalore', 'Kasturi nagar, Bangalore',\n",
       "       'Pallavaram, Chennai', 'Moti Bagh, Delhi',\n",
       "       'Mukherjee Nagar, Delhi', 'Byculla, Mumbai', 'Peeragarhi, Delhi',\n",
       "       'Amberpet, Hyderabad', 'JP Nagar 6 Phase, Bangalore',\n",
       "       'Sholinganallur, Chennai', 'Langford Road, Bangalore',\n",
       "       'Cumballa Hill, Mumbai', 'Colaba, Mumbai',\n",
       "       'Qutab Institutional Area, Delhi', 'Dommasandra, Bangalore',\n",
       "       'Malabar Hill, Mumbai', 'Koramangala 8 Block, Bangalore',\n",
       "       'Rohini Sector 22, Delhi', 'Lothkunta, Hyderabad',\n",
       "       'HAL 2nd Stage, Bangalore', 'Jayanagar 7 Block, Bangalore',\n",
       "       'Vadasserikonam, Thiruvananthapuram',\n",
       "       'East Marredpally, Hyderabad', 'Kelambakkam, Chennai',\n",
       "       'Chinchpokli, Mumbai', 'Delhi Cantt, Delhi',\n",
       "       'Padmanabhanagar, Bangalore', 'Sheikh Sarai, Delhi',\n",
       "       'Washermenpet, Chennai', 'Konanakunte, Bangalore',\n",
       "       'Ashok Vihar Phase 1, Delhi', 'Thirumala, Thiruvananthapuram',\n",
       "       'Sarjapura, Bangalore', 'JP Nagar 1 Phase, Bangalore',\n",
       "       'JB Nagar, Mumbai', 'Paruthippara, Thiruvananthapuram',\n",
       "       'Vikhroli, Mumbai', 'JP Nagar 8 Phase, Bangalore',\n",
       "       'GTB Nagar, Delhi', 'Vidyanagar, Hyderabad',\n",
       "       'Masab Tank, Hyderabad', 'Hafeezpet, Hyderabad',\n",
       "       'Jeevan Park, Delhi', 'Dwarka Sector 5, Delhi',\n",
       "       'Civil Lines, Delhi', 'Anand Niketan, Delhi',\n",
       "       'Pappanaickenpalayam, Coimbatore', 'Koovappady, Ernakulam',\n",
       "       'Dwarka, Sector 5, Delhi', 'Srirampuram, Bangalore',\n",
       "       'Korattur, Chennai', 'Pappanaickenpudur, Coimbatore',\n",
       "       'Gandhi Nagar, Delhi', 'Vignan Nagar, Bangalore',\n",
       "       'Ganganagar, Bangalore', 'Elamakkara, Ernakulam',\n",
       "       'Boduppal, Hyderabad', 'Tilak Nagar, Mumbai', 'Khetwadi, Mumbai',\n",
       "       'Kengeri, Bangalore', 'Sion East, Mumbai',\n",
       "       'Rohini Sector 6, Delhi', 'Kazhakuttam, Thiruvananthapuram',\n",
       "       'Goregaon, Mumbai', 'Peroor, Thiruvananthapuram',\n",
       "       'New Thippasandra, Bangalore', 'Jalahalli, Bangalore',\n",
       "       'King Koti, Hyderabad', 'Kallambalam, Thiruvananthapuram',\n",
       "       'Dwarka Sector 13, Delhi', 'Residency Road, Bangalore',\n",
       "       'Radhakrishnan Salai, Chennai', 'Hulimavu, Bangalore',\n",
       "       'Dasarahalli, Bangalore', 'Vileparle, Mumbai', 'Delhi, Delhi',\n",
       "       'Kachiguda, Hyderabad', 'Venkitapuram, Coimbatore',\n",
       "       'Kuniamuthur, Coimbatore', 'TV Chalai, Thiruvananthapuram',\n",
       "       'Serilingampally, Hyderabad', 'RMV 2nd Stage, Bangalore',\n",
       "       'Champapet, Hyderabad', 'Surya Niketan, Delhi',\n",
       "       'Kovilpalayam, Coimbatore', 'Nampally, Hyderabad',\n",
       "       'Siddapura, Bangalore', 'Neredmet, Hyderabad',\n",
       "       'Vellakinar, Coimbatore', 'Egmore, Chennai',\n",
       "       'Katwaria Sarai, Delhi', 'Navalur, Chennai', 'Mehrauli, Delhi',\n",
       "       'HBR Layout, Bangalore', 'Subhash Nagar, Delhi',\n",
       "       'Mallepally, Hyderabad', 'Eroor South, Ernakulam',\n",
       "       'Lajpat Nagar III, Delhi', 'Kodungaiyur, Chennai',\n",
       "       'Kuppakonanpudur, Coimbatore', 'Paradise, Hyderabad',\n",
       "       'Rohini Sector 4, Delhi', 'Koramangala 4 Block, Bangalore',\n",
       "       'Dwarka Sector 3, Delhi', 'Durga Puri, Delhi',\n",
       "       'Kalamassery, Ernakulam', 'Gulmohar Park, Delhi',\n",
       "       'Adugodi, Bangalore', 'Moti Nagar, Hyderabad',\n",
       "       'Nallagandla, Hyderabad', 'Gowrivakkam, Chennai',\n",
       "       'Periyar Nagar, Chennai', 'Austin Town, Bangalore',\n",
       "       'Afzalgunj, Hyderabad', 'Cotton Hill, Thiruvananthapuram',\n",
       "       'Goldwins, Coimbatore', 'Kuravankonam, Thiruvananthapuram',\n",
       "       'Rohini Sector 3, Delhi', 'Lado Sarai, Delhi',\n",
       "       'Koramangala 2 Block, Bangalore', 'Madangir, Delhi',\n",
       "       'Marine Drive, Mumbai', 'Marine Drive, Ernakulam',\n",
       "       'Angamaly, Ernakulam', 'Neelankarai, Chennai',\n",
       "       'Churchgate, Mumbai', 'Kalapatti, Coimbatore', 'Nand Nagri, Delhi',\n",
       "       'Kandivali, Mumbai', 'Madanpura, Mumbai', 'Hegde Nagar, Bangalore',\n",
       "       'Domalguda, Hyderabad', 'Mumbai Central, Mumbai',\n",
       "       'Vasanthnagar, Bangalore', 'Kapashera, Delhi',\n",
       "       'August Kranti Marg, Delhi', 'Krishna Nagar, Hyderabad',\n",
       "       'Lal baug, Mumbai', 'Perumathura, Thiruvananthapuram',\n",
       "       'Molarband, Delhi', 'Piravom, Ernakulam', 'Neeti Bagh, Delhi',\n",
       "       'Kishanbagh, Hyderabad', 'Shantinagar, Bangalore',\n",
       "       'Poojapura, Thiruvananthapuram', 'Rathinapuri, Coimbatore',\n",
       "       'Model Town 1, Delhi', 'Koothattukulam, Ernakulam',\n",
       "       'Anand Lok, Delhi', 'Pappanaickenpalayam West, Coimbatore',\n",
       "       'Subzi Mandi, Delhi', 'Sion, Mumbai', 'Nagole, Hyderabad',\n",
       "       'TVM Pettah, Thiruvananthapuram', 'Changampuzha Nagar, Ernakulam',\n",
       "       'Puzhal, Chennai', 'Vanchiyur, Thiruvananthapuram',\n",
       "       'Sukh Vihar, Delhi', 'Kovalam, Thiruvananthapuram',\n",
       "       'Swasthya Vihar, Delhi', 'Tardeo, Mumbai', 'Vishnu Garden, Delhi',\n",
       "       'Jayanagar 1 Block, Bangalore', 'Sion Koliwada, Mumbai',\n",
       "       'Marol, Mumbai', 'Kalkere, Bangalore', 'Sindhi Colony, Hyderabad',\n",
       "       'Silampur, Delhi', 'Varthur, Bangalore', 'Model Town 2, Delhi',\n",
       "       'Surajmal Vihar, Delhi', 'Chandni Chowk, Delhi',\n",
       "       'Veerakeralam, Coimbatore', 'T Dasarahalli, Bangalore',\n",
       "       'Kaggalipura, Bangalore', 'Thonnakkal, Thiruvananthapuram',\n",
       "       'Manjapra, Ernakulam', 'Yellareddyguda, Hyderabad',\n",
       "       'Kovilambakkam, Chennai', 'Broadway, Chennai',\n",
       "       'Podanur, Coimbatore', 'Kompally, Hyderabad',\n",
       "       'Kottivakkam, Chennai', 'Mansarover Garden, Delhi',\n",
       "       'Mandapeshwar, Mumbai', 'Rohini Sector 15, Delhi',\n",
       "       'Vaduthala, Ernakulam', 'Hebbal Kempapura, Bangalore',\n",
       "       'Sithalapakkam, Chennai', 'MKB Nagar, Chennai',\n",
       "       'MG Road, Hyderabad', 'Darya Ganj, Delhi',\n",
       "       'Venjaramoodu, Thiruvananthapuram', 'Kotturpuram, Chennai',\n",
       "       'Ramapuram, Chennai', 'Karmanghat, Hyderabad',\n",
       "       'Moula Ali, Hyderabad', 'Netaji Nagar, Delhi',\n",
       "       'Chandra Layout, Bangalore', 'Akshaya nagar, Bangalore',\n",
       "       'Nirman Vihar, Delhi', 'Vasant Enclave, Delhi',\n",
       "       'St Thomas Mount, Chennai', 'Royapuram, Chennai',\n",
       "       'Abhiramapuram, Chennai', 'Inder Puri, Delhi',\n",
       "       'Edayarpalayam, Coimbatore', 'Deoli, Delhi',\n",
       "       'Mulanthuruthy, Ernakulam', 'Sukhdev Vihar, Delhi', 'e',\n",
       "       'Kothamangalam, Ernakulam', 'Harlur, Bangalore',\n",
       "       'Bolarum, Hyderabad', 'Richards Town, Bangalore', 'Narela, Delhi',\n",
       "       'Nehru Place, Delhi', 'Ramanthapur, Hyderabad',\n",
       "       'Bali Nagar, Delhi', 'Palavakkam, Chennai', 'Balanagar, Hyderabad',\n",
       "       'Hyderguda, Hyderabad', 'Cherannagar, Coimbatore',\n",
       "       'Rohini Sector 11, Delhi', 'Dwarka Sector 4, Delhi',\n",
       "       'Palluruthy, Ernakulam', 'Vizhinjam, Thiruvananthapuram',\n",
       "       'Santacruz, Mumbai', 'Ganesh Nagar, Delhi',\n",
       "       'Vengal Rao Nagar, Hyderabad', 'Deonar, Mumbai',\n",
       "       'Edapally North, Ernakulam', 'Red Hills, Hyderabad',\n",
       "       'IDA Jeedimetla, Hyderabad', 'Mettupalayam, Coimbatore',\n",
       "       'Hayathnagar, Hyderabad', 'Kakkanad West, Ernakulam',\n",
       "       'Khajaguda, Hyderabad', 'Rohini Sector 5, Delhi',\n",
       "       'Saraswati Vihar, Delhi', 'Kingsway Camp, Delhi',\n",
       "       'Ramamangalam, Ernakulam', 'Indirapuram, Delhi',\n",
       "       'Parassala, Thiruvananthapuram', 'Connaught Place, Delhi',\n",
       "       'Gottigerre, Bangalore', 'Shivrampally, Hyderabad',\n",
       "       'Vyasarpadi, Chennai', 'Kovaipudur, Coimbatore',\n",
       "       'Vallakkadavoo, Thiruvananthapuram', 'Kattupakkam, Chennai',\n",
       "       'Nellimoodu, Thiruvananthapuram', 'Pondy Bazaar, Chennai',\n",
       "       'Prashant Vihar, Delhi', 'Chullickal, Ernakulam',\n",
       "       'Murugeshpalya, Bangalore', 'Khanpur, Delhi',\n",
       "       'Madiwala, Bangalore', 'Dwarka Sector 23, Delhi',\n",
       "       'Badarpur, Delhi', 'Peyad, Thiruvananthapuram',\n",
       "       'Gandhi Nagar, Chennai', 'Uday Park, Delhi',\n",
       "       'Bandlaguda, Hyderabad', 'Karukappilli, Ernakulam',\n",
       "       'Rana Pratap Bagh, Delhi', 'Kochi M.G.Road, Ernakulam',\n",
       "       'Gopalapuram, Chennai', 'Puthenvelikkara, Ernakulam',\n",
       "       'Sowcarpet, Chennai', 'Chitlapakkam, Chennai',\n",
       "       'Malumichampatti, Coimbatore', 'Rohini Sector 8, Delhi',\n",
       "       'Rohini Sector 2, Delhi', 'Ram Nagar, Hyderabad',\n",
       "       'Dwarka Sector 10, Delhi', 'Agaram, Chennai',\n",
       "       'Poovachal, Thiruvananthapuram', 'Shanti Niketan, Delhi',\n",
       "       'Pothencode, Thiruvananthapuram', 'Dickenson Road, Bangalore',\n",
       "       'RTC X Road, Hyderabad', 'Film Nagar, Hyderabad',\n",
       "       'Lodhi Colony, Delhi', 'SG Palya (Kormangla), Bangalore',\n",
       "       'Palkulangara, Thiruvananthapuram', 'Mahalingapuram, Chennai',\n",
       "       'Matunga West, Mumbai', 'Nettoor, Ernakulam', 'Rani Khera, Delhi',\n",
       "       'Beeramguda, Hyderabad', 'Ramachandrapuram, Hyderabad',\n",
       "       'Neyyattinkara Town, Thiruvananthapuram', 'Gorai, Mumbai',\n",
       "       'Jayanagar 3 Block, Bangalore', 'Shakti Nagar, Delhi',\n",
       "       'Sangam Vihar, Delhi', 'Shakurpur, Delhi',\n",
       "       'Chaitanyapuri, Hyderabad', 'TVM Fort, Thiruvananthapuram',\n",
       "       'JP Nagar 4 Phase, Bangalore', 'Nayandahalli, Bangalore',\n",
       "       'Valiathura, Thiruvananthapuram', 'Kowdiar, Thiruvananthapuram',\n",
       "       'Cunningham Road, Bangalore', 'Hennur, Bangalore',\n",
       "       'Peenya, Bangalore', 'Pattimattam, Ernakulam', 'HAL, Bangalore',\n",
       "       'Madhavaram, Chennai', 'Ramakrishna Puram, Hyderabad',\n",
       "       'Vikas Nagar, Delhi', 'Chandrayangutta, Hyderabad',\n",
       "       'Ernakulam, Ernakulam', 'Aroor, Ernakulam', 'Rohini West, Delhi',\n",
       "       'Warasiguda, Hyderabad', 'Vishwas Nagar, Delhi', 'Bhandup, Mumbai',\n",
       "       'Chickpet, Bangalore', 'Madambakkam, Chennai',\n",
       "       'Kaudiar, Thiruvananthapuram', 'Khar East, Mumbai',\n",
       "       'Tavarekere, Bangalore', 'Kurla, Mumbai', 'Mahavir Enclave, Delhi',\n",
       "       'Jayanagar 2 Block, Bangalore', 'Nacharam, Hyderabad',\n",
       "       'Cheranalloor, Ernakulam', 'Ayanambakkam, Chennai',\n",
       "       'Dindarpur, Delhi', 'Iyyappanthangal, Chennai',\n",
       "       'Sarvapriya Vihar, Delhi', 'Pattabiram, Chennai',\n",
       "       'Kudlu, Bangalore', 'Kadubeesanahalli, Bangalore',\n",
       "       'Nemom, Thiruvananthapuram', 'Alipur, Delhi', 'Kanjoor, Ernakulam',\n",
       "       'Nedumbassery, Ernakulam', 'Safilguda, Hyderabad',\n",
       "       'Hastsal, Delhi', 'Tv Thampanoor, Thiruvananthapuram',\n",
       "       'Mahipalpur, Delhi', 'Outer Ring Road, Bangalore', 'Bhogal, Delhi',\n",
       "       'Nedumangad, Thiruvananthapuram', 'Lingarajapuram, Bangalore',\n",
       "       'Burari, Delhi', 'Seeranaickenpalayam, Coimbatore',\n",
       "       'JP Nagar 9 Phase, Bangalore', 'Bachupally, Hyderabad',\n",
       "       'Jafferkhanpet, Chennai', 'Nandambakkam, Chennai',\n",
       "       'Rohini Sector 20, Delhi', 'Sriniwaspuri, Delhi',\n",
       "       'Palghar, Mumbai', 'Kapra, Hyderabad', 'Sagar Road, Hyderabad',\n",
       "       'Gamdevi, Mumbai', 'Poothotta, Ernakulam',\n",
       "       'Koramangala 7 Block, Bangalore', 'KH Road, Bangalore',\n",
       "       'Delhi Cantonment, Delhi', 'Hasthinapuram, Chennai',\n",
       "       'Periyanaickenpalayam, Coimbatore',\n",
       "       'Manchavilakom, Thiruvananthapuram', 'Yemalur, Bangalore',\n",
       "       'Meerpet, Hyderabad', 'Sewri, Mumbai', 'Padi, Chennai',\n",
       "       'Ayyappankavu, Ernakulam', 'Kalu Sarai, Delhi',\n",
       "       'Pratap Nagar, Delhi', 'Shadipur, Delhi', 'Hongasandra, Bangalore',\n",
       "       'Dwarka Sector 12, Delhi', 'BHEL, Hyderabad',\n",
       "       'Hosur Road, Bangalore', 'Choolai, Chennai'], dtype=object)"
      ]
     },
     "execution_count": 199,
     "metadata": {},
     "output_type": "execute_result"
    }
   ],
   "source": [
    "data['Place'].unique()"
   ]
  },
  {
   "cell_type": "code",
   "execution_count": 200,
   "metadata": {},
   "outputs": [],
   "source": [
    "data[\"Place\"].fillna(\"Unknown,Unknown\",inplace=True)\n",
    "data[\"Place\"] = data[\"Place\"].str.split(\",\")\n",
    "data[\"City\"] = data[\"Place\"].str[-1]\n",
    "data[\"Place\"] = data[\"Place\"].str[0]"
   ]
  },
  {
   "cell_type": "code",
   "execution_count": 201,
   "metadata": {},
   "outputs": [
    {
     "data": {
      "text/plain": [
       "DATA                     0\n",
       "Experience               0\n",
       "Fees                     0\n",
       "Miscellaneous_Info    3454\n",
       "Place                    0\n",
       "Profile                  0\n",
       "Qualification            0\n",
       "Rating                   0\n",
       "City                     0\n",
       "dtype: int64"
      ]
     },
     "execution_count": 201,
     "metadata": {},
     "output_type": "execute_result"
    }
   ],
   "source": [
    "data.isnull().sum()"
   ]
  },
  {
   "cell_type": "code",
   "execution_count": 202,
   "metadata": {},
   "outputs": [
    {
     "data": {
      "text/plain": [
       "array(['100% 16 Feedback Kakkanad, Ernakulam',\n",
       "       '98% 76 Feedback Whitefield, Bangalore', nan, ...,\n",
       "       'General Dentistry Dental Fillings RCT - Single Sitting',\n",
       "       '98% 240 Feedback Velachery, Chennai',\n",
       "       'RCT - Root Canal Treatment Root Canal Treatment - Rotary Pyorrhoea Treatment'],\n",
       "      dtype=object)"
      ]
     },
     "execution_count": 202,
     "metadata": {},
     "output_type": "execute_result"
    }
   ],
   "source": [
    "data['Miscellaneous_Info'].unique()"
   ]
  },
  {
   "cell_type": "code",
   "execution_count": 203,
   "metadata": {},
   "outputs": [],
   "source": [
    "data.drop(['Miscellaneous_Info'],axis=1,inplace =True)"
   ]
  },
  {
   "cell_type": "code",
   "execution_count": 204,
   "metadata": {},
   "outputs": [
    {
     "data": {
      "text/plain": [
       "DATA             0\n",
       "Experience       0\n",
       "Fees             0\n",
       "Place            0\n",
       "Profile          0\n",
       "Qualification    0\n",
       "Rating           0\n",
       "City             0\n",
       "dtype: int64"
      ]
     },
     "execution_count": 204,
     "metadata": {},
     "output_type": "execute_result"
    }
   ],
   "source": [
    "data.isnull().sum()"
   ]
  },
  {
   "cell_type": "code",
   "execution_count": 205,
   "metadata": {
    "scrolled": true
   },
   "outputs": [
    {
     "data": {
      "text/plain": [
       "<matplotlib.axes._subplots.AxesSubplot at 0x24b5d860748>"
      ]
     },
     "execution_count": 205,
     "metadata": {},
     "output_type": "execute_result"
    },
    {
     "data": {
      "image/png": "[encoded data removed]",
      "text/plain": [
       "<Figure size 432x288 with 1 Axes>"
      ]
     },
     "metadata": {},
     "output_type": "display_data"
    }
   ],
   "source": [
    "sns.set(style=\"darkgrid\", palette='deep', font_scale=1.1)\n",
    "sns.distplot(data['Fees'])"
   ]
  },
  {
   "cell_type": "markdown",
   "metadata": {},
   "source": [
    "## Lets do the EDA"
   ]
  },
  {
   "cell_type": "code",
   "execution_count": 187,
   "metadata": {
    "scrolled": true
   },
   "outputs": [
    {
     "data": {
      "text/plain": [
       "<seaborn.axisgrid.FacetGrid at 0x24b5b998108>"
      ]
     },
     "execution_count": 187,
     "metadata": {},
     "output_type": "execute_result"
    },
    {
     "data": {
      "image/png": "[encoded data removed]",
      "text/plain": [
       "<Figure size 1152x288 with 1 Axes>"
      ]
     },
     "metadata": {},
     "output_type": "display_data"
    }
   ],
   "source": [
    "sns.catplot(x='Experience',y='Fees',data=data,kind='bar',palette='Set1',aspect=4,height=4)"
   ]
  },
  {
   "cell_type": "markdown",
   "metadata": {},
   "source": [
    "From the above we can see that most of doctors with 2 to 39 years of experience has fees more than 200, and doctors with 33 years of expriance have fees more than 300, and after 53 years of exprience we can see that the fees has been dropped."
   ]
  },
  {
   "cell_type": "code",
   "execution_count": 117,
   "metadata": {
    "scrolled": true
   },
   "outputs": [
    {
     "data": {
      "text/plain": [
       "<seaborn.axisgrid.FacetGrid at 0x24b58e1d108>"
      ]
     },
     "execution_count": 117,
     "metadata": {},
     "output_type": "execute_result"
    },
    {
     "data": {
      "image/png": "[encoded data removed]",
      "text/plain": [
       "<Figure size 1152x288 with 1 Axes>"
      ]
     },
     "metadata": {},
     "output_type": "display_data"
    }
   ],
   "source": [
    "sns.catplot(x='Profile',y='Fees',data=data,kind='bar',palette='Set1',aspect=4,height=4)"
   ]
  },
  {
   "cell_type": "markdown",
   "metadata": {},
   "source": [
    "From the above we can see that the doctors who are ENT Specialist and Dermatologist have higer fees compared to other profiles."
   ]
  },
  {
   "cell_type": "code",
   "execution_count": 206,
   "metadata": {},
   "outputs": [],
   "source": [
    "data['Experience']=data['Experience'].str.split(' ').str[0].astype(int)"
   ]
  },
  {
   "cell_type": "code",
   "execution_count": 207,
   "metadata": {},
   "outputs": [
    {
     "data": {
      "text/plain": [
       "array(['BHMS, MD - Homeopathy', 'BAMS, MD - Ayurveda Medicine',\n",
       "       'MBBS, MS - Otorhinolaryngology', ...,\n",
       "       'MD - Medicine, Post Graduate Diploma in Diabetology (PGDD), MBBS, FRCP - Internal Medicine',\n",
       "       'MBBS, MS - General Surgery, FAIS, FIAGES',\n",
       "       'MBBS, MD / MS - Obstetrics & Gynaecology'], dtype=object)"
      ]
     },
     "execution_count": 207,
     "metadata": {},
     "output_type": "execute_result"
    }
   ],
   "source": [
    "data['Qualification'].unique()"
   ]
  },
  {
   "cell_type": "code",
   "execution_count": 208,
   "metadata": {},
   "outputs": [
    {
     "name": "stdout",
     "output_type": "stream",
     "text": [
      "<class 'pandas.core.frame.DataFrame'>\n",
      "Int64Index: 7948 entries, 0 to 1986\n",
      "Data columns (total 8 columns):\n",
      "DATA             7948 non-null object\n",
      "Experience       7948 non-null int32\n",
      "Fees             7948 non-null int64\n",
      "Place            7948 non-null object\n",
      "Profile          7948 non-null object\n",
      "Qualification    7948 non-null object\n",
      "Rating           7948 non-null int32\n",
      "City             7948 non-null object\n",
      "dtypes: int32(2), int64(1), object(5)\n",
      "memory usage: 496.8+ KB\n"
     ]
    }
   ],
   "source": [
    "data.info()"
   ]
  },
  {
   "cell_type": "code",
   "execution_count": 209,
   "metadata": {},
   "outputs": [],
   "source": [
    "from sklearn.preprocessing import LabelEncoder\n",
    "le=LabelEncoder()\n",
    "data['City']=le.fit_transform(data['City'])\n",
    "data['Place']=le.fit_transform(data['Place'])\n",
    "data['Profile']=le.fit_transform(data['Profile'])\n",
    "data['Qualification']=le.fit_transform(data['Qualification'])"
   ]
  },
  {
   "cell_type": "code",
   "execution_count": 210,
   "metadata": {},
   "outputs": [
    {
     "name": "stdout",
     "output_type": "stream",
     "text": [
      "<class 'pandas.core.frame.DataFrame'>\n",
      "Int64Index: 7948 entries, 0 to 1986\n",
      "Data columns (total 8 columns):\n",
      "DATA             7948 non-null object\n",
      "Experience       7948 non-null int32\n",
      "Fees             7948 non-null int64\n",
      "Place            7948 non-null int32\n",
      "Profile          7948 non-null int32\n",
      "Qualification    7948 non-null int32\n",
      "Rating           7948 non-null int32\n",
      "City             7948 non-null int32\n",
      "dtypes: int32(6), int64(1), object(1)\n",
      "memory usage: 372.6+ KB\n"
     ]
    }
   ],
   "source": [
    "#data['Qualification_2'].unique()\n",
    "data.info()"
   ]
  },
  {
   "cell_type": "code",
   "execution_count": 211,
   "metadata": {},
   "outputs": [
    {
     "data": {
      "text/plain": [
       "array([[<matplotlib.axes._subplots.AxesSubplot object at 0x0000024B5C458E88>,\n",
       "        <matplotlib.axes._subplots.AxesSubplot object at 0x0000024B5D85DEC8>,\n",
       "        <matplotlib.axes._subplots.AxesSubplot object at 0x0000024B5D8399C8>],\n",
       "       [<matplotlib.axes._subplots.AxesSubplot object at 0x0000024B5D8146C8>,\n",
       "        <matplotlib.axes._subplots.AxesSubplot object at 0x0000024B5D7F3EC8>,\n",
       "        <matplotlib.axes._subplots.AxesSubplot object at 0x0000024B5D7DC808>],\n",
       "       [<matplotlib.axes._subplots.AxesSubplot object at 0x0000024B5D7C89C8>,\n",
       "        <matplotlib.axes._subplots.AxesSubplot object at 0x0000024B5D7B5208>,\n",
       "        <matplotlib.axes._subplots.AxesSubplot object at 0x0000024B5D7B3548>]],\n",
       "      dtype=object)"
      ]
     },
     "execution_count": 211,
     "metadata": {},
     "output_type": "execute_result"
    },
    {
     "data": {
      "image/png": "[encoded data removed]",
      "text/plain": [
       "<Figure size 864x864 with 9 Axes>"
      ]
     },
     "metadata": {},
     "output_type": "display_data"
    }
   ],
   "source": [
    "sns.set(style=\"darkgrid\", palette='deep', font_scale=1.1)\n",
    "data.hist(figsize=(12,12),color='blue',edgecolor='black',linewidth=0.5)"
   ]
  },
  {
   "cell_type": "markdown",
   "metadata": {},
   "source": [
    "From the above we can see that most of the doctors are with experince with 10 years in our dataset, and most of data are evenly distributed."
   ]
  },
  {
   "cell_type": "markdown",
   "metadata": {},
   "source": [
    "## Lets Split and Scale the data"
   ]
  },
  {
   "cell_type": "code",
   "execution_count": 212,
   "metadata": {},
   "outputs": [],
   "source": [
    "## After doing feature engineering in full dataset and now we can split the data into our orignal test and train dataset\n",
    "Trainfinal=data.loc[data['DATA']=='Train']\n",
    "Testfinal=data.loc[data['DATA']=='Test']"
   ]
  },
  {
   "cell_type": "code",
   "execution_count": 213,
   "metadata": {},
   "outputs": [],
   "source": [
    "Trainfinal.drop(['DATA'],axis=1,inplace=True)\n",
    "Testfinal.drop(['DATA'],axis=1,inplace=True)"
   ]
  },
  {
   "cell_type": "code",
   "execution_count": 238,
   "metadata": {},
   "outputs": [
    {
     "data": {
      "text/html": [
       "<div>\n",
       "<style scoped>\n",
       "    .dataframe tbody tr th:only-of-type {\n",
       "        vertical-align: middle;\n",
       "    }\n",
       "\n",
       "    .dataframe tbody tr th {\n",
       "        vertical-align: top;\n",
       "    }\n",
       "\n",
       "    .dataframe thead th {\n",
       "        text-align: right;\n",
       "    }\n",
       "</style>\n",
       "<table border=\"1\" class=\"dataframe\">\n",
       "  <thead>\n",
       "    <tr style=\"text-align: right;\">\n",
       "      <th></th>\n",
       "      <th>Experience</th>\n",
       "      <th>Fees</th>\n",
       "      <th>Place</th>\n",
       "      <th>Profile</th>\n",
       "      <th>Qualification</th>\n",
       "      <th>Rating</th>\n",
       "    </tr>\n",
       "  </thead>\n",
       "  <tbody>\n",
       "    <tr>\n",
       "      <td>0</td>\n",
       "      <td>24</td>\n",
       "      <td>100</td>\n",
       "      <td>324</td>\n",
       "      <td>5</td>\n",
       "      <td>491</td>\n",
       "      <td>100</td>\n",
       "    </tr>\n",
       "    <tr>\n",
       "      <td>1</td>\n",
       "      <td>12</td>\n",
       "      <td>350</td>\n",
       "      <td>926</td>\n",
       "      <td>0</td>\n",
       "      <td>92</td>\n",
       "      <td>98</td>\n",
       "    </tr>\n",
       "    <tr>\n",
       "      <td>2</td>\n",
       "      <td>9</td>\n",
       "      <td>300</td>\n",
       "      <td>494</td>\n",
       "      <td>3</td>\n",
       "      <td>1442</td>\n",
       "      <td>0</td>\n",
       "    </tr>\n",
       "    <tr>\n",
       "      <td>3</td>\n",
       "      <td>12</td>\n",
       "      <td>250</td>\n",
       "      <td>74</td>\n",
       "      <td>0</td>\n",
       "      <td>572</td>\n",
       "      <td>0</td>\n",
       "    </tr>\n",
       "    <tr>\n",
       "      <td>4</td>\n",
       "      <td>20</td>\n",
       "      <td>250</td>\n",
       "      <td>367</td>\n",
       "      <td>0</td>\n",
       "      <td>16</td>\n",
       "      <td>100</td>\n",
       "    </tr>\n",
       "  </tbody>\n",
       "</table>\n",
       "</div>"
      ],
      "text/plain": [
       "   Experience  Fees  Place  Profile  Qualification  Rating\n",
       "0          24   100    324        5            491     100\n",
       "1          12   350    926        0             92      98\n",
       "2           9   300    494        3           1442       0\n",
       "3          12   250     74        0            572       0\n",
       "4          20   250    367        0             16     100"
      ]
     },
     "execution_count": 238,
     "metadata": {},
     "output_type": "execute_result"
    }
   ],
   "source": [
    "x=Trainfinal.iloc[:,:-1]\n",
    "x.head()"
   ]
  },
  {
   "cell_type": "code",
   "execution_count": 240,
   "metadata": {},
   "outputs": [
    {
     "data": {
      "text/html": [
       "<div>\n",
       "<style scoped>\n",
       "    .dataframe tbody tr th:only-of-type {\n",
       "        vertical-align: middle;\n",
       "    }\n",
       "\n",
       "    .dataframe tbody tr th {\n",
       "        vertical-align: top;\n",
       "    }\n",
       "\n",
       "    .dataframe thead th {\n",
       "        text-align: right;\n",
       "    }\n",
       "</style>\n",
       "<table border=\"1\" class=\"dataframe\">\n",
       "  <thead>\n",
       "    <tr style=\"text-align: right;\">\n",
       "      <th></th>\n",
       "      <th>Experience</th>\n",
       "      <th>Place</th>\n",
       "      <th>Profile</th>\n",
       "      <th>Qualification</th>\n",
       "      <th>Rating</th>\n",
       "      <th>City</th>\n",
       "    </tr>\n",
       "  </thead>\n",
       "  <tbody>\n",
       "    <tr>\n",
       "      <td>0</td>\n",
       "      <td>35</td>\n",
       "      <td>217</td>\n",
       "      <td>4</td>\n",
       "      <td>749</td>\n",
       "      <td>0</td>\n",
       "      <td>6</td>\n",
       "    </tr>\n",
       "    <tr>\n",
       "      <td>1</td>\n",
       "      <td>31</td>\n",
       "      <td>924</td>\n",
       "      <td>3</td>\n",
       "      <td>983</td>\n",
       "      <td>0</td>\n",
       "      <td>5</td>\n",
       "    </tr>\n",
       "    <tr>\n",
       "      <td>2</td>\n",
       "      <td>40</td>\n",
       "      <td>314</td>\n",
       "      <td>2</td>\n",
       "      <td>789</td>\n",
       "      <td>70</td>\n",
       "      <td>1</td>\n",
       "    </tr>\n",
       "    <tr>\n",
       "      <td>3</td>\n",
       "      <td>0</td>\n",
       "      <td>573</td>\n",
       "      <td>0</td>\n",
       "      <td>16</td>\n",
       "      <td>0</td>\n",
       "      <td>3</td>\n",
       "    </tr>\n",
       "    <tr>\n",
       "      <td>4</td>\n",
       "      <td>16</td>\n",
       "      <td>340</td>\n",
       "      <td>1</td>\n",
       "      <td>255</td>\n",
       "      <td>100</td>\n",
       "      <td>0</td>\n",
       "    </tr>\n",
       "  </tbody>\n",
       "</table>\n",
       "</div>"
      ],
      "text/plain": [
       "   Experience  Place  Profile  Qualification  Rating  City\n",
       "0          35    217        4            749       0     6\n",
       "1          31    924        3            983       0     5\n",
       "2          40    314        2            789      70     1\n",
       "3           0    573        0             16       0     3\n",
       "4          16    340        1            255     100     0"
      ]
     },
     "execution_count": 240,
     "metadata": {},
     "output_type": "execute_result"
    }
   ],
   "source": [
    "xt=Testfinal.drop(['Fees'],axis=1)\n",
    "xt.head()"
   ]
  },
  {
   "cell_type": "code",
   "execution_count": 216,
   "metadata": {},
   "outputs": [
    {
     "data": {
      "text/plain": [
       "0    100\n",
       "1    350\n",
       "2    300\n",
       "3    250\n",
       "4    250\n",
       "Name: Fees, dtype: int64"
      ]
     },
     "execution_count": 216,
     "metadata": {},
     "output_type": "execute_result"
    }
   ],
   "source": [
    "y=Trainfinal[\"Fees\"]\n",
    "y.head()"
   ]
  },
  {
   "cell_type": "code",
   "execution_count": 241,
   "metadata": {},
   "outputs": [],
   "source": [
    "from sklearn.preprocessing import StandardScaler\n",
    "ss=StandardScaler()\n",
    "x=ss.fit_transform(x,xt)"
   ]
  },
  {
   "cell_type": "code",
   "execution_count": 218,
   "metadata": {},
   "outputs": [],
   "source": [
    "from sklearn.model_selection import train_test_split,cross_val_score\n",
    "x_train,x_test,y_train,y_test=train_test_split(x,y,test_size=0.3,random_state=97)"
   ]
  },
  {
   "cell_type": "code",
   "execution_count": 219,
   "metadata": {},
   "outputs": [
    {
     "data": {
      "text/plain": [
       "((4172, 6), (1789, 6), (4172,), (1789,))"
      ]
     },
     "execution_count": 219,
     "metadata": {},
     "output_type": "execute_result"
    }
   ],
   "source": [
    "x_train.shape,x_test.shape,y_train.shape,y_test.shape"
   ]
  },
  {
   "cell_type": "markdown",
   "metadata": {},
   "source": [
    "# Lets Implement ML Algorithm."
   ]
  },
  {
   "cell_type": "code",
   "execution_count": 220,
   "metadata": {},
   "outputs": [],
   "source": [
    "from sklearn.linear_model import LinearRegression\n",
    "from sklearn.linear_model import Ridge,Lasso\n",
    "from sklearn.tree import DecisionTreeRegressor\n",
    "from sklearn.neighbors import KNeighborsRegressor\n",
    "from sklearn.ensemble import RandomForestRegressor,AdaBoostRegressor,GradientBoostingRegressor\n",
    "from sklearn.metrics import mean_squared_error,mean_absolute_error,r2_score"
   ]
  },
  {
   "cell_type": "code",
   "execution_count": 221,
   "metadata": {},
   "outputs": [],
   "source": [
    "LR=LinearRegression()\n",
    "LA=Lasso()\n",
    "RI=Ridge()\n",
    "DTR=DecisionTreeRegressor(random_state=97)\n",
    "KNR=KNeighborsRegressor()\n",
    "ABR=AdaBoostRegressor(random_state=97)\n",
    "RFR=RandomForestRegressor(random_state=97)\n",
    "GBR=GradientBoostingRegressor(random_state=97)"
   ]
  },
  {
   "cell_type": "code",
   "execution_count": 222,
   "metadata": {},
   "outputs": [],
   "source": [
    "models=[]\n",
    "models.append((\"LinearRegression\",LR))\n",
    "models.append((\"Lasso\",LA))\n",
    "models.append((\"Ridge\",RI))\n",
    "models.append((\"DecisionTreeRegressor\",DTR))\n",
    "models.append((\"AdaBoostRegressor\",ABR))\n",
    "models.append((\"RandomForestRegressor\",RFR))\n",
    "models.append((\"GradientBoostingRegressor\",GBR))"
   ]
  },
  {
   "cell_type": "code",
   "execution_count": 229,
   "metadata": {},
   "outputs": [
    {
     "name": "stdout",
     "output_type": "stream",
     "text": [
      "------------------------------------- LinearRegression -------------------------------\n",
      "LinearRegression(copy_X=True, fit_intercept=True, n_jobs=None, normalize=False)\n",
      "R2_score =  1.0\n",
      "Mean_Squared_Error = 3.154910246847739e-26\n",
      "Mean_Absolute_Error = 1.397890560526131e-13\n",
      "Root_Mean_Squared_Error = 1.7762067016109749e-13\n",
      "Cross_Val_Score =  1.0\n",
      "\n",
      "\n",
      "------------------------------------- Lasso -------------------------------\n",
      "Lasso(alpha=1.0, copy_X=True, fit_intercept=True, max_iter=1000,\n",
      "      normalize=False, positive=False, precompute=False, random_state=None,\n",
      "      selection='cyclic', tol=0.0001, warm_start=False)\n",
      "R2_score =  0.9999725558798466\n",
      "Mean_Squared_Error = 0.9995367758099407\n",
      "Mean_Absolute_Error = 0.8246326744005524\n",
      "Root_Mean_Squared_Error = 0.999768361076675\n",
      "Cross_Val_Score =  0.9999725299143606\n",
      "\n",
      "\n",
      "------------------------------------- Ridge -------------------------------\n",
      "Ridge(alpha=1.0, copy_X=True, fit_intercept=True, max_iter=None,\n",
      "      normalize=False, random_state=None, solver='auto', tol=0.001)\n",
      "R2_score =  0.9999999347050396\n",
      "Mean_Squared_Error = 0.002378094609761357\n",
      "Mean_Absolute_Error = 0.03987259874751986\n",
      "Root_Mean_Squared_Error = 0.048765711414490376\n",
      "Cross_Val_Score =  0.9999999509593916\n",
      "\n",
      "\n",
      "------------------------------------- DecisionTreeRegressor -------------------------------\n",
      "DecisionTreeRegressor(criterion='mse', max_depth=None, max_features=None,\n",
      "                      max_leaf_nodes=None, min_impurity_decrease=0.0,\n",
      "                      min_impurity_split=None, min_samples_leaf=1,\n",
      "                      min_samples_split=2, min_weight_fraction_leaf=0.0,\n",
      "                      presort=False, random_state=97, splitter='best')\n",
      "R2_score =  0.9999505040216816\n",
      "Mean_Squared_Error = 1.8026830631637787\n",
      "Mean_Absolute_Error = 0.092230296254891\n",
      "Root_Mean_Squared_Error = 1.3426403327636849\n",
      "Cross_Val_Score =  0.9999463186550803\n",
      "\n",
      "\n",
      "------------------------------------- AdaBoostRegressor -------------------------------\n",
      "AdaBoostRegressor(base_estimator=None, learning_rate=1.0, loss='linear',\n",
      "                  n_estimators=50, random_state=97)\n",
      "R2_score =  0.997509944734564\n",
      "Mean_Squared_Error = 90.68980159289691\n",
      "Mean_Absolute_Error = 7.154337883523865\n",
      "Root_Mean_Squared_Error = 9.52311932052187\n",
      "Cross_Val_Score =  0.9942533339592714\n",
      "\n",
      "\n",
      "------------------------------------- RandomForestRegressor -------------------------------\n",
      "RandomForestRegressor(bootstrap=True, criterion='mse', max_depth=None,\n",
      "                      max_features='auto', max_leaf_nodes=None,\n",
      "                      min_impurity_decrease=0.0, min_impurity_split=None,\n",
      "                      min_samples_leaf=1, min_samples_split=2,\n",
      "                      min_weight_fraction_leaf=0.0, n_estimators=10,\n",
      "                      n_jobs=None, oob_score=False, random_state=97, verbose=0,\n",
      "                      warm_start=False)\n",
      "R2_score =  0.9999499668560254\n",
      "Mean_Squared_Error = 1.8222470653996645\n",
      "Mean_Absolute_Error = 0.10061486864169927\n",
      "Root_Mean_Squared_Error = 1.3499063172678556\n",
      "Cross_Val_Score =  0.9999532589536315\n",
      "\n",
      "\n",
      "------------------------------------- GradientBoostingRegressor -------------------------------\n",
      "GradientBoostingRegressor(alpha=0.9, criterion='friedman_mse', init=None,\n",
      "                          learning_rate=0.1, loss='ls', max_depth=3,\n",
      "                          max_features=None, max_leaf_nodes=None,\n",
      "                          min_impurity_decrease=0.0, min_impurity_split=None,\n",
      "                          min_samples_leaf=1, min_samples_split=2,\n",
      "                          min_weight_fraction_leaf=0.0, n_estimators=100,\n",
      "                          n_iter_no_change=None, presort='auto',\n",
      "                          random_state=97, subsample=1.0, tol=0.0001,\n",
      "                          validation_fraction=0.1, verbose=0, warm_start=False)\n",
      "R2_score =  0.9999505046552595\n",
      "Mean_Squared_Error = 1.802659987750115\n",
      "Mean_Absolute_Error = 0.09934578461023162\n",
      "Root_Mean_Squared_Error = 1.3426317394394172\n",
      "Cross_Val_Score =  0.9999737721698615\n",
      "\n",
      "\n"
     ]
    }
   ],
   "source": [
    "Model=[]\n",
    "R2_score=[]\n",
    "cvs=[]\n",
    "MSE=[]\n",
    "MAE=[]\n",
    "RMSE=[]\n",
    "for name,model in models:\n",
    "    print('-------------------------------------',name,'-------------------------------')\n",
    "    print(model)\n",
    "    Model.append(name)\n",
    "    model.fit(x_train,y_train)\n",
    "    pr=model.predict(x_test)\n",
    "    r2=r2_score(y_test,pr)\n",
    "    print('R2_score = ',r2)\n",
    "    R2_score.append(r2)\n",
    "    mse=mean_squared_error(y_test,pr)\n",
    "    print(\"Mean_Squared_Error =\",mse)\n",
    "    MSE.append(mse)\n",
    "    mae=mean_absolute_error(y_test,pr)\n",
    "    print(\"Mean_Absolute_Error =\",mae)\n",
    "    MAE.append(mae)\n",
    "    rmse=np.sqrt(mse)\n",
    "    print(\"Root_Mean_Squared_Error =\",rmse)\n",
    "    RMSE.append(rmse)\n",
    "    score= cross_val_score(model,x,y,cv=5,scoring='r2').mean()\n",
    "    print('Cross_Val_Score = ',score)\n",
    "    cvs.append(score)\n",
    "    print('\\n')"
   ]
  },
  {
   "cell_type": "code",
   "execution_count": 230,
   "metadata": {},
   "outputs": [
    {
     "data": {
      "text/html": [
       "<div>\n",
       "<style scoped>\n",
       "    .dataframe tbody tr th:only-of-type {\n",
       "        vertical-align: middle;\n",
       "    }\n",
       "\n",
       "    .dataframe tbody tr th {\n",
       "        vertical-align: top;\n",
       "    }\n",
       "\n",
       "    .dataframe thead th {\n",
       "        text-align: right;\n",
       "    }\n",
       "</style>\n",
       "<table border=\"1\" class=\"dataframe\">\n",
       "  <thead>\n",
       "    <tr style=\"text-align: right;\">\n",
       "      <th></th>\n",
       "      <th>Model</th>\n",
       "      <th>R2_score</th>\n",
       "      <th>Mean_Squared_Error</th>\n",
       "      <th>Mean_Absolute_Error</th>\n",
       "      <th>Root_Mean_Squared_Error</th>\n",
       "      <th>Cross_val_score</th>\n",
       "    </tr>\n",
       "  </thead>\n",
       "  <tbody>\n",
       "    <tr>\n",
       "      <td>0</td>\n",
       "      <td>LinearRegression</td>\n",
       "      <td>1.000000</td>\n",
       "      <td>3.154910e-26</td>\n",
       "      <td>1.397891e-13</td>\n",
       "      <td>1.776207e-13</td>\n",
       "      <td>1.000000</td>\n",
       "    </tr>\n",
       "    <tr>\n",
       "      <td>1</td>\n",
       "      <td>Lasso</td>\n",
       "      <td>0.999973</td>\n",
       "      <td>9.995368e-01</td>\n",
       "      <td>8.246327e-01</td>\n",
       "      <td>9.997684e-01</td>\n",
       "      <td>0.999973</td>\n",
       "    </tr>\n",
       "    <tr>\n",
       "      <td>2</td>\n",
       "      <td>Ridge</td>\n",
       "      <td>1.000000</td>\n",
       "      <td>2.378095e-03</td>\n",
       "      <td>3.987260e-02</td>\n",
       "      <td>4.876571e-02</td>\n",
       "      <td>1.000000</td>\n",
       "    </tr>\n",
       "    <tr>\n",
       "      <td>3</td>\n",
       "      <td>DecisionTreeRegressor</td>\n",
       "      <td>0.999951</td>\n",
       "      <td>1.802683e+00</td>\n",
       "      <td>9.223030e-02</td>\n",
       "      <td>1.342640e+00</td>\n",
       "      <td>0.999946</td>\n",
       "    </tr>\n",
       "    <tr>\n",
       "      <td>4</td>\n",
       "      <td>AdaBoostRegressor</td>\n",
       "      <td>0.997510</td>\n",
       "      <td>9.068980e+01</td>\n",
       "      <td>7.154338e+00</td>\n",
       "      <td>9.523119e+00</td>\n",
       "      <td>0.994253</td>\n",
       "    </tr>\n",
       "    <tr>\n",
       "      <td>5</td>\n",
       "      <td>RandomForestRegressor</td>\n",
       "      <td>0.999950</td>\n",
       "      <td>1.822247e+00</td>\n",
       "      <td>1.006149e-01</td>\n",
       "      <td>1.349906e+00</td>\n",
       "      <td>0.999953</td>\n",
       "    </tr>\n",
       "    <tr>\n",
       "      <td>6</td>\n",
       "      <td>GradientBoostingRegressor</td>\n",
       "      <td>0.999951</td>\n",
       "      <td>1.802660e+00</td>\n",
       "      <td>9.934578e-02</td>\n",
       "      <td>1.342632e+00</td>\n",
       "      <td>0.999974</td>\n",
       "    </tr>\n",
       "  </tbody>\n",
       "</table>\n",
       "</div>"
      ],
      "text/plain": [
       "                       Model  R2_score  Mean_Squared_Error  \\\n",
       "0           LinearRegression  1.000000        3.154910e-26   \n",
       "1                      Lasso  0.999973        9.995368e-01   \n",
       "2                      Ridge  1.000000        2.378095e-03   \n",
       "3      DecisionTreeRegressor  0.999951        1.802683e+00   \n",
       "4          AdaBoostRegressor  0.997510        9.068980e+01   \n",
       "5      RandomForestRegressor  0.999950        1.822247e+00   \n",
       "6  GradientBoostingRegressor  0.999951        1.802660e+00   \n",
       "\n",
       "   Mean_Absolute_Error  Root_Mean_Squared_Error  Cross_val_score  \n",
       "0         1.397891e-13             1.776207e-13         1.000000  \n",
       "1         8.246327e-01             9.997684e-01         0.999973  \n",
       "2         3.987260e-02             4.876571e-02         1.000000  \n",
       "3         9.223030e-02             1.342640e+00         0.999946  \n",
       "4         7.154338e+00             9.523119e+00         0.994253  \n",
       "5         1.006149e-01             1.349906e+00         0.999953  \n",
       "6         9.934578e-02             1.342632e+00         0.999974  "
      ]
     },
     "execution_count": 230,
     "metadata": {},
     "output_type": "execute_result"
    }
   ],
   "source": [
    "result = pd.DataFrame({'Model': Model, 'R2_score': R2_score ,'Mean_Squared_Error' :MSE,'Mean_Absolute_Error' :MAE,'Root_Mean_Squared_Error' :RMSE,'Cross_val_score':cvs})\n",
    "result"
   ]
  },
  {
   "cell_type": "markdown",
   "metadata": {},
   "source": [
    "From the above we can see that almost all the models are working as best giving us score more than 90, but we can see that Linear Regression and Ridge are working as best, but we choose Ridge as our final model as MSE is low and Crossval score is high."
   ]
  },
  {
   "cell_type": "code",
   "execution_count": 231,
   "metadata": {},
   "outputs": [
    {
     "data": {
      "text/plain": [
       "['Doctors_Consultation_Fees_Prediction.obj']"
      ]
     },
     "execution_count": 231,
     "metadata": {},
     "output_type": "execute_result"
    }
   ],
   "source": [
    "from sklearn.externals import joblib\n",
    "joblib.dump(RI,'Doctors_Consultation_Fees_Prediction.obj')"
   ]
  },
  {
   "cell_type": "code",
   "execution_count": 232,
   "metadata": {},
   "outputs": [],
   "source": [
    "model=joblib.load('Doctors_Consultation_Fees_Prediction.obj')"
   ]
  },
  {
   "cell_type": "code",
   "execution_count": 233,
   "metadata": {},
   "outputs": [
    {
     "data": {
      "text/plain": [
       "array([299.99139543, 300.01257473, 499.9359769 , ..., 200.03785591,\n",
       "       499.95438767, 200.01956819])"
      ]
     },
     "execution_count": 233,
     "metadata": {},
     "output_type": "execute_result"
    }
   ],
   "source": [
    "model.predict(x_test)"
   ]
  },
  {
   "cell_type": "code",
   "execution_count": 243,
   "metadata": {},
   "outputs": [],
   "source": [
    "Predictions=model.predict(xt)"
   ]
  },
  {
   "cell_type": "code",
   "execution_count": 244,
   "metadata": {},
   "outputs": [],
   "source": [
    "pre = pd.DataFrame(Predictions)\n",
    "pre.columns = [\"prediction\"]\n",
    "pre.to_csv(\"Doctors_Consultation_Fees_Prediction_results.csv\")"
   ]
  },
  {
   "cell_type": "code",
   "execution_count": null,
   "metadata": {},
   "outputs": [],
   "source": []
  }
 ],
 "metadata": {
  "kernelspec": {
   "display_name": "Python 3",
   "language": "python",
   "name": "python3"
  },
  "language_info": {
   "codemirror_mode": {
    "name": "ipython",
    "version": 3
   },
   "file_extension": ".py",
   "mimetype": "text/x-python",
   "name": "python",
   "nbconvert_exporter": "python",
   "pygments_lexer": "ipython3",
   "version": "3.7.4"
  }
 },
 "nbformat": 4,
 "nbformat_minor": 2
}
